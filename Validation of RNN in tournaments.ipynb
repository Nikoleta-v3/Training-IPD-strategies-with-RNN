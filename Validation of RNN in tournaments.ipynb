{
 "cells": [
  {
   "cell_type": "code",
   "execution_count": null,
   "metadata": {},
   "outputs": [],
   "source": [
    "import axelrod as axl"
   ]
  },
  {
   "cell_type": "code",
   "execution_count": null,
   "metadata": {},
   "outputs": [],
   "source": [
    "import pandas as pd\n",
    "\n",
    "from keras.models import load_model"
   ]
  },
  {
   "cell_type": "code",
   "execution_count": 4,
   "metadata": {},
   "outputs": [],
   "source": [
    "import numpy as np"
   ]
  },
  {
   "cell_type": "code",
   "execution_count": 5,
   "metadata": {},
   "outputs": [],
   "source": [
    "import matplotlib.pyplot as plt"
   ]
  },
  {
   "cell_type": "code",
   "execution_count": 6,
   "metadata": {},
   "outputs": [],
   "source": [
    "from keras.models import Sequential"
   ]
  },
  {
   "cell_type": "code",
   "execution_count": 7,
   "metadata": {},
   "outputs": [],
   "source": [
    "from keras.layers import (\n",
    "    LSTM,\n",
    "    Bidirectional,\n",
    "    CuDNNLSTM,\n",
    "    Dense,\n",
    "    Dropout,\n",
    "    RepeatVector,\n",
    "    TimeDistributed,\n",
    ")"
   ]
  },
  {
   "cell_type": "code",
   "execution_count": 8,
   "metadata": {},
   "outputs": [],
   "source": [
    "from keras.layers.embeddings import Embedding"
   ]
  },
  {
   "cell_type": "markdown",
   "metadata": {},
   "source": [
    "**classification**"
   ]
  },
  {
   "cell_type": "code",
   "execution_count": 9,
   "metadata": {},
   "outputs": [],
   "source": [
    "drop_out_rate = 0.2"
   ]
  },
  {
   "cell_type": "code",
   "execution_count": 11,
   "metadata": {},
   "outputs": [],
   "source": [
    "model = Sequential()\n",
    "\n",
    "model.add(\n",
    "        LSTM(\n",
    "            100, return_sequences=True, input_shape=(None, 1)\n",
    "        )\n",
    "    )\n",
    "\n",
    "model.add(Dropout(rate=drop_out_rate))\n",
    "\n",
    "model.add(Dense(1, activation=\"sigmoid\"))"
   ]
  },
  {
   "cell_type": "code",
   "execution_count": 12,
   "metadata": {},
   "outputs": [
    {
     "name": "stdout",
     "output_type": "stream",
     "text": [
      "WARNING:tensorflow:From //anaconda3/envs/rnn/lib/python3.6/site-packages/keras/backend/tensorflow_backend.py:174: The name tf.get_default_session is deprecated. Please use tf.compat.v1.get_default_session instead.\n",
      "\n"
     ]
    }
   ],
   "source": [
    "model.load_weights('hawk_output/output_lstm/final_lstm_model_5.h5')"
   ]
  },
  {
   "cell_type": "code",
   "execution_count": 13,
   "metadata": {},
   "outputs": [],
   "source": [
    "test_input  = np.array([0, 1, 2])\n",
    "test_input = test_input.reshape((1, 3, 1))"
   ]
  },
  {
   "cell_type": "code",
   "execution_count": 14,
   "metadata": {},
   "outputs": [
    {
     "data": {
      "text/plain": [
       "array([0.8121015], dtype=float32)"
      ]
     },
     "execution_count": 14,
     "metadata": {},
     "output_type": "execute_result"
    }
   ],
   "source": [
    "model.predict(test_input)[0][-1]"
   ]
  },
  {
   "cell_type": "code",
   "execution_count": 15,
   "metadata": {},
   "outputs": [],
   "source": [
    "def reshape_history_lstm_model(history):\n",
    "    return np.array(history).reshape(1, len(history), 1)"
   ]
  },
  {
   "cell_type": "code",
   "execution_count": 16,
   "metadata": {},
   "outputs": [],
   "source": [
    "from axelrod.random_ import random_choice\n",
    "\n",
    "C, D = axl.Action.C, axl.Action.D\n",
    "\n",
    "class LSTMPlayer(axl.Player):\n",
    "    name = \"The LSTM homie\"\n",
    "    classifier = {\n",
    "        \"memory_depth\": float(\"inf\"),\n",
    "        \"stochastic\": False,\n",
    "        \"inspects_source\": False,\n",
    "        \"manipulates_source\": False,\n",
    "        \"manipulates_state\": False,\n",
    "    }\n",
    "\n",
    "    def __init__(self, model, reshape_history_funct, opening_probability=0.70):\n",
    "        self.model = model\n",
    "        self.opening_probability = opening_probability\n",
    "        self.reshape_history_function = reshape_history_funct\n",
    "        super().__init__()\n",
    "\n",
    "    def strategy(self, opponent):\n",
    "        if len(self.history) == 0:\n",
    "            return random_choice(self.opening_probability)\n",
    "\n",
    "        history = [action.value for action in opponent.history]\n",
    "\n",
    "        prediction = self.model.predict(self.reshape_history_function(history))\n",
    "    \n",
    "\n",
    "        return axl.Action(round(prediction[0][-1][0]))\n",
    "\n",
    "    def __repr__(self):\n",
    "        return self.name"
   ]
  },
  {
   "cell_type": "code",
   "execution_count": 17,
   "metadata": {},
   "outputs": [],
   "source": [
    "player = LSTMPlayer(model , reshape_history_lstm_model)"
   ]
  },
  {
   "cell_type": "code",
   "execution_count": 18,
   "metadata": {},
   "outputs": [],
   "source": [
    "match = axl.Match([player, axl.Grudger()], turns=5)"
   ]
  },
  {
   "cell_type": "code",
   "execution_count": 19,
   "metadata": {},
   "outputs": [],
   "source": [
    "_ = match.play()"
   ]
  },
  {
   "cell_type": "code",
   "execution_count": 20,
   "metadata": {},
   "outputs": [
    {
     "data": {
      "text/plain": [
       "[(D, C), (C, D), (D, D), (D, D), (D, D)]"
      ]
     },
     "execution_count": 20,
     "metadata": {},
     "output_type": "execute_result"
    }
   ],
   "source": [
    "match.result"
   ]
  },
  {
   "cell_type": "code",
   "execution_count": 21,
   "metadata": {},
   "outputs": [],
   "source": [
    "valids = [pd.read_csv(f'hawk_output/output_lstm/validation_measures_run_100_{i}.csv',\n",
    "                    index_col=0) for i in range(1, 6)]"
   ]
  },
  {
   "cell_type": "code",
   "execution_count": 22,
   "metadata": {},
   "outputs": [],
   "source": [
    "valid = pd.concat(valids).reset_index()"
   ]
  },
  {
   "cell_type": "code",
   "execution_count": 23,
   "metadata": {},
   "outputs": [
    {
     "data": {
      "text/plain": [
       "5000"
      ]
     },
     "execution_count": 23,
     "metadata": {},
     "output_type": "execute_result"
    }
   ],
   "source": [
    "len(valid)"
   ]
  },
  {
   "cell_type": "code",
   "execution_count": 24,
   "metadata": {},
   "outputs": [
    {
     "data": {
      "text/plain": [
       "Index(['index', 'acc', 'val_acc', 'loss', 'val_loss'], dtype='object')"
      ]
     },
     "execution_count": 24,
     "metadata": {},
     "output_type": "execute_result"
    }
   ],
   "source": [
    "valid.columns"
   ]
  },
  {
   "cell_type": "code",
   "execution_count": 25,
   "metadata": {},
   "outputs": [
    {
     "data": {
      "text/html": [
       "<div>\n",
       "<style scoped>\n",
       "    .dataframe tbody tr th:only-of-type {\n",
       "        vertical-align: middle;\n",
       "    }\n",
       "\n",
       "    .dataframe tbody tr th {\n",
       "        vertical-align: top;\n",
       "    }\n",
       "\n",
       "    .dataframe thead th {\n",
       "        text-align: right;\n",
       "    }\n",
       "</style>\n",
       "<table border=\"1\" class=\"dataframe\">\n",
       "  <thead>\n",
       "    <tr style=\"text-align: right;\">\n",
       "      <th></th>\n",
       "      <th>acc</th>\n",
       "      <th>val_acc</th>\n",
       "    </tr>\n",
       "  </thead>\n",
       "  <tbody>\n",
       "    <tr>\n",
       "      <th>0</th>\n",
       "      <td>0.784263</td>\n",
       "      <td>0.790209</td>\n",
       "    </tr>\n",
       "    <tr>\n",
       "      <th>1</th>\n",
       "      <td>0.796543</td>\n",
       "      <td>0.804337</td>\n",
       "    </tr>\n",
       "    <tr>\n",
       "      <th>2</th>\n",
       "      <td>0.801712</td>\n",
       "      <td>0.804825</td>\n",
       "    </tr>\n",
       "    <tr>\n",
       "      <th>3</th>\n",
       "      <td>0.799004</td>\n",
       "      <td>0.804526</td>\n",
       "    </tr>\n",
       "    <tr>\n",
       "      <th>4</th>\n",
       "      <td>0.804468</td>\n",
       "      <td>0.803885</td>\n",
       "    </tr>\n",
       "  </tbody>\n",
       "</table>\n",
       "</div>"
      ],
      "text/plain": [
       "        acc   val_acc\n",
       "0  0.784263  0.790209\n",
       "1  0.796543  0.804337\n",
       "2  0.801712  0.804825\n",
       "3  0.799004  0.804526\n",
       "4  0.804468  0.803885"
      ]
     },
     "execution_count": 25,
     "metadata": {},
     "output_type": "execute_result"
    }
   ],
   "source": [
    "valid[['acc', 'val_acc']].head()"
   ]
  },
  {
   "cell_type": "code",
   "execution_count": 26,
   "metadata": {},
   "outputs": [
    {
     "data": {
      "image/png": "[encoded data removed]",
      "text/plain": [
       "<Figure size 432x288 with 1 Axes>"
      ]
     },
     "metadata": {
      "needs_background": "light"
     },
     "output_type": "display_data"
    }
   ],
   "source": [
    "plt.plot(valid['acc'], ':')\n",
    "plt.plot(valid['val_acc']);"
   ]
  },
  {
   "cell_type": "code",
   "execution_count": 27,
   "metadata": {},
   "outputs": [
    {
     "data": {
      "text/plain": [
       "[<matplotlib.lines.Line2D at 0x12eadcc50>]"
      ]
     },
     "execution_count": 27,
     "metadata": {},
     "output_type": "execute_result"
    },
    {
     "data": {
      "image/png": "[encoded data removed]",
      "text/plain": [
       "<Figure size 432x288 with 1 Axes>"
      ]
     },
     "metadata": {
      "needs_background": "light"
     },
     "output_type": "display_data"
    }
   ],
   "source": [
    "plt.plot(valid['val_loss']);\n",
    "plt.plot(valid['loss'], ':')"
   ]
  },
  {
   "cell_type": "code",
   "execution_count": 49,
   "metadata": {},
   "outputs": [],
   "source": [
    "strategies_tournament = [s() for s in axl.basic_strategies] + [player]"
   ]
  },
  {
   "cell_type": "code",
   "execution_count": 50,
   "metadata": {},
   "outputs": [],
   "source": [
    "tournament = axl.Tournament(players=strategies_tournament, turns=204, repetitions=10)"
   ]
  },
  {
   "cell_type": "code",
   "execution_count": 51,
   "metadata": {},
   "outputs": [],
   "source": [
    "results = tournament.play(progress_bar=False)"
   ]
  },
  {
   "cell_type": "code",
   "execution_count": 52,
   "metadata": {},
   "outputs": [
    {
     "name": "stderr",
     "output_type": "stream",
     "text": [
      "//anaconda3/envs/rnn/lib/python3.6/site-packages/ipykernel_launcher.py:3: UserWarning: Matplotlib is currently using module://ipykernel.pylab.backend_inline, which is a non-GUI backend, so cannot show the figure.\n",
      "  This is separate from the ipykernel package so we can avoid doing imports until\n"
     ]
    },
    {
     "data": {
      "image/png": "[encoded data removed]",
      "text/plain": [
       "<Figure size 864x432 with 1 Axes>"
      ]
     },
     "metadata": {
      "needs_background": "light"
     },
     "output_type": "display_data"
    }
   ],
   "source": [
    "plot = axl.Plot(results)\n",
    "p = plot.boxplot()\n",
    "p.show()"
   ]
  },
  {
   "cell_type": "code",
   "execution_count": 53,
   "metadata": {},
   "outputs": [],
   "source": [
    "model.load_weights('hawk_output/output_lstm/final_lstm_model_5.h5')"
   ]
  },
  {
   "cell_type": "code",
   "execution_count": 54,
   "metadata": {},
   "outputs": [],
   "source": [
    "player = LSTMPlayer(model , reshape_history_lstm_model)"
   ]
  },
  {
   "cell_type": "code",
   "execution_count": 55,
   "metadata": {},
   "outputs": [],
   "source": [
    "strategies_tournament = [s() for s in axl.basic_strategies] + [player]\n",
    "tournament = axl.Tournament(players=strategies_tournament, turns=204, repetitions=10)\n",
    "results = tournament.play(progress_bar=False)"
   ]
  },
  {
   "cell_type": "code",
   "execution_count": 56,
   "metadata": {},
   "outputs": [
    {
     "name": "stderr",
     "output_type": "stream",
     "text": [
      "//anaconda3/envs/rnn/lib/python3.6/site-packages/ipykernel_launcher.py:3: UserWarning: Matplotlib is currently using module://ipykernel.pylab.backend_inline, which is a non-GUI backend, so cannot show the figure.\n",
      "  This is separate from the ipykernel package so we can avoid doing imports until\n"
     ]
    },
    {
     "data": {
      "image/png": "[encoded data removed]",
      "text/plain": [
       "<Figure size 864x432 with 1 Axes>"
      ]
     },
     "metadata": {
      "needs_background": "light"
     },
     "output_type": "display_data"
    }
   ],
   "source": [
    "plot = axl.Plot(results)\n",
    "p = plot.boxplot()\n",
    "p.show()"
   ]
  },
  {
   "cell_type": "markdown",
   "metadata": {},
   "source": [
    "**Predict own data**"
   ]
  },
  {
   "cell_type": "code",
   "execution_count": 112,
   "metadata": {},
   "outputs": [],
   "source": [
    "from importlib.machinery import SourceFileLoader\n",
    "\n",
    "tools = SourceFileLoader(\"tools\", \"train_lstm.py\").load_module()"
   ]
  },
  {
   "cell_type": "code",
   "execution_count": 113,
   "metadata": {},
   "outputs": [],
   "source": [
    "outputs = pd.read_csv(\"data/targets.csv\", index_col=0, nrows=1000)\n",
    "y = tools.format_sequences_to_output(outputs)\n",
    "\n",
    "sequences = pd.read_csv(\"data/sequences.csv\", index_col=0, nrows=1000)\n",
    "inputs = tools.format_sequences_to_input(sequences)"
   ]
  },
  {
   "cell_type": "code",
   "execution_count": 114,
   "metadata": {},
   "outputs": [
    {
     "data": {
      "text/plain": [
       "array([0, 0, 0, 0, 0, 0, 0, 0, 0, 0, 0, 0, 0, 0, 0, 0, 0, 0, 0, 0, 0, 0,\n",
       "       0, 0, 0, 0, 0, 0, 0, 0, 0, 0, 1, 1, 1, 1, 1, 1, 1, 1, 1, 1, 1, 1,\n",
       "       1, 1, 1, 1, 1, 1, 1, 1, 1, 1, 1, 1, 1, 1, 1, 1, 1, 1, 1, 1, 1, 1,\n",
       "       1, 1, 1, 1, 1, 1, 1, 1, 1, 1, 1, 1, 1, 1, 1, 1, 1, 1, 1, 1, 1, 1,\n",
       "       1, 1, 1, 1, 1, 1, 1, 1, 1, 1, 1, 1, 1, 1, 1, 1, 1, 1, 1, 1, 1, 1,\n",
       "       1, 1, 1, 1, 1, 1, 1, 1, 1, 1, 1, 1, 1, 1, 1, 1, 0, 0, 0, 0, 0, 0,\n",
       "       0, 0, 0, 0, 0, 0, 0, 0, 1, 0, 0, 0, 0, 0, 0, 0, 0, 0, 0, 0, 0, 0,\n",
       "       0, 0, 0, 0, 0, 0, 0, 0, 0, 0, 0, 0, 0, 0, 0, 0, 0, 0, 0, 0, 0, 0,\n",
       "       0, 0, 0, 0, 0, 0, 0, 0, 0, 0, 0, 0, 0, 0, 0, 0, 0, 0, 0, 0, 0, 0,\n",
       "       0, 0, 0, 0, 0, 0])"
      ]
     },
     "execution_count": 114,
     "metadata": {},
     "output_type": "execute_result"
    }
   ],
   "source": [
    "y[-30]"
   ]
  },
  {
   "cell_type": "code",
   "execution_count": 115,
   "metadata": {},
   "outputs": [
    {
     "data": {
      "text/plain": [
       "array([1, 1, 0, 1, 0, 1, 0, 1, 0, 1, 0, 1, 0, 1, 0, 1, 0, 1, 0, 1, 0, 1,\n",
       "       0, 1, 0, 1, 0, 1, 0, 1, 0, 1, 0, 1, 1, 1, 1, 1, 1, 1, 1, 1, 1, 1,\n",
       "       1, 1, 1, 1, 1, 1, 1, 1, 1, 1, 1, 1, 1, 1, 1, 1, 1, 1, 1, 1, 1, 1,\n",
       "       1, 1, 1, 1, 1, 1, 1, 1, 1, 1, 1, 1, 1, 1, 1, 1, 1, 1, 1, 1, 1, 1,\n",
       "       1, 1, 1, 1, 1, 1, 1, 1, 1, 1, 1, 1, 1, 1, 1, 1, 1, 1, 1, 1, 1, 1,\n",
       "       1, 1, 1, 1, 1, 1, 1, 1, 1, 1, 1, 1, 1, 1, 1, 1, 1, 1, 0, 1, 0, 1,\n",
       "       0, 1, 0, 1, 0, 1, 0, 1, 0, 1, 1, 0, 1, 0, 1, 0, 1, 0, 1, 0, 1, 0,\n",
       "       1, 0, 1, 0, 1, 0, 1, 0, 1, 0, 1, 0, 1, 0, 1, 0, 1, 0, 1, 0, 1, 0,\n",
       "       1, 0, 1, 0, 1, 0, 1, 0, 1, 0, 1, 0, 1, 0, 1, 0, 1, 0, 1, 0, 1, 0,\n",
       "       1, 0, 1, 0, 1, 0])"
      ]
     },
     "execution_count": 115,
     "metadata": {},
     "output_type": "execute_result"
    }
   ],
   "source": [
    "inputs[-30]"
   ]
  },
  {
   "cell_type": "code",
   "execution_count": 116,
   "metadata": {},
   "outputs": [
    {
     "data": {
      "text/plain": [
       "(204,)"
      ]
     },
     "execution_count": 116,
     "metadata": {},
     "output_type": "execute_result"
    }
   ],
   "source": [
    "inputs[-30].shape"
   ]
  },
  {
   "cell_type": "code",
   "execution_count": 117,
   "metadata": {},
   "outputs": [
    {
     "data": {
      "text/plain": [
       "array([[[0.8796866 ],\n",
       "        [0.86917883],\n",
       "        [0.29373693],\n",
       "        [0.24996844],\n",
       "        [0.02862731],\n",
       "        [0.01995292],\n",
       "        [0.02985868],\n",
       "        [0.05387262],\n",
       "        [0.03093144],\n",
       "        [0.02887726],\n",
       "        [0.0409762 ],\n",
       "        [0.02842844],\n",
       "        [0.04366183],\n",
       "        [0.09792021],\n",
       "        [0.09381932],\n",
       "        [0.03800121],\n",
       "        [0.03449011],\n",
       "        [0.07274333],\n",
       "        [0.06501108],\n",
       "        [0.04114074],\n",
       "        [0.03836063],\n",
       "        [0.07653537],\n",
       "        [0.06838796],\n",
       "        [0.03150693],\n",
       "        [0.02669027],\n",
       "        [0.05328289],\n",
       "        [0.06231096],\n",
       "        [0.0276956 ],\n",
       "        [0.02518958],\n",
       "        [0.05698955],\n",
       "        [0.05830318],\n",
       "        [0.0229688 ],\n",
       "        [0.019198  ],\n",
       "        [0.05076811],\n",
       "        [0.28602952],\n",
       "        [0.47736502],\n",
       "        [0.7754152 ],\n",
       "        [0.9110073 ],\n",
       "        [0.90189636],\n",
       "        [0.9002011 ],\n",
       "        [0.90064436],\n",
       "        [0.9216983 ],\n",
       "        [0.932068  ],\n",
       "        [0.9336466 ],\n",
       "        [0.9327843 ],\n",
       "        [0.93246835],\n",
       "        [0.9323419 ],\n",
       "        [0.93171346],\n",
       "        [0.9325037 ],\n",
       "        [0.93040884],\n",
       "        [0.9253111 ],\n",
       "        [0.9180547 ],\n",
       "        [0.9129654 ],\n",
       "        [0.9076904 ],\n",
       "        [0.9001652 ],\n",
       "        [0.8919058 ],\n",
       "        [0.8753363 ],\n",
       "        [0.8547365 ],\n",
       "        [0.841305  ],\n",
       "        [0.83176905],\n",
       "        [0.82807475],\n",
       "        [0.826867  ],\n",
       "        [0.83154285],\n",
       "        [0.83375967],\n",
       "        [0.8336109 ],\n",
       "        [0.83224154],\n",
       "        [0.8353566 ],\n",
       "        [0.8393228 ],\n",
       "        [0.84143376],\n",
       "        [0.84265554],\n",
       "        [0.8445791 ],\n",
       "        [0.8463979 ],\n",
       "        [0.8477056 ],\n",
       "        [0.8489817 ],\n",
       "        [0.8501733 ],\n",
       "        [0.8509058 ],\n",
       "        [0.8512666 ],\n",
       "        [0.8515873 ],\n",
       "        [0.851887  ],\n",
       "        [0.852031  ],\n",
       "        [0.85206056],\n",
       "        [0.8521097 ],\n",
       "        [0.85218984],\n",
       "        [0.85224366],\n",
       "        [0.852278  ],\n",
       "        [0.8523411 ],\n",
       "        [0.8524289 ],\n",
       "        [0.85250616],\n",
       "        [0.85256886],\n",
       "        [0.852634  ],\n",
       "        [0.85269964],\n",
       "        [0.8527513 ],\n",
       "        [0.8527887 ],\n",
       "        [0.8528211 ],\n",
       "        [0.8528501 ],\n",
       "        [0.85287094],\n",
       "        [0.8528846 ],\n",
       "        [0.8528962 ],\n",
       "        [0.8529072 ],\n",
       "        [0.852916  ],\n",
       "        [0.8529229 ],\n",
       "        [0.85293007],\n",
       "        [0.85293776],\n",
       "        [0.8529451 ],\n",
       "        [0.8529518 ],\n",
       "        [0.8529586 ],\n",
       "        [0.8529655 ],\n",
       "        [0.85297185],\n",
       "        [0.8529777 ],\n",
       "        [0.8529831 ],\n",
       "        [0.8529881 ],\n",
       "        [0.85299265],\n",
       "        [0.8529967 ],\n",
       "        [0.8530002 ],\n",
       "        [0.85300344],\n",
       "        [0.85300636],\n",
       "        [0.8530089 ],\n",
       "        [0.85301125],\n",
       "        [0.8530134 ],\n",
       "        [0.85301536],\n",
       "        [0.85301715],\n",
       "        [0.8530187 ],\n",
       "        [0.85302025],\n",
       "        [0.8530216 ],\n",
       "        [0.8530229 ],\n",
       "        [0.85302407],\n",
       "        [0.85302514],\n",
       "        [0.85302615],\n",
       "        [0.6542852 ],\n",
       "        [0.71974355],\n",
       "        [0.52152073],\n",
       "        [0.64516264],\n",
       "        [0.5343603 ],\n",
       "        [0.3451708 ],\n",
       "        [0.33101237],\n",
       "        [0.2959714 ],\n",
       "        [0.18487239],\n",
       "        [0.20586655],\n",
       "        [0.1878838 ],\n",
       "        [0.1422723 ],\n",
       "        [0.16194624],\n",
       "        [0.10613772],\n",
       "        [0.2307513 ],\n",
       "        [0.1055167 ],\n",
       "        [0.09265199],\n",
       "        [0.11717057],\n",
       "        [0.08001381],\n",
       "        [0.12170637],\n",
       "        [0.06741068],\n",
       "        [0.10735014],\n",
       "        [0.05446941],\n",
       "        [0.09796196],\n",
       "        [0.05223119],\n",
       "        [0.09281901],\n",
       "        [0.04859021],\n",
       "        [0.08773896],\n",
       "        [0.04723459],\n",
       "        [0.08511689],\n",
       "        [0.04612464],\n",
       "        [0.08313218],\n",
       "        [0.04546967],\n",
       "        [0.08195177],\n",
       "        [0.04497948],\n",
       "        [0.08091721],\n",
       "        [0.04466337],\n",
       "        [0.0802218 ],\n",
       "        [0.04438111],\n",
       "        [0.07967767],\n",
       "        [0.04417706],\n",
       "        [0.0792923 ],\n",
       "        [0.04401723],\n",
       "        [0.07899833],\n",
       "        [0.04390165],\n",
       "        [0.0787769 ],\n",
       "        [0.04381457],\n",
       "        [0.07859659],\n",
       "        [0.04374838],\n",
       "        [0.07843718],\n",
       "        [0.04369369],\n",
       "        [0.07827479],\n",
       "        [0.04364291],\n",
       "        [0.07808447],\n",
       "        [0.04358742],\n",
       "        [0.07783464],\n",
       "        [0.04351726],\n",
       "        [0.0774278 ],\n",
       "        [0.04339558],\n",
       "        [0.07675135],\n",
       "        [0.04314369],\n",
       "        [0.07560095],\n",
       "        [0.04265788],\n",
       "        [0.07393336],\n",
       "        [0.04185414],\n",
       "        [0.07142338],\n",
       "        [0.04077518],\n",
       "        [0.06758884],\n",
       "        [0.03938878],\n",
       "        [0.06262061],\n",
       "        [0.03768447],\n",
       "        [0.05646357],\n",
       "        [0.0357739 ],\n",
       "        [0.05014313],\n",
       "        [0.03357065],\n",
       "        [0.04436183]]], dtype=float32)"
      ]
     },
     "execution_count": 117,
     "metadata": {},
     "output_type": "execute_result"
    }
   ],
   "source": [
    "model.predict(inputs[-30].reshape(1, 204, 1))"
   ]
  }
 ],
 "metadata": {
  "kernelspec": {
   "display_name": "rnn",
   "language": "python",
   "name": "rnn"
  },
  "language_info": {
   "codemirror_mode": {
    "name": "ipython",
    "version": 3
   },
   "file_extension": ".py",
   "mimetype": "text/x-python",
   "name": "python",
   "nbconvert_exporter": "python",
   "pygments_lexer": "ipython3",
   "version": "3.6.7"
  }
 },
 "nbformat": 4,
 "nbformat_minor": 2
}
