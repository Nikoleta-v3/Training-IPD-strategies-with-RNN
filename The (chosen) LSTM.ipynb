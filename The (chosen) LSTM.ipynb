{
 "cells": [
  {
   "cell_type": "code",
   "execution_count": 1,
   "metadata": {},
   "outputs": [],
   "source": [
    "import pandas as pd\n",
    "import numpy as np"
   ]
  },
  {
   "cell_type": "code",
   "execution_count": 3,
   "metadata": {},
   "outputs": [],
   "source": [
    "import keras"
   ]
  },
  {
   "cell_type": "markdown",
   "metadata": {},
   "source": [
    "**Prepare Data**"
   ]
  },
  {
   "cell_type": "markdown",
   "metadata": {},
   "source": [
    "Sequences will be transform as follow:\n",
    "\n",
    "\n",
    "Let sequence be: $[x_1, x_2, x_3, x_4, x_5]$\n",
    "\n",
    "where $x_i \\in \\{-1, 1\\}$ where -1 corresponds to defection and 1 to a cooperation. "
   ]
  },
  {
   "cell_type": "code",
   "execution_count": 4,
   "metadata": {},
   "outputs": [],
   "source": [
    "def batch_generator(input_path, output_path, bs=2470):\n",
    "    \n",
    "    while True:\n",
    "        skip = []\n",
    "        for iterations in range(0, 202):\n",
    "            if iterations > 0:\n",
    "                skip += [x for x in range((iterations - 1) * bs, bs * iterations)]\n",
    "            batch = pd.read_csv(input_path,\n",
    "                                nrows=bs,\n",
    "                                skiprows=skip,\n",
    "                                index_col=0).values\n",
    "\n",
    "            output_batch = pd.read_csv(output_path,\n",
    "                                       nrows=bs,\n",
    "                                       skiprows=skip,\n",
    "                                       index_col=0).values        \n",
    "\n",
    "            batch = np.array([[x for x in mini_batch if np.isnan(x) == False] for mini_batch in batch])\n",
    "            output_batch = np.array([[x for x in mini_batch if np.isnan(x) == False] for mini_batch in output_batch])\n",
    "\n",
    "            try:\n",
    "                batch = batch.reshape((batch.shape[0], batch.shape[1], 1))\n",
    "                output_batch = output_batch.reshape((output_batch.shape[0], output_batch.shape[1], 1))\n",
    "            except IndexError:\n",
    "                batch = batch.reshape((batch.shape[0], 1, 1))\n",
    "                output_batch = output_batch.reshape((output_batch.shape[0], 1, 1))\n",
    "        \n",
    "            yield (batch, output_batch)"
   ]
  },
  {
   "cell_type": "code",
   "execution_count": 12,
   "metadata": {},
   "outputs": [],
   "source": [
    "df = pd.read_csv('inputs_test.csv', index_col=0)"
   ]
  },
  {
   "cell_type": "code",
   "execution_count": 13,
   "metadata": {},
   "outputs": [
    {
     "data": {
      "text/html": [
       "<div>\n",
       "<style scoped>\n",
       "    .dataframe tbody tr th:only-of-type {\n",
       "        vertical-align: middle;\n",
       "    }\n",
       "\n",
       "    .dataframe tbody tr th {\n",
       "        vertical-align: top;\n",
       "    }\n",
       "\n",
       "    .dataframe thead th {\n",
       "        text-align: right;\n",
       "    }\n",
       "</style>\n",
       "<table border=\"1\" class=\"dataframe\">\n",
       "  <thead>\n",
       "    <tr style=\"text-align: right;\">\n",
       "      <th></th>\n",
       "      <th>0</th>\n",
       "      <th>1</th>\n",
       "      <th>2</th>\n",
       "      <th>3</th>\n",
       "      <th>4</th>\n",
       "      <th>5</th>\n",
       "      <th>6</th>\n",
       "      <th>7</th>\n",
       "      <th>8</th>\n",
       "      <th>9</th>\n",
       "      <th>...</th>\n",
       "      <th>192</th>\n",
       "      <th>193</th>\n",
       "      <th>194</th>\n",
       "      <th>195</th>\n",
       "      <th>196</th>\n",
       "      <th>197</th>\n",
       "      <th>198</th>\n",
       "      <th>199</th>\n",
       "      <th>200</th>\n",
       "      <th>201</th>\n",
       "    </tr>\n",
       "  </thead>\n",
       "  <tbody>\n",
       "    <tr>\n",
       "      <th>246031</th>\n",
       "      <td>1</td>\n",
       "      <td>1.0</td>\n",
       "      <td>1.0</td>\n",
       "      <td>1.0</td>\n",
       "      <td>1.0</td>\n",
       "      <td>1.0</td>\n",
       "      <td>1.0</td>\n",
       "      <td>1.0</td>\n",
       "      <td>1.0</td>\n",
       "      <td>1.0</td>\n",
       "      <td>...</td>\n",
       "      <td>1.0</td>\n",
       "      <td>1.0</td>\n",
       "      <td>1.0</td>\n",
       "      <td>1.0</td>\n",
       "      <td>1.0</td>\n",
       "      <td>1.0</td>\n",
       "      <td>1.0</td>\n",
       "      <td>1.0</td>\n",
       "      <td>1.0</td>\n",
       "      <td>1.0</td>\n",
       "    </tr>\n",
       "    <tr>\n",
       "      <th>246032</th>\n",
       "      <td>1</td>\n",
       "      <td>1.0</td>\n",
       "      <td>1.0</td>\n",
       "      <td>1.0</td>\n",
       "      <td>1.0</td>\n",
       "      <td>1.0</td>\n",
       "      <td>1.0</td>\n",
       "      <td>1.0</td>\n",
       "      <td>1.0</td>\n",
       "      <td>1.0</td>\n",
       "      <td>...</td>\n",
       "      <td>1.0</td>\n",
       "      <td>1.0</td>\n",
       "      <td>1.0</td>\n",
       "      <td>1.0</td>\n",
       "      <td>1.0</td>\n",
       "      <td>1.0</td>\n",
       "      <td>1.0</td>\n",
       "      <td>1.0</td>\n",
       "      <td>1.0</td>\n",
       "      <td>1.0</td>\n",
       "    </tr>\n",
       "    <tr>\n",
       "      <th>246033</th>\n",
       "      <td>1</td>\n",
       "      <td>1.0</td>\n",
       "      <td>1.0</td>\n",
       "      <td>1.0</td>\n",
       "      <td>1.0</td>\n",
       "      <td>1.0</td>\n",
       "      <td>1.0</td>\n",
       "      <td>1.0</td>\n",
       "      <td>1.0</td>\n",
       "      <td>1.0</td>\n",
       "      <td>...</td>\n",
       "      <td>1.0</td>\n",
       "      <td>1.0</td>\n",
       "      <td>1.0</td>\n",
       "      <td>1.0</td>\n",
       "      <td>1.0</td>\n",
       "      <td>1.0</td>\n",
       "      <td>1.0</td>\n",
       "      <td>1.0</td>\n",
       "      <td>1.0</td>\n",
       "      <td>1.0</td>\n",
       "    </tr>\n",
       "    <tr>\n",
       "      <th>246034</th>\n",
       "      <td>1</td>\n",
       "      <td>1.0</td>\n",
       "      <td>1.0</td>\n",
       "      <td>1.0</td>\n",
       "      <td>1.0</td>\n",
       "      <td>1.0</td>\n",
       "      <td>1.0</td>\n",
       "      <td>1.0</td>\n",
       "      <td>1.0</td>\n",
       "      <td>1.0</td>\n",
       "      <td>...</td>\n",
       "      <td>1.0</td>\n",
       "      <td>1.0</td>\n",
       "      <td>1.0</td>\n",
       "      <td>1.0</td>\n",
       "      <td>1.0</td>\n",
       "      <td>1.0</td>\n",
       "      <td>1.0</td>\n",
       "      <td>1.0</td>\n",
       "      <td>1.0</td>\n",
       "      <td>1.0</td>\n",
       "    </tr>\n",
       "    <tr>\n",
       "      <th>246035</th>\n",
       "      <td>1</td>\n",
       "      <td>1.0</td>\n",
       "      <td>1.0</td>\n",
       "      <td>1.0</td>\n",
       "      <td>1.0</td>\n",
       "      <td>1.0</td>\n",
       "      <td>1.0</td>\n",
       "      <td>1.0</td>\n",
       "      <td>1.0</td>\n",
       "      <td>1.0</td>\n",
       "      <td>...</td>\n",
       "      <td>1.0</td>\n",
       "      <td>1.0</td>\n",
       "      <td>1.0</td>\n",
       "      <td>1.0</td>\n",
       "      <td>1.0</td>\n",
       "      <td>1.0</td>\n",
       "      <td>1.0</td>\n",
       "      <td>1.0</td>\n",
       "      <td>1.0</td>\n",
       "      <td>1.0</td>\n",
       "    </tr>\n",
       "  </tbody>\n",
       "</table>\n",
       "<p>5 rows × 202 columns</p>\n",
       "</div>"
      ],
      "text/plain": [
       "        0    1    2    3    4    5    6    7    8    9 ...   192  193  194  \\\n",
       "246031  1  1.0  1.0  1.0  1.0  1.0  1.0  1.0  1.0  1.0 ...   1.0  1.0  1.0   \n",
       "246032  1  1.0  1.0  1.0  1.0  1.0  1.0  1.0  1.0  1.0 ...   1.0  1.0  1.0   \n",
       "246033  1  1.0  1.0  1.0  1.0  1.0  1.0  1.0  1.0  1.0 ...   1.0  1.0  1.0   \n",
       "246034  1  1.0  1.0  1.0  1.0  1.0  1.0  1.0  1.0  1.0 ...   1.0  1.0  1.0   \n",
       "246035  1  1.0  1.0  1.0  1.0  1.0  1.0  1.0  1.0  1.0 ...   1.0  1.0  1.0   \n",
       "\n",
       "        195  196  197  198  199  200  201  \n",
       "246031  1.0  1.0  1.0  1.0  1.0  1.0  1.0  \n",
       "246032  1.0  1.0  1.0  1.0  1.0  1.0  1.0  \n",
       "246033  1.0  1.0  1.0  1.0  1.0  1.0  1.0  \n",
       "246034  1.0  1.0  1.0  1.0  1.0  1.0  1.0  \n",
       "246035  1.0  1.0  1.0  1.0  1.0  1.0  1.0  \n",
       "\n",
       "[5 rows x 202 columns]"
      ]
     },
     "execution_count": 13,
     "metadata": {},
     "output_type": "execute_result"
    }
   ],
   "source": [
    "df.tail()"
   ]
  },
  {
   "cell_type": "code",
   "execution_count": 6,
   "metadata": {},
   "outputs": [],
   "source": [
    "trainGen = batch_generator('inputs_train.csv', 'outputs_train.csv', bs=10)\n",
    "testGen =  batch_generator('inputs_test.csv', 'outputs_test.csv', bs=1218)"
   ]
  },
  {
   "cell_type": "markdown",
   "metadata": {},
   "source": [
    "**Creating the model**"
   ]
  },
  {
   "cell_type": "code",
   "execution_count": 7,
   "metadata": {},
   "outputs": [],
   "source": [
    "import tensorflow as tf\n",
    "import numpy as np"
   ]
  },
  {
   "cell_type": "code",
   "execution_count": 8,
   "metadata": {},
   "outputs": [],
   "source": [
    "from keras.models import Sequential\n",
    "from keras.layers import LSTM, Dense, TimeDistributed, Dropout, CuDNNLSTM"
   ]
  },
  {
   "cell_type": "code",
   "execution_count": 9,
   "metadata": {},
   "outputs": [
    {
     "name": "stdout",
     "output_type": "stream",
     "text": [
      "WARNING:tensorflow:From //anaconda3/envs/rnn/lib/python3.6/site-packages/keras/backend/tensorflow_backend.py:74: The name tf.get_default_graph is deprecated. Please use tf.compat.v1.get_default_graph instead.\n",
      "\n",
      "WARNING:tensorflow:From //anaconda3/envs/rnn/lib/python3.6/site-packages/keras/backend/tensorflow_backend.py:517: The name tf.placeholder is deprecated. Please use tf.compat.v1.placeholder instead.\n",
      "\n",
      "WARNING:tensorflow:From //anaconda3/envs/rnn/lib/python3.6/site-packages/keras/backend/tensorflow_backend.py:4138: The name tf.random_uniform is deprecated. Please use tf.random.uniform instead.\n",
      "\n",
      "WARNING:tensorflow:From //anaconda3/envs/rnn/lib/python3.6/site-packages/keras/backend/tensorflow_backend.py:133: The name tf.placeholder_with_default is deprecated. Please use tf.compat.v1.placeholder_with_default instead.\n",
      "\n",
      "WARNING:tensorflow:From //anaconda3/envs/rnn/lib/python3.6/site-packages/keras/backend/tensorflow_backend.py:3445: calling dropout (from tensorflow.python.ops.nn_ops) with keep_prob is deprecated and will be removed in a future version.\n",
      "Instructions for updating:\n",
      "Please use `rate` instead of `keep_prob`. Rate should be set to `rate = 1 - keep_prob`.\n"
     ]
    }
   ],
   "source": [
    "model = Sequential()\n",
    "\n",
    "model.add(CuDNNLSTM(1, return_sequences=True, input_shape=(None, 1)))\n",
    "\n",
    "model.add(Dropout(rate=0.2))\n",
    "\n",
    "model.add(Dense(1, activation='sigmoid'))"
   ]
  },
  {
   "cell_type": "code",
   "execution_count": 13,
   "metadata": {},
   "outputs": [],
   "source": [
    "model.compile(loss='binary_crossentropy',\n",
    "              optimizer='adam',\n",
    "              metrics=['accuracy'])"
   ]
  },
  {
   "cell_type": "code",
   "execution_count": 14,
   "metadata": {},
   "outputs": [
    {
     "name": "stdout",
     "output_type": "stream",
     "text": [
      "_________________________________________________________________\n",
      "Layer (type)                 Output Shape              Param #   \n",
      "=================================================================\n",
      "cu_dnnlstm_2 (CuDNNLSTM)     (None, None, 1)           16        \n",
      "_________________________________________________________________\n",
      "dropout_2 (Dropout)          (None, None, 1)           0         \n",
      "_________________________________________________________________\n",
      "dense_2 (Dense)              (None, None, 1)           2         \n",
      "=================================================================\n",
      "Total params: 18\n",
      "Trainable params: 18\n",
      "Non-trainable params: 0\n",
      "_________________________________________________________________\n"
     ]
    }
   ],
   "source": [
    "model.summary()"
   ]
  },
  {
   "cell_type": "code",
   "execution_count": 17,
   "metadata": {},
   "outputs": [],
   "source": [
    "trainGen = batch_generator('inputs_train.csv', 'outputs_train.csv')\n",
    "testGen =  batch_generator('inputs_test.csv', 'outputs_test.csv', bs=1218)\n",
    "\n",
    "history = model.fit_generator(trainGen,\n",
    "                              steps_per_epoch=202,\n",
    "                              epochs=3,\n",
    "                              verbose=1,\n",
    "#                               validation_data=testGen,\n",
    "#                               validation_steps=202,\n",
    "                              )"
   ]
  },
  {
   "cell_type": "code",
   "execution_count": null,
   "metadata": {},
   "outputs": [],
   "source": [
    "model.save('/home/nightwing/Desktop/my_model.h5') \n",
    "model.save_weights('/home/nightwing/Desktop/my_model_weights.h5')"
   ]
  },
  {
   "cell_type": "code",
   "execution_count": null,
   "metadata": {},
   "outputs": [],
   "source": [
    "model.predict(np.array([0, 1, 1]).reshape(1, 3, 1))"
   ]
  },
  {
   "cell_type": "code",
   "execution_count": null,
   "metadata": {},
   "outputs": [],
   "source": [
    "model.predict(np.array([0, 1, 1, 1, 0, 0, 0]).reshape(1, 7, 1))"
   ]
  },
  {
   "cell_type": "code",
   "execution_count": null,
   "metadata": {},
   "outputs": [],
   "source": [
    "import matplotlib.pyplot as plt"
   ]
  },
  {
   "cell_type": "code",
   "execution_count": null,
   "metadata": {},
   "outputs": [],
   "source": [
    "fig, ax = plt.subplots();\n",
    "\n",
    "plt.plot(history.history['acc'], label='accuracy', color='red', linestyle='--');\n",
    "plt.plot(history.history['val_acc'], label=' validation accuracy');\n",
    "\n",
    "plt.legend();\n",
    "\n",
    "plt.savefig('accuracy_plot.pdf')"
   ]
  },
  {
   "cell_type": "code",
   "execution_count": null,
   "metadata": {},
   "outputs": [],
   "source": [
    "fig, ax = plt.subplots();\n",
    "\n",
    "plt.plot(history.history['loss'], label='loss', color='red', linestyle='--');\n",
    "plt.plot(history.history['val_loss'], label=' validation loss');\n",
    "\n",
    "plt.legend();"
   ]
  },
  {
   "cell_type": "code",
   "execution_count": null,
   "metadata": {},
   "outputs": [],
   "source": [
    "from keras.models import load_model\n",
    "import numpy as np"
   ]
  },
  {
   "cell_type": "code",
   "execution_count": null,
   "metadata": {},
   "outputs": [],
   "source": [
    "import matplotlib.pyplot as plt"
   ]
  },
  {
   "cell_type": "code",
   "execution_count": null,
   "metadata": {},
   "outputs": [],
   "source": [
    "model = load_model('/home/nikoleta/Desktop/my_model.h5')"
   ]
  },
  {
   "cell_type": "code",
   "execution_count": null,
   "metadata": {},
   "outputs": [],
   "source": [
    "fig, ax = plt.subplots();\n",
    "\n",
    "seq = [1 for _ in range(100)]\n",
    "len_of_seq = len(seq)\n",
    "\n",
    "probabilities = model.predict(np.array(seq).reshape(1, len_of_seq, 1)).reshape(len_of_seq)\n",
    "\n",
    "plt.plot(abs(probabilities - 0.5));"
   ]
  },
  {
   "cell_type": "code",
   "execution_count": null,
   "metadata": {},
   "outputs": [],
   "source": [
    "fig, ax = plt.subplots();\n",
    "\n",
    "seq = [0 for i in range(100)]\n",
    "len_of_seq = len(seq)\n",
    "\n",
    "probabilities = model.predict(np.array(seq).reshape(1, len_of_seq, 1)).reshape(len_of_seq)\n",
    "\n",
    "plt.plot(probabilities - 0.5);"
   ]
  },
  {
   "cell_type": "markdown",
   "metadata": {},
   "source": [
    "**Unknown lenght**"
   ]
  },
  {
   "cell_type": "code",
   "execution_count": 12,
   "metadata": {},
   "outputs": [],
   "source": [
    "import pandas as pd\n",
    "import numpy as np"
   ]
  },
  {
   "cell_type": "code",
   "execution_count": 17,
   "metadata": {},
   "outputs": [],
   "source": [
    "from sklearn.model_selection import train_test_split"
   ]
  },
  {
   "cell_type": "code",
   "execution_count": 45,
   "metadata": {},
   "outputs": [],
   "source": [
    "def batch_generator(inputs, outputs, num_of_steps):\n",
    "    while True:\n",
    "        for size in range(1, num_of_steps):\n",
    "            batches = [\n",
    "                (sequence, target)\n",
    "                for sequence, target in zip(inputs, outputs)\n",
    "                if len(sequence) == size\n",
    "            ]\n",
    "\n",
    "            x, y = zip(*batches)\n",
    "            batch = np.array(x)\n",
    "            output_batch = np.array(y)\n",
    "\n",
    "            try:\n",
    "                batch = batch.reshape((batch.shape[0], batch.shape[1], 1))\n",
    "                output_batch = output_batch.reshape((output_batch.shape[0], 1))\n",
    "            except IndexError:\n",
    "                batch = batch.reshape((batch.shape[0], 1, 1))\n",
    "                output_batch = output_batch.reshape((output_batch.shape[0], 1))\n",
    "\n",
    "            yield batch, output_batch"
   ]
  },
  {
   "cell_type": "code",
   "execution_count": null,
   "metadata": {},
   "outputs": [],
   "source": []
  },
  {
   "cell_type": "code",
   "execution_count": 19,
   "metadata": {},
   "outputs": [],
   "source": [
    "def format_sequences_to_input(sequences):\n",
    "    inputs = sequences.drop(columns=[\"opponent\", \"gene_204\"]).values\n",
    "    max_length = len(inputs[0])\n",
    "\n",
    "    prep_X_train = []\n",
    "    for histories in range(1, max_length + 1):\n",
    "        for sequence in inputs:\n",
    "            assert len(sequence) == max_length\n",
    "            prep_X_train.append(sequence[:histories])\n",
    "\n",
    "    return np.array(prep_X_train)\n",
    "\n",
    "\n",
    "def format_sequences_to_output(sequences):\n",
    "    inputs = sequences.drop(columns=[\"opponent\", \"gene_0\"]).values\n",
    "    max_length = len(inputs[0])\n",
    "\n",
    "    prep_y_train = []\n",
    "    for histories in range(1, max_length + 1):\n",
    "        for sequence in inputs:\n",
    "            assert len(sequence) == max_length\n",
    "            prep_y_train.append(sequence[histories - 1])\n",
    "\n",
    "    return np.array(prep_y_train)"
   ]
  },
  {
   "cell_type": "code",
   "execution_count": 20,
   "metadata": {},
   "outputs": [],
   "source": [
    "number_of_epochs = 1000\n",
    "num_hidden_cells = 100\n",
    "drop_out_rate = 0.2\n",
    "num_of_steps = 205"
   ]
  },
  {
   "cell_type": "code",
   "execution_count": 48,
   "metadata": {},
   "outputs": [],
   "source": [
    "outputs = pd.read_csv(\"data/targets.csv\", index_col=0)\n",
    "y = format_sequences_to_output(outputs)\n",
    "sequences = pd.read_csv(\"data/sequences.csv\", index_col=0)\n",
    "inputs = format_sequences_to_input(sequences)\n",
    "input_train, input_test, output_train, output_test = train_test_split(\n",
    "    inputs, y, test_size=0.2, random_state=0\n",
    ")"
   ]
  },
  {
   "cell_type": "code",
   "execution_count": 76,
   "metadata": {},
   "outputs": [],
   "source": [
    "trainGen = batch_generator(input_train, output_train, num_of_steps)\n",
    "testGen = batch_generator(input_test, output_test, num_of_steps)"
   ]
  },
  {
   "cell_type": "code",
   "execution_count": 111,
   "metadata": {},
   "outputs": [],
   "source": [
    "for i in range(30):\n",
    "    x, y = testGen.__next__()\n"
   ]
  },
  {
   "cell_type": "code",
   "execution_count": 116,
   "metadata": {},
   "outputs": [],
   "source": [
    "x, y = testGen.__next__()"
   ]
  },
  {
   "cell_type": "code",
   "execution_count": 117,
   "metadata": {},
   "outputs": [
    {
     "data": {
      "text/plain": [
       "(1085, 1, 1)"
      ]
     },
     "execution_count": 117,
     "metadata": {},
     "output_type": "execute_result"
    }
   ],
   "source": [
    "x.shape"
   ]
  },
  {
   "cell_type": "code",
   "execution_count": 79,
   "metadata": {},
   "outputs": [
    {
     "data": {
      "text/plain": [
       "(1085, 1)"
      ]
     },
     "execution_count": 79,
     "metadata": {},
     "output_type": "execute_result"
    }
   ],
   "source": [
    "y.shape"
   ]
  },
  {
   "cell_type": "code",
   "execution_count": null,
   "metadata": {},
   "outputs": [],
   "source": [
    "\n",
    "\n",
    "\n",
    "\n",
    "model = Sequential()\n",
    "\n",
    "model.add(\n",
    "    CuDNNLSTM(num_hidden_cells, return_sequences=True, input_shape=(None, 1))\n",
    ")\n",
    "\n",
    "model.add(CuDNNLSTM(num_hidden_cells))\n",
    "model.add(Dropout(rate=drop_out_rate))\n",
    "\n",
    "model.add((Dense(1, activation=\"sigmoid\")))\n",
    "\n",
    "if os.path.exists(file_name):\n",
    "    model.load_weights(file_name)\n",
    "\n",
    "model.compile(\n",
    "    loss=\"binary_crossentropy\", optimizer=\"adam\", metrics=[\"accuracy\"]\n",
    ")"
   ]
  }
 ],
 "metadata": {
  "kernelspec": {
   "display_name": "rnn",
   "language": "python",
   "name": "rnn"
  },
  "language_info": {
   "codemirror_mode": {
    "name": "ipython",
    "version": 3
   },
   "file_extension": ".py",
   "mimetype": "text/x-python",
   "name": "python",
   "nbconvert_exporter": "python",
   "pygments_lexer": "ipython3",
   "version": "3.6.7"
  }
 },
 "nbformat": 4,
 "nbformat_minor": 2
}
