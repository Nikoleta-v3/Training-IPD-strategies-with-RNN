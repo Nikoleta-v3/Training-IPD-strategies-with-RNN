{
 "cells": [
  {
   "cell_type": "code",
   "execution_count": 1,
   "metadata": {},
   "outputs": [],
   "source": [
    "import pandas as pd\n",
    "import numpy as np"
   ]
  },
  {
   "cell_type": "code",
   "execution_count": 2,
   "metadata": {},
   "outputs": [],
   "source": [
    "n_sequences = 100"
   ]
  },
  {
   "cell_type": "code",
   "execution_count": 3,
   "metadata": {},
   "outputs": [],
   "source": [
    "targets = pd.read_csv('targets.csv', index_col=0, nrows=n_sequences)"
   ]
  },
  {
   "cell_type": "code",
   "execution_count": 4,
   "metadata": {},
   "outputs": [],
   "source": [
    "targets = targets.drop(columns=['index', 'opponent'])"
   ]
  },
  {
   "cell_type": "code",
   "execution_count": 5,
   "metadata": {},
   "outputs": [],
   "source": [
    "sequences = pd.read_csv('sequences.csv', index_col=0, nrows=n_sequences)"
   ]
  },
  {
   "cell_type": "markdown",
   "metadata": {},
   "source": [
    "**Prepera Data**"
   ]
  },
  {
   "cell_type": "markdown",
   "metadata": {},
   "source": [
    "Sequences will be transform as follow:\n",
    "\n",
    "\n",
    "Let sequence be: $[x_1, x_2, x_3, x_4, x_5] \\Rightarrow \\begin{pmatrix} \n",
    "x_1 & 0 & 0 & 0 & 0 \\\\\n",
    "0 & x_2 & 0 & 0 & 0 \\\\\n",
    "0 & 0 & x_3 & 0 & 0 \\\\\n",
    "0 & 0 & 0 & x_4 & 0 \\\\\n",
    "0 & 0 & 0 & 0 & x_5 \n",
    "\\end{pmatrix}$\n",
    "\n",
    "where $x_i \\in \\{-1, 1\\}$ where -1 corresponds to defection and 1 to a cooperation. "
   ]
  },
  {
   "cell_type": "code",
   "execution_count": 6,
   "metadata": {},
   "outputs": [],
   "source": [
    "sequences = sequences.replace(to_replace=0, value=-1)"
   ]
  },
  {
   "cell_type": "code",
   "execution_count": 7,
   "metadata": {},
   "outputs": [],
   "source": [
    "def transform_sequence_to_input_matrix(sequence):\n",
    "    max_sequence_len = len(sequence)\n",
    "    data_point = np.zeros((max_sequence_len,\n",
    "                           max_sequence_len))\n",
    "    for i in range(max_sequence_len):\n",
    "        data_point[i - 1][i - 1] = sequence[i]\n",
    "        \n",
    "    return data_point"
   ]
  },
  {
   "cell_type": "code",
   "execution_count": 8,
   "metadata": {},
   "outputs": [
    {
     "data": {
      "text/plain": [
       "array([[-1.,  0.,  0.,  0.],\n",
       "       [ 0.,  1.,  0.,  0.],\n",
       "       [ 0.,  0.,  1.,  0.],\n",
       "       [ 0.,  0.,  0.,  1.]])"
      ]
     },
     "execution_count": 8,
     "metadata": {},
     "output_type": "execute_result"
    }
   ],
   "source": [
    "transform_sequence_to_input_matrix([1, -1, 1, 1])"
   ]
  },
  {
   "cell_type": "code",
   "execution_count": 10,
   "metadata": {},
   "outputs": [],
   "source": [
    "max_sequence_len= 204\n",
    "\n",
    "data = []\n",
    "for max_length in range(1, max_sequence_len):\n",
    "    for i, row in sequences.iterrows():\n",
    "        sequence = row.values[:max_length]\n",
    "        data.append(transform_sequence_to_input_matrix(sequence))"
   ]
  },
  {
   "cell_type": "markdown",
   "metadata": {},
   "source": [
    "Validation data are the best responses at time $t + 1$. For example:\n",
    "\n",
    "Let the sequence be: $[1, -1, 1, -1]$ and let the best response be: [1, -1, -1, -1],\n",
    "\n",
    "the validation to the transformed sequence:\n",
    "\n",
    "\\begin{pmatrix} \n",
    "1 & 0 & 0 & 0  \\\\\n",
    "0 & -1 & 0 & 0 \\\\\n",
    "0 & 0 & 1 & 0  \\\\\n",
    "0 & 0 & 0 & -1 \\\\\n",
    "\\end{pmatrix} is $$[-1, -1, -1, \\dots]$$"
   ]
  },
  {
   "cell_type": "code",
   "execution_count": 11,
   "metadata": {},
   "outputs": [],
   "source": [
    "# drop gene_0\n",
    "targets = targets.drop(columns=['gene_0'])"
   ]
  },
  {
   "cell_type": "code",
   "execution_count": 12,
   "metadata": {},
   "outputs": [
    {
     "data": {
      "text/html": [
       "<div>\n",
       "<style scoped>\n",
       "    .dataframe tbody tr th:only-of-type {\n",
       "        vertical-align: middle;\n",
       "    }\n",
       "\n",
       "    .dataframe tbody tr th {\n",
       "        vertical-align: top;\n",
       "    }\n",
       "\n",
       "    .dataframe thead th {\n",
       "        text-align: right;\n",
       "    }\n",
       "</style>\n",
       "<table border=\"1\" class=\"dataframe\">\n",
       "  <thead>\n",
       "    <tr style=\"text-align: right;\">\n",
       "      <th></th>\n",
       "      <th>gene_1</th>\n",
       "      <th>gene_2</th>\n",
       "      <th>gene_3</th>\n",
       "      <th>gene_4</th>\n",
       "      <th>gene_5</th>\n",
       "      <th>gene_6</th>\n",
       "      <th>gene_7</th>\n",
       "      <th>gene_8</th>\n",
       "      <th>gene_9</th>\n",
       "      <th>gene_10</th>\n",
       "      <th>...</th>\n",
       "      <th>gene_195</th>\n",
       "      <th>gene_196</th>\n",
       "      <th>gene_197</th>\n",
       "      <th>gene_198</th>\n",
       "      <th>gene_199</th>\n",
       "      <th>gene_200</th>\n",
       "      <th>gene_201</th>\n",
       "      <th>gene_202</th>\n",
       "      <th>gene_203</th>\n",
       "      <th>gene_204</th>\n",
       "    </tr>\n",
       "  </thead>\n",
       "  <tbody>\n",
       "    <tr>\n",
       "      <th>0</th>\n",
       "      <td>1</td>\n",
       "      <td>1</td>\n",
       "      <td>1</td>\n",
       "      <td>1</td>\n",
       "      <td>1</td>\n",
       "      <td>1</td>\n",
       "      <td>1</td>\n",
       "      <td>1</td>\n",
       "      <td>1</td>\n",
       "      <td>1</td>\n",
       "      <td>...</td>\n",
       "      <td>1</td>\n",
       "      <td>1</td>\n",
       "      <td>1</td>\n",
       "      <td>1</td>\n",
       "      <td>1</td>\n",
       "      <td>1</td>\n",
       "      <td>1</td>\n",
       "      <td>1</td>\n",
       "      <td>1</td>\n",
       "      <td>1</td>\n",
       "    </tr>\n",
       "    <tr>\n",
       "      <th>1</th>\n",
       "      <td>1</td>\n",
       "      <td>1</td>\n",
       "      <td>1</td>\n",
       "      <td>1</td>\n",
       "      <td>1</td>\n",
       "      <td>1</td>\n",
       "      <td>1</td>\n",
       "      <td>1</td>\n",
       "      <td>1</td>\n",
       "      <td>1</td>\n",
       "      <td>...</td>\n",
       "      <td>1</td>\n",
       "      <td>1</td>\n",
       "      <td>1</td>\n",
       "      <td>1</td>\n",
       "      <td>1</td>\n",
       "      <td>1</td>\n",
       "      <td>0</td>\n",
       "      <td>1</td>\n",
       "      <td>0</td>\n",
       "      <td>0</td>\n",
       "    </tr>\n",
       "    <tr>\n",
       "      <th>2</th>\n",
       "      <td>0</td>\n",
       "      <td>0</td>\n",
       "      <td>0</td>\n",
       "      <td>1</td>\n",
       "      <td>1</td>\n",
       "      <td>0</td>\n",
       "      <td>1</td>\n",
       "      <td>1</td>\n",
       "      <td>1</td>\n",
       "      <td>0</td>\n",
       "      <td>...</td>\n",
       "      <td>0</td>\n",
       "      <td>0</td>\n",
       "      <td>0</td>\n",
       "      <td>0</td>\n",
       "      <td>0</td>\n",
       "      <td>0</td>\n",
       "      <td>0</td>\n",
       "      <td>0</td>\n",
       "      <td>0</td>\n",
       "      <td>0</td>\n",
       "    </tr>\n",
       "    <tr>\n",
       "      <th>3</th>\n",
       "      <td>0</td>\n",
       "      <td>0</td>\n",
       "      <td>0</td>\n",
       "      <td>1</td>\n",
       "      <td>1</td>\n",
       "      <td>0</td>\n",
       "      <td>1</td>\n",
       "      <td>1</td>\n",
       "      <td>1</td>\n",
       "      <td>0</td>\n",
       "      <td>...</td>\n",
       "      <td>0</td>\n",
       "      <td>0</td>\n",
       "      <td>0</td>\n",
       "      <td>0</td>\n",
       "      <td>0</td>\n",
       "      <td>0</td>\n",
       "      <td>0</td>\n",
       "      <td>0</td>\n",
       "      <td>0</td>\n",
       "      <td>0</td>\n",
       "    </tr>\n",
       "    <tr>\n",
       "      <th>4</th>\n",
       "      <td>0</td>\n",
       "      <td>0</td>\n",
       "      <td>0</td>\n",
       "      <td>1</td>\n",
       "      <td>1</td>\n",
       "      <td>0</td>\n",
       "      <td>1</td>\n",
       "      <td>1</td>\n",
       "      <td>1</td>\n",
       "      <td>0</td>\n",
       "      <td>...</td>\n",
       "      <td>0</td>\n",
       "      <td>0</td>\n",
       "      <td>0</td>\n",
       "      <td>0</td>\n",
       "      <td>0</td>\n",
       "      <td>0</td>\n",
       "      <td>0</td>\n",
       "      <td>0</td>\n",
       "      <td>0</td>\n",
       "      <td>0</td>\n",
       "    </tr>\n",
       "  </tbody>\n",
       "</table>\n",
       "<p>5 rows × 204 columns</p>\n",
       "</div>"
      ],
      "text/plain": [
       "   gene_1  gene_2  gene_3  gene_4  gene_5  gene_6  gene_7  gene_8  gene_9  \\\n",
       "0       1       1       1       1       1       1       1       1       1   \n",
       "1       1       1       1       1       1       1       1       1       1   \n",
       "2       0       0       0       1       1       0       1       1       1   \n",
       "3       0       0       0       1       1       0       1       1       1   \n",
       "4       0       0       0       1       1       0       1       1       1   \n",
       "\n",
       "   gene_10    ...     gene_195  gene_196  gene_197  gene_198  gene_199  \\\n",
       "0        1    ...            1         1         1         1         1   \n",
       "1        1    ...            1         1         1         1         1   \n",
       "2        0    ...            0         0         0         0         0   \n",
       "3        0    ...            0         0         0         0         0   \n",
       "4        0    ...            0         0         0         0         0   \n",
       "\n",
       "   gene_200  gene_201  gene_202  gene_203  gene_204  \n",
       "0         1         1         1         1         1  \n",
       "1         1         0         1         0         0  \n",
       "2         0         0         0         0         0  \n",
       "3         0         0         0         0         0  \n",
       "4         0         0         0         0         0  \n",
       "\n",
       "[5 rows x 204 columns]"
      ]
     },
     "execution_count": 12,
     "metadata": {},
     "output_type": "execute_result"
    }
   ],
   "source": [
    "targets.head()"
   ]
  },
  {
   "cell_type": "code",
   "execution_count": 28,
   "metadata": {},
   "outputs": [],
   "source": [
    "validation = []\n",
    "for max_length in range(1, 204):\n",
    "    for i, row in targets.iterrows():\n",
    "        validation_point = np.array(row.values[:max_length])\n",
    "        \n",
    "        validation.append(validation_point)"
   ]
  },
  {
   "cell_type": "markdown",
   "metadata": {},
   "source": [
    "**Creating the model**"
   ]
  },
  {
   "cell_type": "code",
   "execution_count": 41,
   "metadata": {},
   "outputs": [],
   "source": [
    "import tensorflow as tf\n",
    "import numpy as np"
   ]
  },
  {
   "cell_type": "code",
   "execution_count": 43,
   "metadata": {},
   "outputs": [],
   "source": [
    "from keras.models import Sequential\n",
    "from keras.layers import LSTM, Dense, TimeDistributed, Dropout"
   ]
  },
  {
   "cell_type": "code",
   "execution_count": 76,
   "metadata": {},
   "outputs": [],
   "source": [
    "model = Sequential()\n",
    "\n",
    "model.add(LSTM(205, return_sequences=True, input_shape=(None, 1)))\n",
    "\n",
    "model.add(Dropout(rate=0.2))\n",
    "\n",
    "model.add(TimeDistributed(Dense(1, activation='sigmoid')))"
   ]
  },
  {
   "cell_type": "code",
   "execution_count": 73,
   "metadata": {},
   "outputs": [],
   "source": [
    "model.compile(loss='mean_squared_error',\n",
    "              optimizer='adam',\n",
    "              metrics=['accuracy'])"
   ]
  },
  {
   "cell_type": "code",
   "execution_count": 74,
   "metadata": {},
   "outputs": [
    {
     "name": "stdout",
     "output_type": "stream",
     "text": [
      "_________________________________________________________________\n",
      "Layer (type)                 Output Shape              Param #   \n",
      "=================================================================\n",
      "lstm_8 (LSTM)                (None, None, 205)         169740    \n",
      "_________________________________________________________________\n",
      "dropout_5 (Dropout)          (None, None, 205)         0         \n",
      "_________________________________________________________________\n",
      "time_distributed_5 (TimeDist (None, None, 1)           206       \n",
      "=================================================================\n",
      "Total params: 169,946\n",
      "Trainable params: 169,946\n",
      "Non-trainable params: 0\n",
      "_________________________________________________________________\n"
     ]
    }
   ],
   "source": [
    "model.summary()"
   ]
  },
  {
   "cell_type": "code",
   "execution_count": 61,
   "metadata": {},
   "outputs": [],
   "source": [
    "other_data = data[100]"
   ]
  },
  {
   "cell_type": "code",
   "execution_count": 64,
   "metadata": {},
   "outputs": [],
   "source": [
    "other_data = other_data.reshape(1, other_data.shape[0], other_data.shape[1])"
   ]
  },
  {
   "cell_type": "code",
   "execution_count": 65,
   "metadata": {},
   "outputs": [
    {
     "ename": "ValueError",
     "evalue": "Error when checking input: expected lstm_3_input to have shape (None, 1) but got array with shape (2, 2)",
     "output_type": "error",
     "traceback": [
      "\u001b[0;31m---------------------------------------------------------------------------\u001b[0m",
      "\u001b[0;31mValueError\u001b[0m                                Traceback (most recent call last)",
      "\u001b[0;32m<ipython-input-65-9848c5bd8512>\u001b[0m in \u001b[0;36m<module>\u001b[0;34m()\u001b[0m\n\u001b[0;32m----> 1\u001b[0;31m \u001b[0mmodel\u001b[0m\u001b[0;34m.\u001b[0m\u001b[0mpredict\u001b[0m\u001b[0;34m(\u001b[0m\u001b[0mother_data\u001b[0m\u001b[0;34m)\u001b[0m\u001b[0;34m\u001b[0m\u001b[0m\n\u001b[0m",
      "\u001b[0;32m~/anaconda3/envs/rnn/lib/python3.6/site-packages/keras/engine/training.py\u001b[0m in \u001b[0;36mpredict\u001b[0;34m(self, x, batch_size, verbose, steps)\u001b[0m\n\u001b[1;32m   1147\u001b[0m                              'argument.')\n\u001b[1;32m   1148\u001b[0m         \u001b[0;31m# Validate user data.\u001b[0m\u001b[0;34m\u001b[0m\u001b[0;34m\u001b[0m\u001b[0m\n\u001b[0;32m-> 1149\u001b[0;31m         \u001b[0mx\u001b[0m\u001b[0;34m,\u001b[0m \u001b[0m_\u001b[0m\u001b[0;34m,\u001b[0m \u001b[0m_\u001b[0m \u001b[0;34m=\u001b[0m \u001b[0mself\u001b[0m\u001b[0;34m.\u001b[0m\u001b[0m_standardize_user_data\u001b[0m\u001b[0;34m(\u001b[0m\u001b[0mx\u001b[0m\u001b[0;34m)\u001b[0m\u001b[0;34m\u001b[0m\u001b[0m\n\u001b[0m\u001b[1;32m   1150\u001b[0m         \u001b[0;32mif\u001b[0m \u001b[0mself\u001b[0m\u001b[0;34m.\u001b[0m\u001b[0mstateful\u001b[0m\u001b[0;34m:\u001b[0m\u001b[0;34m\u001b[0m\u001b[0m\n\u001b[1;32m   1151\u001b[0m             \u001b[0;32mif\u001b[0m \u001b[0mx\u001b[0m\u001b[0;34m[\u001b[0m\u001b[0;36m0\u001b[0m\u001b[0;34m]\u001b[0m\u001b[0;34m.\u001b[0m\u001b[0mshape\u001b[0m\u001b[0;34m[\u001b[0m\u001b[0;36m0\u001b[0m\u001b[0;34m]\u001b[0m \u001b[0;34m>\u001b[0m \u001b[0mbatch_size\u001b[0m \u001b[0;32mand\u001b[0m \u001b[0mx\u001b[0m\u001b[0;34m[\u001b[0m\u001b[0;36m0\u001b[0m\u001b[0;34m]\u001b[0m\u001b[0;34m.\u001b[0m\u001b[0mshape\u001b[0m\u001b[0;34m[\u001b[0m\u001b[0;36m0\u001b[0m\u001b[0;34m]\u001b[0m \u001b[0;34m%\u001b[0m \u001b[0mbatch_size\u001b[0m \u001b[0;34m!=\u001b[0m \u001b[0;36m0\u001b[0m\u001b[0;34m:\u001b[0m\u001b[0;34m\u001b[0m\u001b[0m\n",
      "\u001b[0;32m~/anaconda3/envs/rnn/lib/python3.6/site-packages/keras/engine/training.py\u001b[0m in \u001b[0;36m_standardize_user_data\u001b[0;34m(self, x, y, sample_weight, class_weight, check_array_lengths, batch_size)\u001b[0m\n\u001b[1;32m    749\u001b[0m             \u001b[0mfeed_input_shapes\u001b[0m\u001b[0;34m,\u001b[0m\u001b[0;34m\u001b[0m\u001b[0m\n\u001b[1;32m    750\u001b[0m             \u001b[0mcheck_batch_axis\u001b[0m\u001b[0;34m=\u001b[0m\u001b[0;32mFalse\u001b[0m\u001b[0;34m,\u001b[0m  \u001b[0;31m# Don't enforce the batch size.\u001b[0m\u001b[0;34m\u001b[0m\u001b[0m\n\u001b[0;32m--> 751\u001b[0;31m             exception_prefix='input')\n\u001b[0m\u001b[1;32m    752\u001b[0m \u001b[0;34m\u001b[0m\u001b[0m\n\u001b[1;32m    753\u001b[0m         \u001b[0;32mif\u001b[0m \u001b[0my\u001b[0m \u001b[0;32mis\u001b[0m \u001b[0;32mnot\u001b[0m \u001b[0;32mNone\u001b[0m\u001b[0;34m:\u001b[0m\u001b[0;34m\u001b[0m\u001b[0m\n",
      "\u001b[0;32m~/anaconda3/envs/rnn/lib/python3.6/site-packages/keras/engine/training_utils.py\u001b[0m in \u001b[0;36mstandardize_input_data\u001b[0;34m(data, names, shapes, check_batch_axis, exception_prefix)\u001b[0m\n\u001b[1;32m    136\u001b[0m                             \u001b[0;34m': expected '\u001b[0m \u001b[0;34m+\u001b[0m \u001b[0mnames\u001b[0m\u001b[0;34m[\u001b[0m\u001b[0mi\u001b[0m\u001b[0;34m]\u001b[0m \u001b[0;34m+\u001b[0m \u001b[0;34m' to have shape '\u001b[0m \u001b[0;34m+\u001b[0m\u001b[0;34m\u001b[0m\u001b[0m\n\u001b[1;32m    137\u001b[0m                             \u001b[0mstr\u001b[0m\u001b[0;34m(\u001b[0m\u001b[0mshape\u001b[0m\u001b[0;34m)\u001b[0m \u001b[0;34m+\u001b[0m \u001b[0;34m' but got array with shape '\u001b[0m \u001b[0;34m+\u001b[0m\u001b[0;34m\u001b[0m\u001b[0m\n\u001b[0;32m--> 138\u001b[0;31m                             str(data_shape))\n\u001b[0m\u001b[1;32m    139\u001b[0m     \u001b[0;32mreturn\u001b[0m \u001b[0mdata\u001b[0m\u001b[0;34m\u001b[0m\u001b[0m\n\u001b[1;32m    140\u001b[0m \u001b[0;34m\u001b[0m\u001b[0m\n",
      "\u001b[0;31mValueError\u001b[0m: Error when checking input: expected lstm_3_input to have shape (None, 1) but got array with shape (2, 2)"
     ]
    }
   ],
   "source": [
    "model.predict(other_data)"
   ]
  },
  {
   "cell_type": "code",
   "execution_count": 14,
   "metadata": {},
   "outputs": [],
   "source": [
    "def train_generator():\n",
    "    while True:\n",
    "        x = np.random.randint(0, n_sequences)\n",
    "        test = data[x].reshape((1, data[x].shape[0], data[x].shape[1]))\n",
    "        y = validation[x].reshape((1, validation[x].shape[0], validation[x].shape[1]))\n",
    "        \n",
    "        yield test, y"
   ]
  },
  {
   "cell_type": "code",
   "execution_count": 15,
   "metadata": {},
   "outputs": [
    {
     "data": {
      "text/plain": [
       "(1, 1, 1)"
      ]
     },
     "execution_count": 15,
     "metadata": {},
     "output_type": "execute_result"
    }
   ],
   "source": [
    "data[21].reshape((1, data[21].shape[0], data[21].shape[1])).shape"
   ]
  },
  {
   "cell_type": "code",
   "execution_count": 16,
   "metadata": {},
   "outputs": [],
   "source": [
    "other_data = np.array([1, 0,]).reshape((1,2,1))"
   ]
  },
  {
   "cell_type": "code",
   "execution_count": 17,
   "metadata": {},
   "outputs": [
    {
     "data": {
      "text/plain": [
       "(1, 2, 1)"
      ]
     },
     "execution_count": 17,
     "metadata": {},
     "output_type": "execute_result"
    }
   ],
   "source": [
    "model.predict(other_data).shape"
   ]
  },
  {
   "cell_type": "code",
   "execution_count": 18,
   "metadata": {},
   "outputs": [
    {
     "data": {
      "text/plain": [
       "(1, 1)"
      ]
     },
     "execution_count": 18,
     "metadata": {},
     "output_type": "execute_result"
    }
   ],
   "source": [
    "validation[21].shape"
   ]
  },
  {
   "cell_type": "code",
   "execution_count": 19,
   "metadata": {},
   "outputs": [
    {
     "name": "stdout",
     "output_type": "stream",
     "text": [
      "WARNING:tensorflow:From /home/nightwing/anaconda3/envs/rnn/lib/python3.6/site-packages/tensorflow/python/ops/math_ops.py:3066: to_int32 (from tensorflow.python.ops.math_ops) is deprecated and will be removed in a future version.\n",
      "Instructions for updating:\n",
      "Use tf.cast instead.\n",
      "Epoch 1/100\n",
      "40/40 [==============================] - 1s 22ms/step - loss: 0.2450 - acc: 0.6500\n",
      "Epoch 2/100\n",
      "40/40 [==============================] - 0s 8ms/step - loss: 0.2187 - acc: 0.7750\n",
      "Epoch 3/100\n",
      "40/40 [==============================] - 0s 7ms/step - loss: 0.1960 - acc: 0.7750\n",
      "Epoch 4/100\n",
      "40/40 [==============================] - 0s 8ms/step - loss: 0.2080 - acc: 0.7000\n",
      "Epoch 5/100\n",
      "40/40 [==============================] - 0s 8ms/step - loss: 0.2148 - acc: 0.6750\n",
      "Epoch 6/100\n",
      "40/40 [==============================] - 0s 8ms/step - loss: 0.1837 - acc: 0.7250\n",
      "Epoch 7/100\n",
      "40/40 [==============================] - 0s 7ms/step - loss: 0.1842 - acc: 0.7500\n",
      "Epoch 8/100\n",
      "40/40 [==============================] - 0s 8ms/step - loss: 0.1893 - acc: 0.7500\n",
      "Epoch 9/100\n",
      "40/40 [==============================] - 0s 8ms/step - loss: 0.1726 - acc: 0.7750\n",
      "Epoch 10/100\n",
      "40/40 [==============================] - 0s 12ms/step - loss: 0.2322 - acc: 0.6250\n",
      "Epoch 11/100\n",
      "40/40 [==============================] - 0s 8ms/step - loss: 0.1753 - acc: 0.7750\n",
      "Epoch 12/100\n",
      "40/40 [==============================] - 0s 8ms/step - loss: 0.1606 - acc: 0.8000\n",
      "Epoch 13/100\n",
      "40/40 [==============================] - 0s 8ms/step - loss: 0.1593 - acc: 0.7750\n",
      "Epoch 14/100\n",
      "40/40 [==============================] - 0s 8ms/step - loss: 0.0948 - acc: 0.9000\n",
      "Epoch 15/100\n",
      "40/40 [==============================] - 0s 10ms/step - loss: 0.2025 - acc: 0.7250\n",
      "Epoch 16/100\n",
      "40/40 [==============================] - 0s 8ms/step - loss: 0.1628 - acc: 0.7750\n",
      "Epoch 17/100\n",
      "40/40 [==============================] - 0s 8ms/step - loss: 0.1263 - acc: 0.8500\n",
      "Epoch 18/100\n",
      "40/40 [==============================] - 0s 7ms/step - loss: 0.2324 - acc: 0.6750\n",
      "Epoch 19/100\n",
      "40/40 [==============================] - 0s 7ms/step - loss: 0.2156 - acc: 0.6750\n",
      "Epoch 20/100\n",
      "40/40 [==============================] - 0s 8ms/step - loss: 0.2075 - acc: 0.6500\n",
      "Epoch 21/100\n",
      "40/40 [==============================] - 0s 8ms/step - loss: 0.2070 - acc: 0.7000\n",
      "Epoch 22/100\n",
      "40/40 [==============================] - 0s 8ms/step - loss: 0.1706 - acc: 0.7750\n",
      "Epoch 23/100\n",
      "40/40 [==============================] - 0s 7ms/step - loss: 0.1596 - acc: 0.7750\n",
      "Epoch 24/100\n",
      "40/40 [==============================] - 0s 8ms/step - loss: 0.2145 - acc: 0.7000\n",
      "Epoch 25/100\n",
      "40/40 [==============================] - 0s 8ms/step - loss: 0.1609 - acc: 0.8000\n",
      "Epoch 26/100\n",
      "40/40 [==============================] - 0s 8ms/step - loss: 0.1823 - acc: 0.7250\n",
      "Epoch 27/100\n",
      "40/40 [==============================] - 0s 8ms/step - loss: 0.1627 - acc: 0.8000\n",
      "Epoch 28/100\n",
      "40/40 [==============================] - 0s 8ms/step - loss: 0.1183 - acc: 0.8750\n",
      "Epoch 29/100\n",
      "40/40 [==============================] - 0s 8ms/step - loss: 0.2026 - acc: 0.7250\n",
      "Epoch 30/100\n",
      "40/40 [==============================] - 0s 8ms/step - loss: 0.2103 - acc: 0.7000\n",
      "Epoch 31/100\n",
      "40/40 [==============================] - 0s 8ms/step - loss: 0.2075 - acc: 0.6750\n",
      "Epoch 32/100\n",
      "40/40 [==============================] - 0s 11ms/step - loss: 0.1488 - acc: 0.8250\n",
      "Epoch 33/100\n",
      "40/40 [==============================] - 0s 10ms/step - loss: 0.1067 - acc: 0.8750\n",
      "Epoch 34/100\n",
      "40/40 [==============================] - 0s 8ms/step - loss: 0.2104 - acc: 0.7000\n",
      "Epoch 35/100\n",
      "40/40 [==============================] - 0s 9ms/step - loss: 0.1794 - acc: 0.7750\n",
      "Epoch 36/100\n",
      "40/40 [==============================] - 0s 12ms/step - loss: 0.1922 - acc: 0.7500\n",
      "Epoch 37/100\n",
      "40/40 [==============================] - 0s 8ms/step - loss: 0.1958 - acc: 0.7250\n",
      "Epoch 38/100\n",
      "40/40 [==============================] - 1s 13ms/step - loss: 0.2004 - acc: 0.7000\n",
      "Epoch 39/100\n",
      "40/40 [==============================] - 0s 7ms/step - loss: 0.2702 - acc: 0.5500\n",
      "Epoch 40/100\n",
      "40/40 [==============================] - 0s 8ms/step - loss: 0.1851 - acc: 0.7750\n",
      "Epoch 41/100\n",
      "40/40 [==============================] - 0s 7ms/step - loss: 0.1663 - acc: 0.7750\n",
      "Epoch 42/100\n",
      "40/40 [==============================] - 0s 11ms/step - loss: 0.2041 - acc: 0.7250\n",
      "Epoch 43/100\n",
      "40/40 [==============================] - 0s 9ms/step - loss: 0.1881 - acc: 0.7500\n",
      "Epoch 44/100\n",
      "40/40 [==============================] - 0s 8ms/step - loss: 0.1573 - acc: 0.8000\n",
      "Epoch 45/100\n",
      "40/40 [==============================] - 0s 8ms/step - loss: 0.2021 - acc: 0.7250\n",
      "Epoch 46/100\n",
      "40/40 [==============================] - 0s 8ms/step - loss: 0.1394 - acc: 0.8250\n",
      "Epoch 47/100\n",
      "40/40 [==============================] - 0s 8ms/step - loss: 0.1714 - acc: 0.7750\n",
      "Epoch 48/100\n",
      "40/40 [==============================] - 0s 8ms/step - loss: 0.1468 - acc: 0.8250\n",
      "Epoch 49/100\n",
      "40/40 [==============================] - 0s 8ms/step - loss: 0.2708 - acc: 0.6000\n",
      "Epoch 50/100\n",
      "40/40 [==============================] - 0s 8ms/step - loss: 0.1436 - acc: 0.8500\n",
      "Epoch 51/100\n",
      "40/40 [==============================] - 0s 8ms/step - loss: 0.1673 - acc: 0.7750\n",
      "Epoch 52/100\n",
      "40/40 [==============================] - 0s 8ms/step - loss: 0.1889 - acc: 0.7000\n",
      "Epoch 53/100\n",
      "40/40 [==============================] - 0s 8ms/step - loss: 0.1261 - acc: 0.8250\n",
      "Epoch 54/100\n",
      "40/40 [==============================] - 0s 8ms/step - loss: 0.2537 - acc: 0.6000\n",
      "Epoch 55/100\n",
      "40/40 [==============================] - 0s 9ms/step - loss: 0.2067 - acc: 0.6750\n",
      "Epoch 56/100\n",
      "40/40 [==============================] - 0s 8ms/step - loss: 0.2596 - acc: 0.5750\n",
      "Epoch 57/100\n",
      "40/40 [==============================] - 0s 8ms/step - loss: 0.2490 - acc: 0.5750\n",
      "Epoch 58/100\n",
      "40/40 [==============================] - 0s 7ms/step - loss: 0.1604 - acc: 0.8750\n",
      "Epoch 59/100\n",
      "40/40 [==============================] - 0s 8ms/step - loss: 0.2214 - acc: 0.6750\n",
      "Epoch 60/100\n",
      "40/40 [==============================] - 0s 8ms/step - loss: 0.2172 - acc: 0.7000\n",
      "Epoch 61/100\n",
      "40/40 [==============================] - 0s 8ms/step - loss: 0.2070 - acc: 0.7250\n",
      "Epoch 62/100\n",
      "40/40 [==============================] - 0s 8ms/step - loss: 0.1556 - acc: 0.8500\n",
      "Epoch 63/100\n",
      "40/40 [==============================] - 0s 8ms/step - loss: 0.2126 - acc: 0.6750\n",
      "Epoch 64/100\n",
      "40/40 [==============================] - 0s 8ms/step - loss: 0.1894 - acc: 0.7250\n",
      "Epoch 65/100\n",
      "40/40 [==============================] - 0s 8ms/step - loss: 0.1363 - acc: 0.8500\n",
      "Epoch 66/100\n",
      "40/40 [==============================] - 0s 8ms/step - loss: 0.2058 - acc: 0.7000\n",
      "Epoch 67/100\n",
      "40/40 [==============================] - 0s 8ms/step - loss: 0.1813 - acc: 0.7500\n",
      "Epoch 68/100\n",
      "40/40 [==============================] - 0s 8ms/step - loss: 0.2509 - acc: 0.6250\n",
      "Epoch 69/100\n",
      "40/40 [==============================] - 0s 8ms/step - loss: 0.1770 - acc: 0.7750\n",
      "Epoch 70/100\n",
      "40/40 [==============================] - 0s 8ms/step - loss: 0.1633 - acc: 0.8000\n",
      "Epoch 71/100\n",
      "40/40 [==============================] - 0s 8ms/step - loss: 0.1393 - acc: 0.8250\n",
      "Epoch 72/100\n",
      "40/40 [==============================] - 0s 8ms/step - loss: 0.1762 - acc: 0.7750\n",
      "Epoch 73/100\n",
      "40/40 [==============================] - 0s 8ms/step - loss: 0.1803 - acc: 0.7500\n",
      "Epoch 74/100\n",
      "40/40 [==============================] - 0s 8ms/step - loss: 0.1947 - acc: 0.7500\n",
      "Epoch 75/100\n",
      "40/40 [==============================] - 0s 8ms/step - loss: 0.1725 - acc: 0.7500\n",
      "Epoch 76/100\n",
      "40/40 [==============================] - 0s 8ms/step - loss: 0.1968 - acc: 0.7250\n",
      "Epoch 77/100\n",
      "40/40 [==============================] - 0s 8ms/step - loss: 0.2209 - acc: 0.7000\n",
      "Epoch 78/100\n",
      "40/40 [==============================] - 0s 8ms/step - loss: 0.2801 - acc: 0.5500\n",
      "Epoch 79/100\n",
      "40/40 [==============================] - 0s 8ms/step - loss: 0.2475 - acc: 0.6000\n",
      "Epoch 80/100\n",
      "40/40 [==============================] - 0s 8ms/step - loss: 0.1807 - acc: 0.8000\n",
      "Epoch 81/100\n",
      "40/40 [==============================] - 0s 8ms/step - loss: 0.2235 - acc: 0.7000\n",
      "Epoch 82/100\n",
      "40/40 [==============================] - 0s 8ms/step - loss: 0.2093 - acc: 0.7500\n",
      "Epoch 83/100\n",
      "40/40 [==============================] - 0s 8ms/step - loss: 0.1789 - acc: 0.8000\n",
      "Epoch 84/100\n",
      "40/40 [==============================] - 0s 7ms/step - loss: 0.1795 - acc: 0.7750\n",
      "Epoch 85/100\n",
      "40/40 [==============================] - 0s 7ms/step - loss: 0.2101 - acc: 0.7000\n",
      "Epoch 86/100\n",
      "40/40 [==============================] - 0s 7ms/step - loss: 0.1725 - acc: 0.8000\n",
      "Epoch 87/100\n",
      "40/40 [==============================] - 0s 7ms/step - loss: 0.2180 - acc: 0.7000\n",
      "Epoch 88/100\n",
      "40/40 [==============================] - 0s 7ms/step - loss: 0.2023 - acc: 0.7000\n",
      "Epoch 89/100\n",
      "40/40 [==============================] - 0s 7ms/step - loss: 0.1315 - acc: 0.8750\n",
      "Epoch 90/100\n",
      "40/40 [==============================] - 0s 7ms/step - loss: 0.1231 - acc: 0.8500\n",
      "Epoch 91/100\n",
      "40/40 [==============================] - 0s 7ms/step - loss: 0.2048 - acc: 0.7000\n",
      "Epoch 92/100\n",
      "40/40 [==============================] - 0s 7ms/step - loss: 0.1118 - acc: 0.8500\n",
      "Epoch 93/100\n",
      "40/40 [==============================] - 0s 7ms/step - loss: 0.2183 - acc: 0.7000\n",
      "Epoch 94/100\n",
      "40/40 [==============================] - 0s 7ms/step - loss: 0.2245 - acc: 0.6500\n",
      "Epoch 95/100\n",
      "40/40 [==============================] - 0s 7ms/step - loss: 0.1769 - acc: 0.7750\n",
      "Epoch 96/100\n",
      "40/40 [==============================] - 0s 7ms/step - loss: 0.1653 - acc: 0.8000\n",
      "Epoch 97/100\n",
      "40/40 [==============================] - 0s 7ms/step - loss: 0.1597 - acc: 0.8000\n",
      "Epoch 98/100\n",
      "40/40 [==============================] - 0s 7ms/step - loss: 0.1535 - acc: 0.8000\n",
      "Epoch 99/100\n",
      "40/40 [==============================] - 0s 7ms/step - loss: 0.2526 - acc: 0.6500\n",
      "Epoch 100/100\n",
      "40/40 [==============================] - 0s 7ms/step - loss: 0.2220 - acc: 0.6750\n"
     ]
    },
    {
     "data": {
      "text/plain": [
       "<keras.callbacks.History at 0x7f332c7dab00>"
      ]
     },
     "execution_count": 19,
     "metadata": {},
     "output_type": "execute_result"
    }
   ],
   "source": [
    "model.fit_generator(train_generator(), epochs=100, steps_per_epoch=40)"
   ]
  },
  {
   "cell_type": "code",
   "execution_count": 31,
   "metadata": {},
   "outputs": [],
   "source": [
    "len_dat = 200\n",
    "data = np.array([0 for _ in range(len_dat)]).reshape((1, len_dat, 1))"
   ]
  },
  {
   "cell_type": "code",
   "execution_count": 20,
   "metadata": {},
   "outputs": [],
   "source": [
    "other_data = np.array([1, 0, 0 ]).reshape((1, 3, 1))"
   ]
  },
  {
   "cell_type": "code",
   "execution_count": 32,
   "metadata": {},
   "outputs": [
    {
     "data": {
      "text/plain": [
       "array([[[0.45755786],\n",
       "        [0.43162292],\n",
       "        [0.41399622],\n",
       "        [0.4019867 ],\n",
       "        [0.39376295],\n",
       "        [0.38809395],\n",
       "        [0.3841549 ],\n",
       "        [0.38139272],\n",
       "        [0.3794361 ],\n",
       "        [0.3780352 ],\n",
       "        [0.3770212 ],\n",
       "        [0.37627956],\n",
       "        [0.375732  ],\n",
       "        [0.37532467],\n",
       "        [0.37501982],\n",
       "        [0.37479088],\n",
       "        [0.3746187 ],\n",
       "        [0.3744893 ],\n",
       "        [0.37439236],\n",
       "        [0.37432015],\n",
       "        [0.37426665],\n",
       "        [0.37422746],\n",
       "        [0.374199  ],\n",
       "        [0.3741786 ],\n",
       "        [0.37416425],\n",
       "        [0.37415433],\n",
       "        [0.3741476 ],\n",
       "        [0.3741432 ],\n",
       "        [0.37414044],\n",
       "        [0.37413877],\n",
       "        [0.37413788],\n",
       "        [0.37413746],\n",
       "        [0.3741373 ],\n",
       "        [0.37413734],\n",
       "        [0.3741375 ],\n",
       "        [0.37413767],\n",
       "        [0.37413782],\n",
       "        [0.37413797],\n",
       "        [0.37413806],\n",
       "        [0.37413815],\n",
       "        [0.3741382 ],\n",
       "        [0.37413824],\n",
       "        [0.3741382 ],\n",
       "        [0.37413818],\n",
       "        [0.37413818],\n",
       "        [0.37413812],\n",
       "        [0.37413806],\n",
       "        [0.37413806],\n",
       "        [0.374138  ],\n",
       "        [0.37413797],\n",
       "        [0.3741379 ],\n",
       "        [0.37413788],\n",
       "        [0.37413782],\n",
       "        [0.37413782],\n",
       "        [0.3741378 ],\n",
       "        [0.37413776],\n",
       "        [0.37413773],\n",
       "        [0.37413773],\n",
       "        [0.3741377 ],\n",
       "        [0.3741377 ],\n",
       "        [0.3741377 ],\n",
       "        [0.3741377 ],\n",
       "        [0.37413767],\n",
       "        [0.3741377 ],\n",
       "        [0.37413767],\n",
       "        [0.37413767],\n",
       "        [0.37413764],\n",
       "        [0.37413764],\n",
       "        [0.37413764],\n",
       "        [0.37413764],\n",
       "        [0.37413764],\n",
       "        [0.37413764],\n",
       "        [0.37413764],\n",
       "        [0.37413764],\n",
       "        [0.37413764],\n",
       "        [0.37413764],\n",
       "        [0.37413764],\n",
       "        [0.37413764],\n",
       "        [0.37413764],\n",
       "        [0.37413764],\n",
       "        [0.37413764],\n",
       "        [0.37413764],\n",
       "        [0.37413764],\n",
       "        [0.37413764],\n",
       "        [0.37413764],\n",
       "        [0.37413764],\n",
       "        [0.37413764],\n",
       "        [0.37413764],\n",
       "        [0.37413764],\n",
       "        [0.37413764],\n",
       "        [0.37413764],\n",
       "        [0.37413764],\n",
       "        [0.37413764],\n",
       "        [0.37413764],\n",
       "        [0.37413764],\n",
       "        [0.37413764],\n",
       "        [0.37413764],\n",
       "        [0.37413764],\n",
       "        [0.37413764],\n",
       "        [0.37413764],\n",
       "        [0.37413764],\n",
       "        [0.37413764],\n",
       "        [0.37413764],\n",
       "        [0.37413764],\n",
       "        [0.37413764],\n",
       "        [0.37413764],\n",
       "        [0.37413764],\n",
       "        [0.37413764],\n",
       "        [0.37413764],\n",
       "        [0.37413764],\n",
       "        [0.37413764],\n",
       "        [0.37413764],\n",
       "        [0.37413764],\n",
       "        [0.37413764],\n",
       "        [0.37413764],\n",
       "        [0.37413764],\n",
       "        [0.37413764],\n",
       "        [0.37413764],\n",
       "        [0.37413764],\n",
       "        [0.37413764],\n",
       "        [0.37413764],\n",
       "        [0.37413764],\n",
       "        [0.37413764],\n",
       "        [0.37413764],\n",
       "        [0.37413764],\n",
       "        [0.37413764],\n",
       "        [0.37413764],\n",
       "        [0.37413764],\n",
       "        [0.37413764],\n",
       "        [0.37413764],\n",
       "        [0.37413764],\n",
       "        [0.37413764],\n",
       "        [0.37413764],\n",
       "        [0.37413764],\n",
       "        [0.37413764],\n",
       "        [0.37413764],\n",
       "        [0.37413764],\n",
       "        [0.37413764],\n",
       "        [0.37413764],\n",
       "        [0.37413764],\n",
       "        [0.37413764],\n",
       "        [0.37413764],\n",
       "        [0.37413764],\n",
       "        [0.37413764],\n",
       "        [0.37413764],\n",
       "        [0.37413764],\n",
       "        [0.37413764],\n",
       "        [0.37413764],\n",
       "        [0.37413764],\n",
       "        [0.37413764],\n",
       "        [0.37413764],\n",
       "        [0.37413764],\n",
       "        [0.37413764],\n",
       "        [0.37413764],\n",
       "        [0.37413764],\n",
       "        [0.37413764],\n",
       "        [0.37413764],\n",
       "        [0.37413764],\n",
       "        [0.37413764],\n",
       "        [0.37413764],\n",
       "        [0.37413764],\n",
       "        [0.37413764],\n",
       "        [0.37413764],\n",
       "        [0.37413764],\n",
       "        [0.37413764],\n",
       "        [0.37413764],\n",
       "        [0.37413764],\n",
       "        [0.37413764],\n",
       "        [0.37413764],\n",
       "        [0.37413764],\n",
       "        [0.37413764],\n",
       "        [0.37413764],\n",
       "        [0.37413764],\n",
       "        [0.37413764],\n",
       "        [0.37413764],\n",
       "        [0.37413764],\n",
       "        [0.37413764],\n",
       "        [0.37413764],\n",
       "        [0.37413764],\n",
       "        [0.37413764],\n",
       "        [0.37413764],\n",
       "        [0.37413764],\n",
       "        [0.37413764],\n",
       "        [0.37413764],\n",
       "        [0.37413764],\n",
       "        [0.37413764],\n",
       "        [0.37413764],\n",
       "        [0.37413764],\n",
       "        [0.37413764],\n",
       "        [0.37413764],\n",
       "        [0.37413764],\n",
       "        [0.37413764],\n",
       "        [0.37413764],\n",
       "        [0.37413764],\n",
       "        [0.37413764],\n",
       "        [0.37413764],\n",
       "        [0.37413764],\n",
       "        [0.37413764],\n",
       "        [0.37413764],\n",
       "        [0.37413764]]], dtype=float32)"
      ]
     },
     "execution_count": 32,
     "metadata": {},
     "output_type": "execute_result"
    }
   ],
   "source": [
    "model.predict(data)"
   ]
  },
  {
   "cell_type": "code",
   "execution_count": 35,
   "metadata": {},
   "outputs": [],
   "source": [
    "coop_data = np.array([0, 0, 0, 0, 0]).reshape((1, 5, 1))"
   ]
  },
  {
   "cell_type": "code",
   "execution_count": 36,
   "metadata": {},
   "outputs": [
    {
     "data": {
      "text/plain": [
       "array([[[0.4575579 ],\n",
       "        [0.43162292],\n",
       "        [0.4139962 ],\n",
       "        [0.40198666],\n",
       "        [0.39376298]]], dtype=float32)"
      ]
     },
     "execution_count": 36,
     "metadata": {},
     "output_type": "execute_result"
    }
   ],
   "source": [
    "model.predict(coop_data)"
   ]
  },
  {
   "cell_type": "code",
   "execution_count": 24,
   "metadata": {},
   "outputs": [],
   "source": [
    "alt_data = coop_data = np.array([1, 0, 1, 0, 1]).reshape((1, 5, 1))"
   ]
  },
  {
   "cell_type": "code",
   "execution_count": 25,
   "metadata": {},
   "outputs": [
    {
     "data": {
      "text/plain": [
       "array([[[0.722763  ],\n",
       "        [0.61930585],\n",
       "        [0.7919884 ],\n",
       "        [0.67818254],\n",
       "        [0.82229245]]], dtype=float32)"
      ]
     },
     "execution_count": 25,
     "metadata": {},
     "output_type": "execute_result"
    }
   ],
   "source": [
    "model.predict(alt_data, steps=1)"
   ]
  },
  {
   "cell_type": "code",
   "execution_count": 26,
   "metadata": {},
   "outputs": [],
   "source": [
    "model.predict?"
   ]
  },
  {
   "cell_type": "code",
   "execution_count": null,
   "metadata": {},
   "outputs": [],
   "source": []
  }
 ],
 "metadata": {
  "kernelspec": {
   "display_name": "rnn",
   "language": "python",
   "name": "rnn"
  },
  "language_info": {
   "codemirror_mode": {
    "name": "ipython",
    "version": 3
   },
   "file_extension": ".py",
   "mimetype": "text/x-python",
   "name": "python",
   "nbconvert_exporter": "python",
   "pygments_lexer": "ipython3",
   "version": "3.6.6"
  }
 },
 "nbformat": 4,
 "nbformat_minor": 2
}
