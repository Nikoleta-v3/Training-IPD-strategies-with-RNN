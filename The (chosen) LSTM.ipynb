{
 "cells": [
  {
   "cell_type": "code",
   "execution_count": 1,
   "metadata": {},
   "outputs": [],
   "source": [
    "import pandas as pd\n",
    "import numpy as np"
   ]
  },
  {
   "cell_type": "code",
   "execution_count": 3,
   "metadata": {},
   "outputs": [],
   "source": [
    "import keras"
   ]
  },
  {
   "cell_type": "code",
   "execution_count": null,
   "metadata": {},
   "outputs": [],
   "source": [
    "from sklearn.model_selection import train_test_split"
   ]
  },
  {
   "cell_type": "markdown",
   "metadata": {},
   "source": [
    "**Prepare Data**"
   ]
  },
  {
   "cell_type": "code",
   "execution_count": 4,
   "metadata": {},
   "outputs": [],
   "source": [
    "def batch_generator(inputs, outputs):\n",
    "    while True:\n",
    "        for size in range(1, 205):\n",
    "            batches = [\n",
    "                (sequence, target)\n",
    "                for sequence, target in zip(inputs, outputs)\n",
    "                if len(sequence) == size\n",
    "            ]\n",
    "\n",
    "            x, y = zip(*batches)\n",
    "            batch = np.array(x)\n",
    "            output_batch = np.array(y)\n",
    "\n",
    "            try:\n",
    "                batch = batch.reshape((batch.shape[0], batch.shape[1], 1))\n",
    "                output_batch = output_batch.reshape((output_batch.shape[0], 1))\n",
    "            except IndexError:\n",
    "                batch = batch.reshape((batch.shape[0], 1, 1))\n",
    "                output_batch = output_batch.reshape((output_batch.shape[0], 1))\n",
    "\n",
    "            yield batch, output_batch\n",
    "\n",
    "\n",
    "def format_sequences_to_input(sequences):\n",
    "    inputs = sequences.drop(columns=[\"opponent\", \"gene_204\"]).values\n",
    "    max_length = len(inputs[0])\n",
    "\n",
    "    prep_X_train = []\n",
    "    for histories in range(1, max_length + 1):\n",
    "        for sequence in inputs:\n",
    "            assert len(sequence) == max_length\n",
    "            prep_X_train.append(sequence[:histories])\n",
    "\n",
    "    return np.array(prep_X_train)\n",
    "\n",
    "\n",
    "def format_sequences_to_output(sequences):\n",
    "    inputs = sequences.drop(columns=[\"opponent\", \"gene_0\"]).values\n",
    "    max_length = len(inputs[0])\n",
    "\n",
    "    prep_y_train = []\n",
    "    for histories in range(1, max_length + 1):\n",
    "        for sequence in inputs:\n",
    "            assert len(sequence) == max_length\n",
    "            prep_y_train.append(sequence[histories - 1])\n",
    "\n",
    "    return np.array(prep_y_train)"
   ]
  },
  {
   "cell_type": "code",
   "execution_count": 6,
   "metadata": {},
   "outputs": [],
   "source": [
    "outputs = pd.read_csv('data/targets.csv', index_col=0)\n",
    "y = format_sequences_to_output(outputs)"
   ]
  },
  {
   "cell_type": "code",
   "execution_count": 8,
   "metadata": {},
   "outputs": [
    {
     "data": {
      "text/plain": [
       "1122612"
      ]
     },
     "execution_count": 8,
     "metadata": {},
     "output_type": "execute_result"
    }
   ],
   "source": [
    "len(y)"
   ]
  },
  {
   "cell_type": "code",
   "execution_count": 10,
   "metadata": {},
   "outputs": [],
   "source": [
    "sequences = pd.read_csv('data/sequences.csv', index_col=0)\n",
    "inputs = format_sequences_to_input(sequences)"
   ]
  },
  {
   "cell_type": "code",
   "execution_count": 16,
   "metadata": {},
   "outputs": [
    {
     "data": {
      "text/plain": [
       "array([1, 1])"
      ]
     },
     "execution_count": 16,
     "metadata": {},
     "output_type": "execute_result"
    }
   ],
   "source": [
    "inputs[10000]"
   ]
  },
  {
   "cell_type": "code",
   "execution_count": 18,
   "metadata": {},
   "outputs": [],
   "source": [
    "input_train, input_test, output_train, output_test = train_test_split(\n",
    "    inputs, y, test_size=0.2, random_state=0\n",
    ")"
   ]
  },
  {
   "cell_type": "code",
   "execution_count": 19,
   "metadata": {},
   "outputs": [],
   "source": [
    "trainGen = batch_generator(input_train, output_train)\n",
    "testGen = batch_generator(input_test, output_test)"
   ]
  },
  {
   "cell_type": "code",
   "execution_count": 28,
   "metadata": {},
   "outputs": [],
   "source": [
    "x, y = trainGen.__next__()"
   ]
  },
  {
   "cell_type": "code",
   "execution_count": 29,
   "metadata": {},
   "outputs": [
    {
     "data": {
      "text/plain": [
       "array([[[1],\n",
       "        [1],\n",
       "        [1]],\n",
       "\n",
       "       [[1],\n",
       "        [1],\n",
       "        [1]],\n",
       "\n",
       "       [[1],\n",
       "        [1],\n",
       "        [1]],\n",
       "\n",
       "       ...,\n",
       "\n",
       "       [[1],\n",
       "        [1],\n",
       "        [1]],\n",
       "\n",
       "       [[1],\n",
       "        [1],\n",
       "        [1]],\n",
       "\n",
       "       [[1],\n",
       "        [1],\n",
       "        [1]]])"
      ]
     },
     "execution_count": 29,
     "metadata": {},
     "output_type": "execute_result"
    }
   ],
   "source": [
    "x"
   ]
  },
  {
   "cell_type": "code",
   "execution_count": 30,
   "metadata": {},
   "outputs": [
    {
     "data": {
      "text/plain": [
       "array([[1],\n",
       "       [1],\n",
       "       [1],\n",
       "       ...,\n",
       "       [1],\n",
       "       [1],\n",
       "       [1]])"
      ]
     },
     "execution_count": 30,
     "metadata": {},
     "output_type": "execute_result"
    }
   ],
   "source": [
    "y"
   ]
  },
  {
   "cell_type": "markdown",
   "metadata": {},
   "source": [
    "**Creating the model**"
   ]
  },
  {
   "cell_type": "code",
   "execution_count": 31,
   "metadata": {},
   "outputs": [],
   "source": [
    "import tensorflow as tf\n",
    "import numpy as np"
   ]
  },
  {
   "cell_type": "code",
   "execution_count": 32,
   "metadata": {},
   "outputs": [],
   "source": [
    "from keras.models import Sequential\n",
    "from keras.layers import LSTM, Dense, TimeDistributed, Dropout, CuDNNLSTM"
   ]
  },
  {
   "cell_type": "code",
   "execution_count": 34,
   "metadata": {},
   "outputs": [],
   "source": [
    "model = Sequential()\n",
    "\n",
    "model.add(CuDNNLSTM(1, return_sequences=True, input_shape=(None, 1)))\n",
    "\n",
    "model.add(Dropout(rate=0.2))\n",
    "\n",
    "model.add(Dense(1, activation='sigmoid'))"
   ]
  },
  {
   "cell_type": "code",
   "execution_count": 36,
   "metadata": {},
   "outputs": [],
   "source": [
    "model.compile(loss='binary_crossentropy',\n",
    "              optimizer='adam',\n",
    "              metrics=['accuracy'])"
   ]
  },
  {
   "cell_type": "code",
   "execution_count": 37,
   "metadata": {},
   "outputs": [
    {
     "name": "stdout",
     "output_type": "stream",
     "text": [
      "_________________________________________________________________\n",
      "Layer (type)                 Output Shape              Param #   \n",
      "=================================================================\n",
      "cu_dnnlstm_2 (CuDNNLSTM)     (None, None, 1)           16        \n",
      "_________________________________________________________________\n",
      "dropout_2 (Dropout)          (None, None, 1)           0         \n",
      "_________________________________________________________________\n",
      "dense_2 (Dense)              (None, None, 1)           2         \n",
      "=================================================================\n",
      "Total params: 18\n",
      "Trainable params: 18\n",
      "Non-trainable params: 0\n",
      "_________________________________________________________________\n"
     ]
    }
   ],
   "source": [
    "model.summary()"
   ]
  },
  {
   "cell_type": "code",
   "execution_count": 39,
   "metadata": {},
   "outputs": [],
   "source": [
    "# history = model.fit_generator(trainGen,\n",
    "#                               steps_per_epoch=202,\n",
    "#                               epochs=1,\n",
    "#                               verbose=1,\n",
    "#                               )"
   ]
  },
  {
   "cell_type": "markdown",
   "metadata": {},
   "source": [
    "**Predict**"
   ]
  },
  {
   "cell_type": "code",
   "execution_count": null,
   "metadata": {},
   "outputs": [],
   "source": [
    "model.predict(np.array([0, 1, 1]).reshape(1, 3, 1))"
   ]
  },
  {
   "cell_type": "code",
   "execution_count": null,
   "metadata": {},
   "outputs": [],
   "source": [
    "model.predict(np.array([0, 1, 1, 1, 0, 0, 0]).reshape(1, 7, 1))"
   ]
  },
  {
   "cell_type": "code",
   "execution_count": null,
   "metadata": {},
   "outputs": [],
   "source": [
    "import matplotlib.pyplot as plt"
   ]
  },
  {
   "cell_type": "code",
   "execution_count": null,
   "metadata": {},
   "outputs": [],
   "source": [
    "fig, ax = plt.subplots();\n",
    "\n",
    "plt.plot(history.history['acc'], label='accuracy', color='red', linestyle='--');\n",
    "plt.plot(history.history['val_acc'], label=' validation accuracy');\n",
    "\n",
    "plt.legend();\n",
    "\n",
    "plt.savefig('accuracy_plot.pdf')"
   ]
  },
  {
   "cell_type": "code",
   "execution_count": null,
   "metadata": {},
   "outputs": [],
   "source": [
    "fig, ax = plt.subplots();\n",
    "\n",
    "plt.plot(history.history['loss'], label='loss', color='red', linestyle='--');\n",
    "plt.plot(history.history['val_loss'], label=' validation loss');\n",
    "\n",
    "plt.legend();"
   ]
  },
  {
   "cell_type": "code",
   "execution_count": null,
   "metadata": {},
   "outputs": [],
   "source": []
  },
  {
   "cell_type": "markdown",
   "metadata": {},
   "source": [
    "**LSTM**"
   ]
  },
  {
   "cell_type": "code",
   "execution_count": 40,
   "metadata": {},
   "outputs": [],
   "source": [
    "\n",
    "def batch_generator(inputs, outputs):\n",
    "    while True:\n",
    "        for size in range(1, 205):\n",
    "            batches = [\n",
    "                (sequence, target)\n",
    "                for sequence, target in zip(inputs, outputs)\n",
    "                if len(sequence) == size\n",
    "            ]\n",
    "\n",
    "            x, y = zip(*batches)\n",
    "            batch = np.array(x)\n",
    "            output_batch = np.array(y)\n",
    "\n",
    "            try:\n",
    "                batch = batch.reshape((batch.shape[0], batch.shape[1], 1))\n",
    "                output_batch = output_batch.reshape(\n",
    "                    (output_batch.shape[0], output_batch.shape[1], 1)\n",
    "                )\n",
    "            except IndexError:\n",
    "                batch = batch.reshape((batch.shape[0], 1, 1))\n",
    "                output_batch = output_batch.reshape(\n",
    "                    (output_batch.shape[0], 1, 1)\n",
    "                )\n",
    "\n",
    "            yield batch, output_batch\n",
    "\n",
    "\n",
    "def format_sequences_to_input(sequences):\n",
    "    inputs = sequences.drop(columns=[\"opponent\", \"gene_204\"]).values\n",
    "    max_length = len(inputs[0])\n",
    "\n",
    "    prep_X_train = []\n",
    "    for histories in range(1, max_length + 1):\n",
    "        for sequence in inputs:\n",
    "            assert len(sequence) == max_length\n",
    "            prep_X_train.append(sequence[:histories])\n",
    "\n",
    "    return np.array(prep_X_train)\n",
    "\n",
    "\n",
    "def format_sequences_to_output(sequences):\n",
    "    inputs = sequences.drop(columns=[\"opponent\", \"gene_0\"]).values\n",
    "    max_length = len(inputs[0])\n",
    "\n",
    "    prep_y_train = []\n",
    "    for histories in range(1, max_length + 1):\n",
    "        for sequence in inputs:\n",
    "            assert len(sequence) == max_length\n",
    "            prep_y_train.append(sequence[:histories])\n",
    "\n",
    "    return np.array(prep_y_train)"
   ]
  },
  {
   "cell_type": "code",
   "execution_count": 60,
   "metadata": {},
   "outputs": [],
   "source": [
    "outputs = pd.read_csv('data/targets.csv', index_col=0)\n",
    "y = format_sequences_to_output(outputs)"
   ]
  },
  {
   "cell_type": "code",
   "execution_count": 61,
   "metadata": {},
   "outputs": [],
   "source": [
    "sequences = pd.read_csv('data/sequences.csv', index_col=0)\n",
    "inputs = format_sequences_to_input(sequences)\n",
    "input_train, input_test, output_train, output_test = train_test_split(\n",
    "    inputs, y, test_size=0.2, random_state=0\n",
    ")"
   ]
  },
  {
   "cell_type": "code",
   "execution_count": 43,
   "metadata": {},
   "outputs": [],
   "source": [
    "trainGen = batch_generator(input_train, output_train)\n",
    "testGen = batch_generator(input_test, output_test)"
   ]
  },
  {
   "cell_type": "code",
   "execution_count": 44,
   "metadata": {},
   "outputs": [],
   "source": [
    "x, y = trainGen.__next__()"
   ]
  },
  {
   "cell_type": "code",
   "execution_count": 64,
   "metadata": {},
   "outputs": [
    {
     "data": {
      "text/plain": [
       "array([1, 1, 1, 1, 1, 1, 0, 1, 1, 1, 1, 1, 1, 0, 0, 1, 1, 1, 0, 1, 1, 0,\n",
       "       1, 0, 1, 0, 1, 1, 1, 1, 1, 1, 1, 1, 1, 1, 1, 1, 1, 0, 1, 1, 1, 1,\n",
       "       1, 1, 1, 1, 1, 1, 1, 1, 1, 1, 1, 1, 1, 1, 1, 1, 0, 1, 1, 0, 1, 1,\n",
       "       1, 1, 1, 1, 1, 1, 1, 1, 1, 1, 1, 1, 1, 1, 1, 1, 0, 1, 1, 1, 1, 0,\n",
       "       1, 1, 1, 1, 1, 0, 1, 1, 1, 1, 0, 1, 1, 1, 1, 1, 0, 1, 1, 0, 1, 1,\n",
       "       0, 1, 1, 1, 1, 1, 1, 0, 1, 1, 1, 0, 1, 1, 1, 0, 1, 1, 1, 1, 1, 0,\n",
       "       1, 1, 1, 1, 1, 1, 1, 1, 0, 1, 1, 1, 1, 1, 1, 1, 1, 1, 1, 0, 1, 0,\n",
       "       1, 0, 0, 0, 1, 0, 0, 0, 0, 0, 0, 0, 0, 0, 0, 0, 0, 0, 0, 0, 1, 0,\n",
       "       0, 0, 0, 0, 0, 1, 1, 0, 0, 0, 0, 0, 0, 0, 0, 0, 0, 0, 0, 0, 0, 0,\n",
       "       0, 0, 0, 0, 0, 0])"
      ]
     },
     "execution_count": 64,
     "metadata": {},
     "output_type": "execute_result"
    }
   ],
   "source": [
    "y[-4]"
   ]
  },
  {
   "cell_type": "code",
   "execution_count": 66,
   "metadata": {},
   "outputs": [
    {
     "data": {
      "text/plain": [
       "array([1, 1, 1, 1, 1, 1, 1, 1, 1, 1, 1, 1, 1, 1, 1, 1, 1, 1, 1, 1, 1, 1,\n",
       "       1, 1, 1, 1, 1, 1, 1, 1, 1, 1, 1, 1, 1, 1, 1, 1, 1, 1, 1, 1, 1, 1,\n",
       "       1, 1, 1, 1, 1, 1, 1, 1, 1, 1, 1, 1, 1, 1, 1, 1, 1, 1, 1, 1, 1, 1,\n",
       "       1, 1, 1, 1, 1, 1, 1, 1, 1, 1, 1, 1, 1, 1, 1, 1, 1, 1, 1, 1, 1, 1,\n",
       "       1, 1, 1, 1, 1, 1, 1, 1, 1, 1, 1, 1, 1, 1, 1, 1, 1, 1, 1, 1, 1, 1,\n",
       "       1, 1, 1, 1, 1, 1, 1, 1, 1, 1, 1, 1, 1, 1, 1, 1, 1, 1, 1, 1, 1, 1,\n",
       "       1, 1, 1, 1, 1, 1, 1, 1, 1, 1, 1, 1, 1, 1, 1, 1, 1, 1, 1, 1, 1, 1,\n",
       "       1, 1, 1, 1, 1, 1, 1, 1, 1, 1, 1, 1, 1, 1, 1, 1, 1, 1, 1, 1, 1, 1,\n",
       "       1, 1, 1, 1, 1, 1, 1, 1, 1, 1, 1, 1, 1, 1, 1, 1, 1, 1, 1, 1, 1, 1,\n",
       "       1, 1, 1, 1, 1, 1])"
      ]
     },
     "execution_count": 66,
     "metadata": {},
     "output_type": "execute_result"
    }
   ],
   "source": [
    "inputs[-4]"
   ]
  },
  {
   "cell_type": "code",
   "execution_count": null,
   "metadata": {},
   "outputs": [],
   "source": []
  }
 ],
 "metadata": {
  "kernelspec": {
   "display_name": "rnn",
   "language": "python",
   "name": "rnn"
  },
  "language_info": {
   "codemirror_mode": {
    "name": "ipython",
    "version": 3
   },
   "file_extension": ".py",
   "mimetype": "text/x-python",
   "name": "python",
   "nbconvert_exporter": "python",
   "pygments_lexer": "ipython3",
   "version": "3.6.7"
  }
 },
 "nbformat": 4,
 "nbformat_minor": 2
}
