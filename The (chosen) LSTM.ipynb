{
 "cells": [
  {
   "cell_type": "code",
   "execution_count": 4,
   "metadata": {},
   "outputs": [],
   "source": [
    "import pandas as pd\n",
    "import numpy as np"
   ]
  },
  {
   "cell_type": "code",
   "execution_count": 5,
   "metadata": {},
   "outputs": [],
   "source": [
    "import keras"
   ]
  },
  {
   "cell_type": "markdown",
   "metadata": {},
   "source": [
    "**Prepare Data**"
   ]
  },
  {
   "cell_type": "markdown",
   "metadata": {},
   "source": [
    "Sequences will be transform as follow:\n",
    "\n",
    "\n",
    "Let sequence be: $[x_1, x_2, x_3, x_4, x_5]$\n",
    "\n",
    "where $x_i \\in \\{-1, 1\\}$ where -1 corresponds to defection and 1 to a cooperation. "
   ]
  },
  {
   "cell_type": "code",
   "execution_count": 6,
   "metadata": {},
   "outputs": [],
   "source": [
    "def batch_generator(input_path, output_path, bs=2470):\n",
    "    \n",
    "    while True:\n",
    "        skip = []\n",
    "        for iterations in range(0, 202):\n",
    "            if iterations > 0:\n",
    "                skip += [x for x in range((iterations - 1) * bs, bs * iterations)]\n",
    "            batch = pd.read_csv(input_path,\n",
    "                                nrows=bs,\n",
    "                                skiprows=skip,\n",
    "                                index_col=0).values\n",
    "\n",
    "            output_batch = pd.read_csv(output_path,\n",
    "                                       nrows=bs,\n",
    "                                       skiprows=skip,\n",
    "                                       index_col=0).values        \n",
    "\n",
    "            batch = np.array([[x for x in mini_batch if np.isnan(x) == False] for mini_batch in batch])\n",
    "            output_batch = np.array([[x for x in mini_batch if np.isnan(x) == False] for mini_batch in output_batch])\n",
    "\n",
    "            try:\n",
    "                batch = batch.reshape((batch.shape[0], batch.shape[1], 1))\n",
    "                output_batch = output_batch.reshape((output_batch.shape[0], output_batch.shape[1], 1))\n",
    "            except IndexError:\n",
    "                batch = batch.reshape((batch.shape[0], 1, 1))\n",
    "                output_batch = output_batch.reshape((output_batch.shape[0], 1, 1))\n",
    "        \n",
    "            yield (batch, output_batch)"
   ]
  },
  {
   "cell_type": "code",
   "execution_count": 7,
   "metadata": {},
   "outputs": [],
   "source": [
    "# trainGen = batch_generator('inputs_train.csv', 'outputs_train.csv', bs=10)\n",
    "# testGen =  batch_generator('inputs_test.csv', 'outputs_test.csv', bs=1218)"
   ]
  },
  {
   "cell_type": "markdown",
   "metadata": {},
   "source": [
    "**Creating the model**"
   ]
  },
  {
   "cell_type": "code",
   "execution_count": 8,
   "metadata": {},
   "outputs": [],
   "source": [
    "import tensorflow as tf\n",
    "import numpy as np"
   ]
  },
  {
   "cell_type": "code",
   "execution_count": 9,
   "metadata": {},
   "outputs": [],
   "source": [
    "from keras.models import Sequential\n",
    "from keras.layers import LSTM, Dense, TimeDistributed, Dropout, CuDNNLSTM"
   ]
  },
  {
   "cell_type": "code",
   "execution_count": 11,
   "metadata": {},
   "outputs": [],
   "source": [
    "model = Sequential()\n",
    "\n",
    "model.add(CuDNNLSTM(1, return_sequences=True, input_shape=(None, 1)))\n",
    "\n",
    "model.add(Dropout(rate=0.2))\n",
    "\n",
    "model.add(Dense(1, activation='sigmoid'))"
   ]
  },
  {
   "cell_type": "code",
   "execution_count": 13,
   "metadata": {},
   "outputs": [],
   "source": [
    "model.compile(loss='binary_crossentropy',\n",
    "              optimizer='adam',\n",
    "              metrics=['accuracy'])"
   ]
  },
  {
   "cell_type": "code",
   "execution_count": 14,
   "metadata": {},
   "outputs": [
    {
     "name": "stdout",
     "output_type": "stream",
     "text": [
      "_________________________________________________________________\n",
      "Layer (type)                 Output Shape              Param #   \n",
      "=================================================================\n",
      "cu_dnnlstm_2 (CuDNNLSTM)     (None, None, 1)           16        \n",
      "_________________________________________________________________\n",
      "dropout_2 (Dropout)          (None, None, 1)           0         \n",
      "_________________________________________________________________\n",
      "dense_2 (Dense)              (None, None, 1)           2         \n",
      "=================================================================\n",
      "Total params: 18\n",
      "Trainable params: 18\n",
      "Non-trainable params: 0\n",
      "_________________________________________________________________\n"
     ]
    }
   ],
   "source": [
    "model.summary()"
   ]
  },
  {
   "cell_type": "code",
   "execution_count": 17,
   "metadata": {},
   "outputs": [],
   "source": [
    "trainGen = batch_generator('inputs_train.csv', 'outputs_train.csv')\n",
    "testGen =  batch_generator('inputs_test.csv', 'outputs_test.csv', bs=1218)\n",
    "\n",
    "history = model.fit_generator(trainGen,\n",
    "                              steps_per_epoch=202,\n",
    "                              epochs=3,\n",
    "                              verbose=1,\n",
    "#                               validation_data=testGen,\n",
    "#                               validation_steps=202,\n",
    "                              )"
   ]
  },
  {
   "cell_type": "code",
   "execution_count": null,
   "metadata": {},
   "outputs": [],
   "source": [
    "model.save('/home/nightwing/Desktop/my_model.h5') \n",
    "model.save_weights('/home/nightwing/Desktop/my_model_weights.h5')"
   ]
  },
  {
   "cell_type": "code",
   "execution_count": null,
   "metadata": {},
   "outputs": [],
   "source": [
    "model.predict(np.array([0, 1, 1]).reshape(1, 3, 1))"
   ]
  },
  {
   "cell_type": "code",
   "execution_count": null,
   "metadata": {},
   "outputs": [],
   "source": [
    "model.predict(np.array([0, 1, 1, 1, 0, 0, 0]).reshape(1, 7, 1))"
   ]
  },
  {
   "cell_type": "code",
   "execution_count": null,
   "metadata": {},
   "outputs": [],
   "source": [
    "import matplotlib.pyplot as plt"
   ]
  },
  {
   "cell_type": "code",
   "execution_count": null,
   "metadata": {},
   "outputs": [],
   "source": [
    "fig, ax = plt.subplots();\n",
    "\n",
    "plt.plot(history.history['acc'], label='accuracy', color='red', linestyle='--');\n",
    "plt.plot(history.history['val_acc'], label=' validation accuracy');\n",
    "\n",
    "plt.legend();\n",
    "\n",
    "plt.savefig('accuracy_plot.pdf')"
   ]
  },
  {
   "cell_type": "code",
   "execution_count": null,
   "metadata": {},
   "outputs": [],
   "source": [
    "fig, ax = plt.subplots();\n",
    "\n",
    "plt.plot(history.history['loss'], label='loss', color='red', linestyle='--');\n",
    "plt.plot(history.history['val_loss'], label=' validation loss');\n",
    "\n",
    "plt.legend();"
   ]
  },
  {
   "cell_type": "code",
   "execution_count": null,
   "metadata": {},
   "outputs": [],
   "source": [
    "from keras.models import load_model\n",
    "import numpy as np"
   ]
  },
  {
   "cell_type": "code",
   "execution_count": null,
   "metadata": {},
   "outputs": [],
   "source": [
    "import matplotlib.pyplot as plt"
   ]
  },
  {
   "cell_type": "code",
   "execution_count": null,
   "metadata": {},
   "outputs": [],
   "source": [
    "model = load_model('/home/nikoleta/Desktop/my_model.h5')"
   ]
  },
  {
   "cell_type": "code",
   "execution_count": null,
   "metadata": {},
   "outputs": [],
   "source": [
    "fig, ax = plt.subplots();\n",
    "\n",
    "seq = [1 for _ in range(100)]\n",
    "len_of_seq = len(seq)\n",
    "\n",
    "probabilities = model.predict(np.array(seq).reshape(1, len_of_seq, 1)).reshape(len_of_seq)\n",
    "\n",
    "plt.plot(abs(probabilities - 0.5));"
   ]
  },
  {
   "cell_type": "code",
   "execution_count": null,
   "metadata": {},
   "outputs": [],
   "source": [
    "fig, ax = plt.subplots();\n",
    "\n",
    "seq = [0 for i in range(100)]\n",
    "len_of_seq = len(seq)\n",
    "\n",
    "probabilities = model.predict(np.array(seq).reshape(1, len_of_seq, 1)).reshape(len_of_seq)\n",
    "\n",
    "plt.plot(probabilities - 0.5);"
   ]
  },
  {
   "cell_type": "code",
   "execution_count": null,
   "metadata": {},
   "outputs": [],
   "source": []
  }
 ],
 "metadata": {
  "kernelspec": {
   "display_name": "rnn",
   "language": "python",
   "name": "rnn"
  },
  "language_info": {
   "codemirror_mode": {
    "name": "ipython",
    "version": 3
   },
   "file_extension": ".py",
   "mimetype": "text/x-python",
   "name": "python",
   "nbconvert_exporter": "python",
   "pygments_lexer": "ipython3",
   "version": "3.6.6"
  }
 },
 "nbformat": 4,
 "nbformat_minor": 2
}
