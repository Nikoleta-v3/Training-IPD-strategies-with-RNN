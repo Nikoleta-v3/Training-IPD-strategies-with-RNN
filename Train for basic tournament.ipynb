{
 "cells": [
  {
   "cell_type": "code",
   "execution_count": 1,
   "metadata": {},
   "outputs": [],
   "source": [
    "import axelrod as axl\n",
    "\n",
    "import pandas as pd\n",
    "from pathlib import Path\n",
    "import sequence_sensei"
   ]
  },
  {
   "cell_type": "code",
   "execution_count": 2,
   "metadata": {},
   "outputs": [],
   "source": [
    "import tqdm"
   ]
  },
  {
   "cell_type": "code",
   "execution_count": 4,
   "metadata": {},
   "outputs": [],
   "source": [
    "import keras\n",
    "from keras.layers import LSTM, Dense, Dropout, Bidirectional\n",
    "from keras.models import Sequential"
   ]
  },
  {
   "cell_type": "code",
   "execution_count": 5,
   "metadata": {},
   "outputs": [],
   "source": [
    "import matplotlib.pyplot as plt"
   ]
  },
  {
   "cell_type": "code",
   "execution_count": 6,
   "metadata": {},
   "outputs": [],
   "source": [
    "import imp\n",
    "\n",
    "player_class = imp.load_source('player_class', 'player_class.py')"
   ]
  },
  {
   "cell_type": "code",
   "execution_count": 7,
   "metadata": {},
   "outputs": [],
   "source": [
    "import numpy as np"
   ]
  },
  {
   "cell_type": "code",
   "execution_count": 8,
   "metadata": {},
   "outputs": [],
   "source": [
    "from keras.layers.embeddings import Embedding"
   ]
  },
  {
   "cell_type": "markdown",
   "metadata": {},
   "source": [
    "**Padded Classification**"
   ]
  },
  {
   "cell_type": "code",
   "execution_count": 9,
   "metadata": {},
   "outputs": [],
   "source": [
    "inputs = pd.read_csv(\"data/basic_padded_inputs_classification.csv\", index_col=0)\n",
    "outputs = pd.read_csv(\"data/basic_classification_output.csv\", index_col=0)"
   ]
  },
  {
   "cell_type": "code",
   "execution_count": 10,
   "metadata": {},
   "outputs": [],
   "source": [
    "X = inputs.values\n",
    "y = outputs['target'].values"
   ]
  },
  {
   "cell_type": "code",
   "execution_count": 11,
   "metadata": {},
   "outputs": [],
   "source": [
    "data = list(zip(X, y))"
   ]
  },
  {
   "cell_type": "code",
   "execution_count": 12,
   "metadata": {},
   "outputs": [
    {
     "data": {
      "text/plain": [
       "(17136, 204)"
      ]
     },
     "execution_count": 12,
     "metadata": {},
     "output_type": "execute_result"
    }
   ],
   "source": [
    "X.shape"
   ]
  },
  {
   "cell_type": "code",
   "execution_count": 13,
   "metadata": {},
   "outputs": [
    {
     "data": {
      "text/plain": [
       "(17136,)"
      ]
     },
     "execution_count": 13,
     "metadata": {},
     "output_type": "execute_result"
    }
   ],
   "source": [
    "y.shape"
   ]
  },
  {
   "cell_type": "code",
   "execution_count": 14,
   "metadata": {},
   "outputs": [],
   "source": [
    "from sklearn.model_selection import train_test_split\n",
    "\n",
    "train, test = train_test_split(data, test_size=0.2)"
   ]
  },
  {
   "cell_type": "code",
   "execution_count": 15,
   "metadata": {},
   "outputs": [],
   "source": [
    "X_train, y_train = list(zip(*train))\n",
    "X_test, y_test = list(zip(*test))\n",
    "\n",
    "y_train = np.array(y_train)\n",
    "y_test = np.array(y_test)\n",
    "X_train = np.array(X_train)\n",
    "X_test = np.array(X_test)"
   ]
  },
  {
   "cell_type": "code",
   "execution_count": 24,
   "metadata": {},
   "outputs": [],
   "source": [
    "max_length = len(X[0])\n",
    "batch_size = 128\n",
    "num_of_epochs = 1\n",
    "\n",
    "num_cells = 204\n",
    "drop_out_rate = 0.2"
   ]
  },
  {
   "cell_type": "code",
   "execution_count": 17,
   "metadata": {},
   "outputs": [],
   "source": [
    "top_words = 3\n",
    "embedding_vecor_length = 1"
   ]
  },
  {
   "cell_type": "code",
   "execution_count": 20,
   "metadata": {},
   "outputs": [],
   "source": [
    "model = Sequential()\n",
    "\n",
    "model.add(Embedding(top_words, embedding_vecor_length, input_length=max_length))\n",
    "model.add(Bidirectional(LSTM(num_cells)),\n",
    "        )\n",
    "\n",
    "model.add(Dropout(rate=drop_out_rate))\n",
    "model.add(Dense(1, activation=\"sigmoid\"))\n",
    "\n",
    "model.compile(\n",
    "    loss=\"binary_crossentropy\", optimizer='adam', metrics=[\"accuracy\"]\n",
    ")"
   ]
  },
  {
   "cell_type": "code",
   "execution_count": 25,
   "metadata": {
    "scrolled": true
   },
   "outputs": [
    {
     "name": "stdout",
     "output_type": "stream",
     "text": [
      "Train on 13708 samples, validate on 3428 samples\n",
      "Epoch 1/1\n",
      "13708/13708 [==============================] - 179s 13ms/step - loss: 0.5929 - acc: 0.7234 - val_loss: 0.5838 - val_acc: 0.7281\n"
     ]
    }
   ],
   "source": [
    "history = model.fit(\n",
    "    X_train,\n",
    "    y_train,\n",
    "    validation_data=(X_test, y_test),\n",
    "    batch_size=batch_size,\n",
    "    epochs=num_of_epochs,\n",
    "    verbose=1,\n",
    ")"
   ]
  },
  {
   "cell_type": "code",
   "execution_count": 26,
   "metadata": {},
   "outputs": [
    {
     "data": {
      "text/plain": [
       "[array([[-0.00981959],\n",
       "        [-0.04510924],\n",
       "        [-0.08965405]], dtype=float32)]"
      ]
     },
     "execution_count": 26,
     "metadata": {},
     "output_type": "execute_result"
    }
   ],
   "source": [
    "model.layers[0].get_weights()"
   ]
  },
  {
   "cell_type": "code",
   "execution_count": 27,
   "metadata": {},
   "outputs": [
    {
     "data": {
      "text/plain": [
       "(17136, 204)"
      ]
     },
     "execution_count": 27,
     "metadata": {},
     "output_type": "execute_result"
    }
   ],
   "source": [
    "X.shape"
   ]
  },
  {
   "cell_type": "markdown",
   "metadata": {},
   "source": [
    "**check for unknown**"
   ]
  },
  {
   "cell_type": "code",
   "execution_count": null,
   "metadata": {},
   "outputs": [],
   "source": []
  },
  {
   "cell_type": "markdown",
   "metadata": {},
   "source": [
    "**Unknown lenght**"
   ]
  },
  {
   "cell_type": "code",
   "execution_count": 28,
   "metadata": {},
   "outputs": [],
   "source": [
    "from sklearn.model_selection import train_test_split"
   ]
  },
  {
   "cell_type": "code",
   "execution_count": 37,
   "metadata": {},
   "outputs": [],
   "source": [
    "def batch_generator(inputs, outputs):\n",
    "    while True:\n",
    "        for size in range(1, 205):\n",
    "            batches = [\n",
    "                (sequence, target)\n",
    "                for sequence, target in zip(inputs, outputs)\n",
    "                if len(sequence) == size\n",
    "            ]\n",
    "\n",
    "            x, y = zip(*batches)\n",
    "            batch = np.array(x)\n",
    "            output_batch = np.array(y)\n",
    "\n",
    "            try:\n",
    "                batch = batch.reshape((batch.shape[0], batch.shape[1], 1))\n",
    "                output_batch = output_batch.reshape(\n",
    "                    (output_batch.shape[0], output_batch.shape[1], 1)\n",
    "                )\n",
    "            except IndexError:\n",
    "                batch = batch.reshape((batch.shape[0], 1, 1))\n",
    "                output_batch = output_batch.reshape(\n",
    "                    (output_batch.shape[0], 1, 1)\n",
    "                )\n",
    "\n",
    "            yield batch, output_batch\n",
    "\n",
    "\n",
    "def format_sequences_to_input(sequences):\n",
    "    inputs = sequences.drop(columns=[\"opponent\", \"gene_204\"]).values\n",
    "    max_length = len(inputs[0])\n",
    "\n",
    "    prep_X_train = []\n",
    "    for histories in range(1, max_length + 1):\n",
    "        for sequence in inputs:\n",
    "            assert len(sequence) == max_length\n",
    "            prep_X_train.append(sequence[:histories])\n",
    "\n",
    "    return np.array(prep_X_train)\n",
    "\n",
    "def format_sequences_to_output(sequences):\n",
    "    inputs = sequences.drop(columns=[\"opponent\", \"gene_0\"]).values\n",
    "    max_length = len(inputs[0])\n",
    "\n",
    "    prep_y_train = []\n",
    "    for histories in range(1, max_length + 1):\n",
    "        for sequence in inputs:\n",
    "            assert len(sequence) == max_length\n",
    "            prep_y_train.append(sequence[:histories])\n",
    "\n",
    "    return np.array(prep_y_train)"
   ]
  },
  {
   "cell_type": "code",
   "execution_count": 38,
   "metadata": {},
   "outputs": [],
   "source": [
    "outputs = pd.read_csv(\"data/basic_targets.csv\", index_col=0)\n",
    "y = format_sequences_to_output(outputs)\n",
    "\n",
    "sequences = pd.read_csv(\"data/basic_sequences.csv\", index_col=0)\n",
    "inputs = format_sequences_to_input(sequences)"
   ]
  },
  {
   "cell_type": "code",
   "execution_count": 39,
   "metadata": {},
   "outputs": [],
   "source": [
    "input_train, input_test, output_train, output_test = train_test_split(\n",
    "    inputs, y, test_size=0.2, random_state=0\n",
    ")"
   ]
  },
  {
   "cell_type": "code",
   "execution_count": 40,
   "metadata": {},
   "outputs": [],
   "source": [
    "trainGen = batch_generator(input_train, output_train)\n",
    "testGen = batch_generator(input_test, output_test)"
   ]
  },
  {
   "cell_type": "code",
   "execution_count": 41,
   "metadata": {},
   "outputs": [],
   "source": [
    "number_of_epochs = 1"
   ]
  },
  {
   "cell_type": "code",
   "execution_count": 42,
   "metadata": {},
   "outputs": [],
   "source": [
    "from keras.layers import LSTM, Dense, TimeDistributed"
   ]
  },
  {
   "cell_type": "code",
   "execution_count": 43,
   "metadata": {},
   "outputs": [
    {
     "name": "stdout",
     "output_type": "stream",
     "text": [
      "Epoch 1/1\n",
      "204/204 [==============================] - 28s 140ms/step - loss: 0.4179 - acc: 0.8033 - val_loss: 0.3132 - val_acc: 0.8803\n"
     ]
    }
   ],
   "source": [
    "model = Sequential()\n",
    "\n",
    "model.add(LSTM(\n",
    "            100, return_sequences=True, input_shape=(None, 1)\n",
    "        )\n",
    "    )\n",
    "\n",
    "model.add(Dropout(rate=drop_out_rate))\n",
    "\n",
    "model.add(TimeDistributed(Dense(1, activation=\"sigmoid\")))\n",
    "\n",
    "model.compile(\n",
    "    loss=\"binary_crossentropy\", optimizer=\"adam\", metrics=[\"accuracy\"]\n",
    ")\n",
    "\n",
    "history = model.fit_generator(\n",
    "    trainGen,\n",
    "    steps_per_epoch=204,\n",
    "    epochs=number_of_epochs,\n",
    "    verbose=1,\n",
    "    validation_data=testGen,\n",
    "    validation_steps=204,\n",
    ")"
   ]
  },
  {
   "cell_type": "code",
   "execution_count": 45,
   "metadata": {},
   "outputs": [],
   "source": [
    "trainGen = batch_generator(input_train, output_train)"
   ]
  },
  {
   "cell_type": "code",
   "execution_count": 49,
   "metadata": {},
   "outputs": [],
   "source": [
    "test_x, test_y = trainGen.__next__()"
   ]
  },
  {
   "cell_type": "code",
   "execution_count": 50,
   "metadata": {},
   "outputs": [
    {
     "data": {
      "text/plain": [
       "(array([[1],\n",
       "        [0]]), array([[0],\n",
       "        [0]]))"
      ]
     },
     "execution_count": 50,
     "metadata": {},
     "output_type": "execute_result"
    }
   ],
   "source": [
    "test_x[0], test_y[0]"
   ]
  },
  {
   "cell_type": "markdown",
   "metadata": {},
   "source": [
    "**Classification with no fixed lenght**"
   ]
  },
  {
   "cell_type": "code",
   "execution_count": 90,
   "metadata": {},
   "outputs": [],
   "source": [
    "def batch_generator(inputs, outputs):\n",
    "    while True:\n",
    "        for size in range(1, 3):\n",
    "            batches = [\n",
    "                (sequence, target)\n",
    "                for sequence, target in zip(inputs, outputs)\n",
    "                if len(sequence) == size\n",
    "            ]\n",
    "\n",
    "            x, y = zip(*batches)\n",
    "            batch = np.array(x)\n",
    "            output_batch = np.array(y)\n",
    "\n",
    "            try:\n",
    "                batch = batch.reshape((batch.shape[0], batch.shape[1], 1))\n",
    "                output_batch = output_batch.reshape(\n",
    "                    (output_batch.shape[0], 1)\n",
    "                )\n",
    "            except IndexError:\n",
    "                batch = batch.reshape((batch.shape[0], 1, 1))\n",
    "                output_batch = output_batch.reshape(\n",
    "                    (output_batch.shape[0], 1)\n",
    "                )\n",
    "\n",
    "            yield batch, output_batch"
   ]
  },
  {
   "cell_type": "code",
   "execution_count": 78,
   "metadata": {},
   "outputs": [],
   "source": [
    "batches = [\n",
    "                (sequence, target)\n",
    "                for sequence, target in zip(input_train, output_train)\n",
    "                if len(sequence) == 2\n",
    "            ]"
   ]
  },
  {
   "cell_type": "code",
   "execution_count": 80,
   "metadata": {},
   "outputs": [],
   "source": [
    "x, y = zip(*batches)"
   ]
  },
  {
   "cell_type": "code",
   "execution_count": 87,
   "metadata": {},
   "outputs": [],
   "source": [
    "output_batch = np.array(y)"
   ]
  },
  {
   "cell_type": "code",
   "execution_count": 89,
   "metadata": {},
   "outputs": [
    {
     "data": {
      "text/plain": [
       "(66,)"
      ]
     },
     "execution_count": 89,
     "metadata": {},
     "output_type": "execute_result"
    }
   ],
   "source": [
    "output_batch.shape"
   ]
  },
  {
   "cell_type": "code",
   "execution_count": 86,
   "metadata": {},
   "outputs": [
    {
     "data": {
      "text/plain": [
       "array([[[1],\n",
       "        [0]],\n",
       "\n",
       "       [[1],\n",
       "        [0]],\n",
       "\n",
       "       [[1],\n",
       "        [1]],\n",
       "\n",
       "       [[1],\n",
       "        [1]],\n",
       "\n",
       "       [[1],\n",
       "        [1]],\n",
       "\n",
       "       [[1],\n",
       "        [1]],\n",
       "\n",
       "       [[1],\n",
       "        [1]],\n",
       "\n",
       "       [[1],\n",
       "        [1]],\n",
       "\n",
       "       [[1],\n",
       "        [1]],\n",
       "\n",
       "       [[1],\n",
       "        [0]],\n",
       "\n",
       "       [[1],\n",
       "        [1]],\n",
       "\n",
       "       [[1],\n",
       "        [1]],\n",
       "\n",
       "       [[1],\n",
       "        [1]],\n",
       "\n",
       "       [[1],\n",
       "        [1]],\n",
       "\n",
       "       [[1],\n",
       "        [1]],\n",
       "\n",
       "       [[1],\n",
       "        [0]],\n",
       "\n",
       "       [[1],\n",
       "        [1]],\n",
       "\n",
       "       [[0],\n",
       "        [0]],\n",
       "\n",
       "       [[1],\n",
       "        [1]],\n",
       "\n",
       "       [[1],\n",
       "        [1]],\n",
       "\n",
       "       [[1],\n",
       "        [1]],\n",
       "\n",
       "       [[1],\n",
       "        [1]],\n",
       "\n",
       "       [[1],\n",
       "        [1]],\n",
       "\n",
       "       [[1],\n",
       "        [1]],\n",
       "\n",
       "       [[1],\n",
       "        [0]],\n",
       "\n",
       "       [[1],\n",
       "        [1]],\n",
       "\n",
       "       [[1],\n",
       "        [1]],\n",
       "\n",
       "       [[1],\n",
       "        [1]],\n",
       "\n",
       "       [[1],\n",
       "        [0]],\n",
       "\n",
       "       [[0],\n",
       "        [1]],\n",
       "\n",
       "       [[1],\n",
       "        [1]],\n",
       "\n",
       "       [[1],\n",
       "        [1]],\n",
       "\n",
       "       [[1],\n",
       "        [0]],\n",
       "\n",
       "       [[1],\n",
       "        [0]],\n",
       "\n",
       "       [[1],\n",
       "        [1]],\n",
       "\n",
       "       [[1],\n",
       "        [1]],\n",
       "\n",
       "       [[1],\n",
       "        [1]],\n",
       "\n",
       "       [[1],\n",
       "        [1]],\n",
       "\n",
       "       [[1],\n",
       "        [1]],\n",
       "\n",
       "       [[1],\n",
       "        [1]],\n",
       "\n",
       "       [[1],\n",
       "        [1]],\n",
       "\n",
       "       [[1],\n",
       "        [1]],\n",
       "\n",
       "       [[1],\n",
       "        [1]],\n",
       "\n",
       "       [[1],\n",
       "        [0]],\n",
       "\n",
       "       [[1],\n",
       "        [1]],\n",
       "\n",
       "       [[1],\n",
       "        [1]],\n",
       "\n",
       "       [[1],\n",
       "        [1]],\n",
       "\n",
       "       [[1],\n",
       "        [1]],\n",
       "\n",
       "       [[1],\n",
       "        [1]],\n",
       "\n",
       "       [[1],\n",
       "        [1]],\n",
       "\n",
       "       [[1],\n",
       "        [1]],\n",
       "\n",
       "       [[1],\n",
       "        [1]],\n",
       "\n",
       "       [[1],\n",
       "        [1]],\n",
       "\n",
       "       [[1],\n",
       "        [1]],\n",
       "\n",
       "       [[1],\n",
       "        [1]],\n",
       "\n",
       "       [[1],\n",
       "        [1]],\n",
       "\n",
       "       [[1],\n",
       "        [1]],\n",
       "\n",
       "       [[1],\n",
       "        [1]],\n",
       "\n",
       "       [[1],\n",
       "        [0]],\n",
       "\n",
       "       [[0],\n",
       "        [1]],\n",
       "\n",
       "       [[1],\n",
       "        [1]],\n",
       "\n",
       "       [[1],\n",
       "        [1]],\n",
       "\n",
       "       [[1],\n",
       "        [0]],\n",
       "\n",
       "       [[1],\n",
       "        [1]],\n",
       "\n",
       "       [[1],\n",
       "        [1]],\n",
       "\n",
       "       [[1],\n",
       "        [1]]])"
      ]
     },
     "execution_count": 86,
     "metadata": {},
     "output_type": "execute_result"
    }
   ],
   "source": [
    "batch.reshape((batch.shape[0], batch.shape[1], 1))"
   ]
  },
  {
   "cell_type": "code",
   "execution_count": 91,
   "metadata": {},
   "outputs": [],
   "source": [
    "def format_sequences_to_output(sequences):\n",
    "    inputs = sequences.drop(columns=[\"opponent\", \"gene_0\"]).values\n",
    "    max_length = len(inputs[0])\n",
    "\n",
    "    prep_y_train = []\n",
    "    for histories in range(1, max_length + 1):\n",
    "        for sequence in inputs:\n",
    "            assert len(sequence) == max_length\n",
    "            prep_y_train.append(sequence[histories - 1])\n",
    "\n",
    "    return np.array(prep_y_train)"
   ]
  },
  {
   "cell_type": "code",
   "execution_count": 92,
   "metadata": {},
   "outputs": [],
   "source": [
    "outputs = pd.read_csv(\"data/basic_targets.csv\", index_col=0)\n",
    "y = format_sequences_to_output(outputs)\n",
    "\n",
    "sequences = pd.read_csv(\"data/basic_sequences.csv\", index_col=0)\n",
    "inputs = format_sequences_to_input(sequences)"
   ]
  },
  {
   "cell_type": "code",
   "execution_count": 93,
   "metadata": {},
   "outputs": [],
   "source": [
    "input_train, input_test, output_train, output_test = train_test_split(\n",
    "    inputs, y, test_size=0.2, random_state=0\n",
    ")"
   ]
  },
  {
   "cell_type": "code",
   "execution_count": 94,
   "metadata": {},
   "outputs": [],
   "source": [
    "trainGen = batch_generator(input_train, output_train)\n",
    "testGen = batch_generator(input_test, output_test)"
   ]
  },
  {
   "cell_type": "code",
   "execution_count": 97,
   "metadata": {},
   "outputs": [],
   "source": [
    "model = Sequential()\n",
    "\n",
    "model.add(LSTM(\n",
    "            100, return_sequences=True, input_shape=(None, 1)\n",
    "        )\n",
    "    )\n",
    "\n",
    "model.add(LSTM(\n",
    "            100,\n",
    "        )\n",
    "    )\n",
    "model.add(Dropout(rate=drop_out_rate))\n",
    "\n",
    "model.add((Dense(1, activation=\"sigmoid\")))\n",
    "\n",
    "model.compile(\n",
    "    loss=\"binary_crossentropy\", optimizer=\"adam\", metrics=[\"accuracy\"]\n",
    ")"
   ]
  },
  {
   "cell_type": "code",
   "execution_count": 98,
   "metadata": {},
   "outputs": [
    {
     "name": "stdout",
     "output_type": "stream",
     "text": [
      "Epoch 1/1\n",
      "204/204 [==============================] - 5s 24ms/step - loss: 0.5757 - acc: 0.6989\n"
     ]
    }
   ],
   "source": [
    "history = model.fit_generator(\n",
    "    trainGen,\n",
    "    steps_per_epoch=204,\n",
    "    epochs=number_of_epochs,\n",
    "    verbose=1,\n",
    "#     validation_data=testGen,\n",
    "#     validation_steps=204,\n",
    ")"
   ]
  },
  {
   "cell_type": "code",
   "execution_count": null,
   "metadata": {},
   "outputs": [],
   "source": []
  }
 ],
 "metadata": {
  "kernelspec": {
   "display_name": "rnn",
   "language": "python",
   "name": "rnn"
  },
  "language_info": {
   "codemirror_mode": {
    "name": "ipython",
    "version": 3
   },
   "file_extension": ".py",
   "mimetype": "text/x-python",
   "name": "python",
   "nbconvert_exporter": "python",
   "pygments_lexer": "ipython3",
   "version": "3.6.7"
  }
 },
 "nbformat": 4,
 "nbformat_minor": 2
}
