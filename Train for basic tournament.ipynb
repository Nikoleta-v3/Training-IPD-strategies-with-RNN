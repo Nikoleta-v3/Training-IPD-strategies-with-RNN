{
 "cells": [
  {
   "cell_type": "code",
   "execution_count": 55,
   "metadata": {},
   "outputs": [],
   "source": [
    "import axelrod as axl\n",
    "\n",
    "import pandas as pd\n",
    "from pathlib import Path\n",
    "import sequence_sensei"
   ]
  },
  {
   "cell_type": "code",
   "execution_count": 2,
   "metadata": {},
   "outputs": [],
   "source": [
    "import tqdm"
   ]
  },
  {
   "cell_type": "code",
   "execution_count": 4,
   "metadata": {},
   "outputs": [],
   "source": [
    "import keras\n",
    "from keras.layers import LSTM, Dense, Dropout, Bidirectional\n",
    "from keras.models import Sequential"
   ]
  },
  {
   "cell_type": "code",
   "execution_count": 5,
   "metadata": {},
   "outputs": [],
   "source": [
    "import matplotlib.pyplot as plt"
   ]
  },
  {
   "cell_type": "code",
   "execution_count": 6,
   "metadata": {},
   "outputs": [],
   "source": [
    "import imp\n",
    "\n",
    "player_class = imp.load_source('player_class', 'player_class.py')"
   ]
  },
  {
   "cell_type": "code",
   "execution_count": 7,
   "metadata": {},
   "outputs": [],
   "source": [
    "import numpy as np"
   ]
  },
  {
   "cell_type": "code",
   "execution_count": 8,
   "metadata": {},
   "outputs": [],
   "source": [
    "from keras.layers.embeddings import Embedding"
   ]
  },
  {
   "cell_type": "markdown",
   "metadata": {},
   "source": [
    "**Padded Classification**"
   ]
  },
  {
   "cell_type": "code",
   "execution_count": 9,
   "metadata": {},
   "outputs": [],
   "source": [
    "inputs = pd.read_csv(\"data/basic_padded_inputs_classification.csv\", index_col=0)\n",
    "outputs = pd.read_csv(\"data/basic_classification_output.csv\", index_col=0)"
   ]
  },
  {
   "cell_type": "code",
   "execution_count": 10,
   "metadata": {},
   "outputs": [],
   "source": [
    "X = inputs.values\n",
    "y = outputs.values"
   ]
  },
  {
   "cell_type": "code",
   "execution_count": 11,
   "metadata": {},
   "outputs": [],
   "source": [
    "max_length = len(X[0])\n",
    "batch_size = 64\n",
    "num_of_epochs = 1\n",
    "\n",
    "num_cells = 200\n",
    "drop_out_rate = 0.2"
   ]
  },
  {
   "cell_type": "code",
   "execution_count": 12,
   "metadata": {},
   "outputs": [],
   "source": [
    "top_words = 3\n",
    "embedding_vecor_length = 1"
   ]
  },
  {
   "cell_type": "code",
   "execution_count": 14,
   "metadata": {},
   "outputs": [],
   "source": [
    "model = Sequential()\n",
    "\n",
    "model.add(Embedding(top_words, embedding_vecor_length, input_length=max_length))\n",
    "model.add(Bidirectional(LSTM(num_cells)),\n",
    "        )\n",
    "\n",
    "model.add(Dropout(rate=drop_out_rate))\n",
    "model.add(Dense(1, activation=\"sigmoid\"))\n",
    "\n",
    "model.compile(\n",
    "    loss=\"binary_crossentropy\", optimizer='adam', metrics=[\"accuracy\"]\n",
    ")"
   ]
  },
  {
   "cell_type": "code",
   "execution_count": 16,
   "metadata": {
    "scrolled": true
   },
   "outputs": [
    {
     "name": "stdout",
     "output_type": "stream",
     "text": [
      "Train on 15422 samples, validate on 1714 samples\n",
      "Epoch 1/1\n",
      "15422/15422 [==============================] - 241s 16ms/step - loss: 0.5617 - acc: 0.7400 - val_loss: 0.3972 - val_acc: 0.7287\n"
     ]
    }
   ],
   "source": [
    "history = model.fit(\n",
    "    x=X,\n",
    "    y=y,\n",
    "    batch_size=batch_size,\n",
    "    epochs=num_of_epochs,\n",
    "    verbose=1,\n",
    "    validation_split=0.1\n",
    ")"
   ]
  },
  {
   "cell_type": "code",
   "execution_count": 32,
   "metadata": {},
   "outputs": [
    {
     "data": {
      "text/plain": [
       "(array([2, 1, 0, 0, 0, 0, 0, 0, 0, 0, 0, 0, 0, 0, 0, 0, 0, 0, 0, 0, 0, 0,\n",
       "        0, 0, 0, 0, 0, 0, 0, 0, 0, 0, 0, 0, 0, 0, 0, 0, 0, 0, 0, 0, 0, 0,\n",
       "        0, 0, 0, 0, 0, 0, 0, 0, 0, 0, 0, 0, 0, 0, 0, 0, 0, 0, 0, 0, 0, 0,\n",
       "        0, 0, 0, 0, 0, 0, 0, 0, 0, 0, 0, 0, 0, 0, 0, 0, 0, 0, 0, 0, 0, 0,\n",
       "        0, 0, 0, 0, 0, 0, 0, 0, 0, 0, 0, 0, 0, 0, 0, 0, 0, 0, 0, 0, 0, 0,\n",
       "        0, 0, 0, 0, 0, 0, 0, 0, 0, 0, 0, 0, 0, 0, 0, 0, 0, 0, 0, 0, 0, 0,\n",
       "        0, 0, 0, 0, 0, 0, 0, 0, 0, 0, 0, 0, 0, 0, 0, 0, 0, 0, 0, 0, 0, 0,\n",
       "        0, 0, 0, 0, 0, 0, 0, 0, 0, 0, 0, 0, 0, 0, 0, 0, 0, 0, 0, 0, 0, 0,\n",
       "        0, 0, 0, 0, 0, 0, 0, 0, 0, 0, 0, 0, 0, 0, 0, 0, 0, 0, 0, 0, 0, 0,\n",
       "        0, 0, 0, 0, 0, 0]), array([0]))"
      ]
     },
     "execution_count": 32,
     "metadata": {},
     "output_type": "execute_result"
    }
   ],
   "source": [
    "X[1], y[1]"
   ]
  },
  {
   "cell_type": "code",
   "execution_count": 29,
   "metadata": {},
   "outputs": [],
   "source": [
    "test_input = X[1].reshape(1, 204)"
   ]
  },
  {
   "cell_type": "code",
   "execution_count": 30,
   "metadata": {},
   "outputs": [
    {
     "data": {
      "text/plain": [
       "array([[0.5069026]], dtype=float32)"
      ]
     },
     "execution_count": 30,
     "metadata": {},
     "output_type": "execute_result"
    }
   ],
   "source": [
    "model.predict(test_input)"
   ]
  },
  {
   "cell_type": "code",
   "execution_count": null,
   "metadata": {},
   "outputs": [],
   "source": [
    "validation_from_siren = pd.read_csv('output_basic_tournament/basic/output_padded/')"
   ]
  },
  {
   "cell_type": "markdown",
   "metadata": {},
   "source": [
    "**Unknown lenght**"
   ]
  },
  {
   "cell_type": "code",
   "execution_count": 34,
   "metadata": {},
   "outputs": [],
   "source": [
    "from sklearn.model_selection import train_test_split"
   ]
  },
  {
   "cell_type": "code",
   "execution_count": 78,
   "metadata": {},
   "outputs": [],
   "source": [
    "def batch_generator(inputs, outputs):\n",
    "    while True:\n",
    "        for size in range(1, 205):\n",
    "            batches = [\n",
    "                (sequence, target)\n",
    "                for sequence, target in zip(inputs, outputs)\n",
    "                if len(sequence) == size\n",
    "            ]\n",
    "\n",
    "            x, y = zip(*batches)\n",
    "            batch = np.array(x)\n",
    "            output_batch = np.array(y)\n",
    "\n",
    "            try:\n",
    "                batch = batch.reshape((batch.shape[0], batch.shape[1], 1))\n",
    "                output_batch = output_batch.reshape(\n",
    "                    (output_batch.shape[0], output_batch.shape[1], 1)\n",
    "                )\n",
    "            except IndexError:\n",
    "                batch = batch.reshape((batch.shape[0], 1, 1))\n",
    "                output_batch = output_batch.reshape(\n",
    "                    (output_batch.shape[0], 1, 1)\n",
    "                )\n",
    "\n",
    "            yield batch, output_batch\n",
    "\n",
    "\n",
    "def format_sequences_to_input(sequences):\n",
    "    inputs = sequences.drop(columns=[\"opponent\", \"gene_204\"]).values\n",
    "    max_length = len(inputs[0])\n",
    "\n",
    "    prep_X_train = []\n",
    "    for histories in range(1, max_length + 1):\n",
    "        for sequence in inputs:\n",
    "            assert len(sequence) == max_length\n",
    "            prep_X_train.append(sequence[:histories])\n",
    "\n",
    "    return np.array(prep_X_train)\n",
    "\n",
    "def format_sequences_to_output(sequences):\n",
    "    inputs = sequences.drop(columns=[\"opponent\", \"gene_0\"]).values\n",
    "    max_length = len(inputs[0])\n",
    "\n",
    "    prep_y_train = []\n",
    "    for histories in range(1, max_length + 1):\n",
    "        for sequence in inputs:\n",
    "            assert len(sequence) == max_length\n",
    "            prep_y_train.append(sequence[:histories])\n",
    "\n",
    "    return np.array(prep_y_train)"
   ]
  },
  {
   "cell_type": "code",
   "execution_count": 79,
   "metadata": {},
   "outputs": [],
   "source": [
    "outputs = pd.read_csv(\"data/basic_targets.csv\", index_col=0)\n",
    "y = format_sequences_to_output(outputs)\n",
    "\n",
    "sequences = pd.read_csv(\"data/basic_sequences.csv\", index_col=0)\n",
    "inputs = format_sequences_to_input(sequences)"
   ]
  },
  {
   "cell_type": "code",
   "execution_count": 80,
   "metadata": {},
   "outputs": [],
   "source": [
    "input_train, input_test, output_train, output_test = train_test_split(\n",
    "    inputs, y, test_size=0.2, random_state=0\n",
    ")"
   ]
  },
  {
   "cell_type": "code",
   "execution_count": 90,
   "metadata": {},
   "outputs": [],
   "source": [
    "trainGen = batch_generator(input_train, output_train)\n",
    "testGen = batch_generator(input_test, output_test)"
   ]
  },
  {
   "cell_type": "code",
   "execution_count": 91,
   "metadata": {},
   "outputs": [],
   "source": [
    "number_of_epochs = 1"
   ]
  },
  {
   "cell_type": "code",
   "execution_count": 92,
   "metadata": {},
   "outputs": [
    {
     "name": "stdout",
     "output_type": "stream",
     "text": [
      "Epoch 1/1\n",
      "204/204 [==============================] - 24s 120ms/step - loss: 0.3819 - acc: 0.8248 - val_loss: 0.3072 - val_acc: 0.8861\n"
     ]
    }
   ],
   "source": [
    "model = Sequential()\n",
    "\n",
    "model.add(LSTM(\n",
    "            100, return_sequences=True, input_shape=(None, 1)\n",
    "        )\n",
    "    )\n",
    "\n",
    "model.add(Dropout(rate=drop_out_rate))\n",
    "\n",
    "model.add(Dense(1, activation=\"sigmoid\"))\n",
    "\n",
    "model.compile(\n",
    "    loss=\"binary_crossentropy\", optimizer=\"adam\", metrics=[\"accuracy\"]\n",
    ")\n",
    "\n",
    "history = model.fit_generator(\n",
    "    trainGen,\n",
    "    steps_per_epoch=204,\n",
    "    epochs=number_of_epochs,\n",
    "    verbose=1,\n",
    "    validation_data=testGen,\n",
    "    validation_steps=204,\n",
    ")"
   ]
  },
  {
   "cell_type": "code",
   "execution_count": 46,
   "metadata": {},
   "outputs": [],
   "source": [
    "validation_from_siren = pd.read_csv('output_basic_tournament/basic/output_lstm/validation_measures_run_100_5.csv')"
   ]
  },
  {
   "cell_type": "code",
   "execution_count": 53,
   "metadata": {},
   "outputs": [
    {
     "data": {
      "image/png": "[encoded data removed]",
      "text/plain": [
       "<Figure size 432x288 with 1 Axes>"
      ]
     },
     "metadata": {
      "needs_background": "light"
     },
     "output_type": "display_data"
    }
   ],
   "source": [
    "plt.plot(validation_from_siren['acc'], \"--\");\n",
    "plt.plot(validation_from_siren['val_acc']);"
   ]
  },
  {
   "cell_type": "code",
   "execution_count": 54,
   "metadata": {},
   "outputs": [
    {
     "data": {
      "image/png": "[encoded data removed]",
      "text/plain": [
       "<Figure size 432x288 with 1 Axes>"
      ]
     },
     "metadata": {
      "needs_background": "light"
     },
     "output_type": "display_data"
    }
   ],
   "source": [
    "plt.plot(validation_from_siren['loss'], \"--\");\n",
    "plt.plot(validation_from_siren['val_loss']);"
   ]
  }
 ],
 "metadata": {
  "kernelspec": {
   "display_name": "rnn",
   "language": "python",
   "name": "rnn"
  },
  "language_info": {
   "codemirror_mode": {
    "name": "ipython",
    "version": 3
   },
   "file_extension": ".py",
   "mimetype": "text/x-python",
   "name": "python",
   "nbconvert_exporter": "python",
   "pygments_lexer": "ipython3",
   "version": "3.6.7"
  }
 },
 "nbformat": 4,
 "nbformat_minor": 2
}
