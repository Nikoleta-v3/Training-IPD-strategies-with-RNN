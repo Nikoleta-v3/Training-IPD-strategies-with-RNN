{
 "cells": [
  {
   "cell_type": "code",
   "execution_count": 2,
   "metadata": {},
   "outputs": [],
   "source": [
    "import axelrod as axl"
   ]
  },
  {
   "cell_type": "code",
   "execution_count": 3,
   "metadata": {},
   "outputs": [
    {
     "name": "stderr",
     "output_type": "stream",
     "text": [
      "Using TensorFlow backend.\n",
      "//anaconda3/envs/rnn/lib/python3.6/site-packages/tensorflow/python/framework/dtypes.py:516: FutureWarning: Passing (type, 1) or '1type' as a synonym of type is deprecated; in a future version of numpy, it will be understood as (type, (1,)) / '(1,)type'.\n",
      "  _np_qint8 = np.dtype([(\"qint8\", np.int8, 1)])\n",
      "//anaconda3/envs/rnn/lib/python3.6/site-packages/tensorflow/python/framework/dtypes.py:517: FutureWarning: Passing (type, 1) or '1type' as a synonym of type is deprecated; in a future version of numpy, it will be understood as (type, (1,)) / '(1,)type'.\n",
      "  _np_quint8 = np.dtype([(\"quint8\", np.uint8, 1)])\n",
      "//anaconda3/envs/rnn/lib/python3.6/site-packages/tensorflow/python/framework/dtypes.py:518: FutureWarning: Passing (type, 1) or '1type' as a synonym of type is deprecated; in a future version of numpy, it will be understood as (type, (1,)) / '(1,)type'.\n",
      "  _np_qint16 = np.dtype([(\"qint16\", np.int16, 1)])\n",
      "//anaconda3/envs/rnn/lib/python3.6/site-packages/tensorflow/python/framework/dtypes.py:519: FutureWarning: Passing (type, 1) or '1type' as a synonym of type is deprecated; in a future version of numpy, it will be understood as (type, (1,)) / '(1,)type'.\n",
      "  _np_quint16 = np.dtype([(\"quint16\", np.uint16, 1)])\n",
      "//anaconda3/envs/rnn/lib/python3.6/site-packages/tensorflow/python/framework/dtypes.py:520: FutureWarning: Passing (type, 1) or '1type' as a synonym of type is deprecated; in a future version of numpy, it will be understood as (type, (1,)) / '(1,)type'.\n",
      "  _np_qint32 = np.dtype([(\"qint32\", np.int32, 1)])\n",
      "//anaconda3/envs/rnn/lib/python3.6/site-packages/tensorflow/python/framework/dtypes.py:525: FutureWarning: Passing (type, 1) or '1type' as a synonym of type is deprecated; in a future version of numpy, it will be understood as (type, (1,)) / '(1,)type'.\n",
      "  np_resource = np.dtype([(\"resource\", np.ubyte, 1)])\n",
      "//anaconda3/envs/rnn/lib/python3.6/site-packages/tensorboard/compat/tensorflow_stub/dtypes.py:541: FutureWarning: Passing (type, 1) or '1type' as a synonym of type is deprecated; in a future version of numpy, it will be understood as (type, (1,)) / '(1,)type'.\n",
      "  _np_qint8 = np.dtype([(\"qint8\", np.int8, 1)])\n",
      "//anaconda3/envs/rnn/lib/python3.6/site-packages/tensorboard/compat/tensorflow_stub/dtypes.py:542: FutureWarning: Passing (type, 1) or '1type' as a synonym of type is deprecated; in a future version of numpy, it will be understood as (type, (1,)) / '(1,)type'.\n",
      "  _np_quint8 = np.dtype([(\"quint8\", np.uint8, 1)])\n",
      "//anaconda3/envs/rnn/lib/python3.6/site-packages/tensorboard/compat/tensorflow_stub/dtypes.py:543: FutureWarning: Passing (type, 1) or '1type' as a synonym of type is deprecated; in a future version of numpy, it will be understood as (type, (1,)) / '(1,)type'.\n",
      "  _np_qint16 = np.dtype([(\"qint16\", np.int16, 1)])\n",
      "//anaconda3/envs/rnn/lib/python3.6/site-packages/tensorboard/compat/tensorflow_stub/dtypes.py:544: FutureWarning: Passing (type, 1) or '1type' as a synonym of type is deprecated; in a future version of numpy, it will be understood as (type, (1,)) / '(1,)type'.\n",
      "  _np_quint16 = np.dtype([(\"quint16\", np.uint16, 1)])\n",
      "//anaconda3/envs/rnn/lib/python3.6/site-packages/tensorboard/compat/tensorflow_stub/dtypes.py:545: FutureWarning: Passing (type, 1) or '1type' as a synonym of type is deprecated; in a future version of numpy, it will be understood as (type, (1,)) / '(1,)type'.\n",
      "  _np_qint32 = np.dtype([(\"qint32\", np.int32, 1)])\n",
      "//anaconda3/envs/rnn/lib/python3.6/site-packages/tensorboard/compat/tensorflow_stub/dtypes.py:550: FutureWarning: Passing (type, 1) or '1type' as a synonym of type is deprecated; in a future version of numpy, it will be understood as (type, (1,)) / '(1,)type'.\n",
      "  np_resource = np.dtype([(\"resource\", np.ubyte, 1)])\n"
     ]
    }
   ],
   "source": [
    "import pandas as pd\n",
    "\n",
    "from keras.models import load_model"
   ]
  },
  {
   "cell_type": "code",
   "execution_count": 4,
   "metadata": {},
   "outputs": [],
   "source": [
    "import numpy as np"
   ]
  },
  {
   "cell_type": "code",
   "execution_count": 5,
   "metadata": {},
   "outputs": [],
   "source": [
    "import matplotlib.pyplot as plt"
   ]
  },
  {
   "cell_type": "markdown",
   "metadata": {},
   "source": [
    "**Padded classification**"
   ]
  },
  {
   "cell_type": "code",
   "execution_count": 6,
   "metadata": {},
   "outputs": [
    {
     "name": "stdout",
     "output_type": "stream",
     "text": [
      "WARNING:tensorflow:From //anaconda3/envs/rnn/lib/python3.6/site-packages/keras/backend/tensorflow_backend.py:517: The name tf.placeholder is deprecated. Please use tf.compat.v1.placeholder instead.\n",
      "\n",
      "WARNING:tensorflow:From //anaconda3/envs/rnn/lib/python3.6/site-packages/keras/backend/tensorflow_backend.py:4138: The name tf.random_uniform is deprecated. Please use tf.random.uniform instead.\n",
      "\n",
      "WARNING:tensorflow:From //anaconda3/envs/rnn/lib/python3.6/site-packages/keras/backend/tensorflow_backend.py:74: The name tf.get_default_graph is deprecated. Please use tf.compat.v1.get_default_graph instead.\n",
      "\n",
      "WARNING:tensorflow:From //anaconda3/envs/rnn/lib/python3.6/site-packages/keras/backend/tensorflow_backend.py:133: The name tf.placeholder_with_default is deprecated. Please use tf.compat.v1.placeholder_with_default instead.\n",
      "\n",
      "WARNING:tensorflow:From //anaconda3/envs/rnn/lib/python3.6/site-packages/keras/backend/tensorflow_backend.py:3445: calling dropout (from tensorflow.python.ops.nn_ops) with keep_prob is deprecated and will be removed in a future version.\n",
      "Instructions for updating:\n",
      "Please use `rate` instead of `keep_prob`. Rate should be set to `rate = 1 - keep_prob`.\n",
      "WARNING:tensorflow:From //anaconda3/envs/rnn/lib/python3.6/site-packages/keras/backend/tensorflow_backend.py:174: The name tf.get_default_session is deprecated. Please use tf.compat.v1.get_default_session instead.\n",
      "\n",
      "WARNING:tensorflow:From //anaconda3/envs/rnn/lib/python3.6/site-packages/keras/optimizers.py:790: The name tf.train.Optimizer is deprecated. Please use tf.compat.v1.train.Optimizer instead.\n",
      "\n",
      "WARNING:tensorflow:From //anaconda3/envs/rnn/lib/python3.6/site-packages/tensorflow/python/ops/nn_impl.py:180: add_dispatch_support.<locals>.wrapper (from tensorflow.python.ops.array_ops) is deprecated and will be removed in a future version.\n",
      "Instructions for updating:\n",
      "Use tf.where in 2.0, which has the same broadcast rule as np.where\n"
     ]
    }
   ],
   "source": [
    "model = load_model('output_basic_tournament/basic/output_padded/model-over-time.h5')"
   ]
  },
  {
   "cell_type": "code",
   "execution_count": 7,
   "metadata": {},
   "outputs": [],
   "source": [
    "input_lenght = 204"
   ]
  },
  {
   "cell_type": "code",
   "execution_count": 8,
   "metadata": {},
   "outputs": [],
   "source": [
    "test_input  = np.array([2, 2, 2, 2, 2, 2, 2, 2, 2] + [0 for _ in range(input_lenght - 9)] )\n",
    "test_input = test_input.reshape((1, input_lenght))"
   ]
  },
  {
   "cell_type": "code",
   "execution_count": 9,
   "metadata": {},
   "outputs": [],
   "source": [
    "output = model.predict(test_input)"
   ]
  },
  {
   "cell_type": "code",
   "execution_count": 10,
   "metadata": {},
   "outputs": [
    {
     "data": {
      "text/plain": [
       "D"
      ]
     },
     "execution_count": 10,
     "metadata": {},
     "output_type": "execute_result"
    }
   ],
   "source": [
    "axl.Action(round(output.max()))"
   ]
  },
  {
   "cell_type": "code",
   "execution_count": 11,
   "metadata": {},
   "outputs": [],
   "source": [
    "from axelrod.random_ import random_choice\n",
    "\n",
    "C, D = axl.Action.C, axl.Action.D\n",
    "\n",
    "class LSTMPlayer(axl.Player):\n",
    "    name = \"The LSTM homie\"\n",
    "    classifier = {\n",
    "        \"memory_depth\": float(\"inf\"),\n",
    "        \"stochastic\": False,\n",
    "        \"inspects_source\": False,\n",
    "        \"manipulates_source\": False,\n",
    "        \"manipulates_state\": False,\n",
    "    }\n",
    "\n",
    "    def __init__(self, model, reshape_history_funct, opening_probability=0.70, input_length=False):\n",
    "        self.model = model\n",
    "        self.opening_probability = opening_probability\n",
    "        self.reshape_history_function = reshape_history_funct\n",
    "        if input_length:\n",
    "            self.input_length = input_length\n",
    "        super().__init__()\n",
    "\n",
    "    def strategy(self, opponent):\n",
    "        if len(self.history) == 0:\n",
    "            return random_choice(self.opening_probability)\n",
    "\n",
    "        current_length = len(opponent.history)\n",
    "        history = [action.value for action in opponent.history]\n",
    "\n",
    "        prediction = self.model.predict(self.reshape_history_function(history, self.input_length))\n",
    "        \n",
    "        return axl.Action(round(prediction.max()))\n",
    "\n",
    "    def __repr__(self):\n",
    "        return self.name"
   ]
  },
  {
   "cell_type": "code",
   "execution_count": 12,
   "metadata": {},
   "outputs": [],
   "source": [
    "def reshape_history_padded_model(history, input_length):\n",
    "\n",
    "    length_history = len(history)\n",
    "    history = np.where(np.array(history)==0, 2, history)\n",
    "    \n",
    "    if length_history > input_length:\n",
    "        inputs = np.array(history[-input_length:])\n",
    "    else:\n",
    "        inputs = np.append(history, np.zeros((input_length - length_history, 1)))\n",
    "    \n",
    "    assert len(inputs) == input_length\n",
    "    \n",
    "    return np.array(inputs).reshape(1, len(inputs))"
   ]
  },
  {
   "cell_type": "markdown",
   "metadata": {},
   "source": [
    "**Tournament**"
   ]
  },
  {
   "cell_type": "code",
   "execution_count": 13,
   "metadata": {},
   "outputs": [],
   "source": [
    "player = LSTMPlayer(model, reshape_history_padded_model, input_length=204)"
   ]
  },
  {
   "cell_type": "code",
   "execution_count": 17,
   "metadata": {},
   "outputs": [],
   "source": [
    "match = axl.Match([player, axl.Grudger()], turns=205)"
   ]
  },
  {
   "cell_type": "code",
   "execution_count": 18,
   "metadata": {},
   "outputs": [],
   "source": [
    "_ = match.play()"
   ]
  },
  {
   "cell_type": "code",
   "execution_count": 19,
   "metadata": {},
   "outputs": [
    {
     "data": {
      "text/plain": [
       "[(C, C),\n",
       " (C, C),\n",
       " (C, C),\n",
       " (C, C),\n",
       " (C, C),\n",
       " (C, C),\n",
       " (C, C),\n",
       " (C, C),\n",
       " (C, C),\n",
       " (C, C),\n",
       " (C, C),\n",
       " (C, C),\n",
       " (C, C),\n",
       " (C, C),\n",
       " (C, C),\n",
       " (C, C),\n",
       " (C, C),\n",
       " (C, C),\n",
       " (C, C),\n",
       " (C, C),\n",
       " (C, C),\n",
       " (C, C),\n",
       " (C, C),\n",
       " (C, C),\n",
       " (C, C),\n",
       " (C, C),\n",
       " (C, C),\n",
       " (C, C),\n",
       " (C, C),\n",
       " (C, C),\n",
       " (C, C),\n",
       " (C, C),\n",
       " (C, C),\n",
       " (C, C),\n",
       " (C, C),\n",
       " (C, C),\n",
       " (C, C),\n",
       " (C, C),\n",
       " (C, C),\n",
       " (C, C),\n",
       " (C, C),\n",
       " (C, C),\n",
       " (C, C),\n",
       " (C, C),\n",
       " (C, C),\n",
       " (C, C),\n",
       " (C, C),\n",
       " (C, C),\n",
       " (C, C),\n",
       " (C, C),\n",
       " (C, C),\n",
       " (C, C),\n",
       " (C, C),\n",
       " (C, C),\n",
       " (C, C),\n",
       " (C, C),\n",
       " (C, C),\n",
       " (C, C),\n",
       " (C, C),\n",
       " (C, C),\n",
       " (C, C),\n",
       " (C, C),\n",
       " (C, C),\n",
       " (C, C),\n",
       " (C, C),\n",
       " (C, C),\n",
       " (C, C),\n",
       " (C, C),\n",
       " (C, C),\n",
       " (C, C),\n",
       " (C, C),\n",
       " (C, C),\n",
       " (C, C),\n",
       " (C, C),\n",
       " (C, C),\n",
       " (C, C),\n",
       " (C, C),\n",
       " (C, C),\n",
       " (C, C),\n",
       " (C, C),\n",
       " (C, C),\n",
       " (C, C),\n",
       " (C, C),\n",
       " (C, C),\n",
       " (C, C),\n",
       " (C, C),\n",
       " (C, C),\n",
       " (C, C),\n",
       " (C, C),\n",
       " (C, C),\n",
       " (C, C),\n",
       " (C, C),\n",
       " (C, C),\n",
       " (C, C),\n",
       " (C, C),\n",
       " (C, C),\n",
       " (C, C),\n",
       " (C, C),\n",
       " (C, C),\n",
       " (C, C),\n",
       " (C, C),\n",
       " (C, C),\n",
       " (C, C),\n",
       " (C, C),\n",
       " (C, C),\n",
       " (C, C),\n",
       " (C, C),\n",
       " (C, C),\n",
       " (C, C),\n",
       " (C, C),\n",
       " (C, C),\n",
       " (C, C),\n",
       " (C, C),\n",
       " (C, C),\n",
       " (C, C),\n",
       " (C, C),\n",
       " (C, C),\n",
       " (C, C),\n",
       " (C, C),\n",
       " (C, C),\n",
       " (C, C),\n",
       " (C, C),\n",
       " (C, C),\n",
       " (C, C),\n",
       " (C, C),\n",
       " (C, C),\n",
       " (C, C),\n",
       " (C, C),\n",
       " (C, C),\n",
       " (C, C),\n",
       " (C, C),\n",
       " (C, C),\n",
       " (C, C),\n",
       " (C, C),\n",
       " (C, C),\n",
       " (C, C),\n",
       " (C, C),\n",
       " (C, C),\n",
       " (C, C),\n",
       " (C, C),\n",
       " (C, C),\n",
       " (C, C),\n",
       " (C, C),\n",
       " (C, C),\n",
       " (C, C),\n",
       " (C, C),\n",
       " (C, C),\n",
       " (C, C),\n",
       " (C, C),\n",
       " (C, C),\n",
       " (C, C),\n",
       " (C, C),\n",
       " (C, C),\n",
       " (C, C),\n",
       " (C, C),\n",
       " (C, C),\n",
       " (C, C),\n",
       " (C, C),\n",
       " (C, C),\n",
       " (C, C),\n",
       " (C, C),\n",
       " (C, C),\n",
       " (C, C),\n",
       " (C, C),\n",
       " (C, C),\n",
       " (C, C),\n",
       " (C, C),\n",
       " (C, C),\n",
       " (C, C),\n",
       " (C, C),\n",
       " (C, C),\n",
       " (C, C),\n",
       " (C, C),\n",
       " (C, C),\n",
       " (C, C),\n",
       " (C, C),\n",
       " (C, C),\n",
       " (C, C),\n",
       " (C, C),\n",
       " (C, C),\n",
       " (C, C),\n",
       " (C, C),\n",
       " (C, C),\n",
       " (C, C),\n",
       " (C, C),\n",
       " (C, C),\n",
       " (C, C),\n",
       " (C, C),\n",
       " (C, C),\n",
       " (C, C),\n",
       " (C, C),\n",
       " (C, C),\n",
       " (C, C),\n",
       " (C, C),\n",
       " (C, C),\n",
       " (C, C),\n",
       " (C, C),\n",
       " (C, C),\n",
       " (C, C),\n",
       " (C, C),\n",
       " (C, C),\n",
       " (C, C),\n",
       " (C, C),\n",
       " (C, C),\n",
       " (C, C)]"
      ]
     },
     "execution_count": 19,
     "metadata": {},
     "output_type": "execute_result"
    }
   ],
   "source": [
    "match.result"
   ]
  },
  {
   "cell_type": "code",
   "execution_count": 20,
   "metadata": {},
   "outputs": [],
   "source": [
    "strategies_tournament = [s() for s in axl.basic_strategies] + [player]"
   ]
  },
  {
   "cell_type": "code",
   "execution_count": 21,
   "metadata": {},
   "outputs": [],
   "source": [
    "tournament = axl.Tournament(players=strategies_tournament, turns=204, repetitions=50)"
   ]
  },
  {
   "cell_type": "code",
   "execution_count": 22,
   "metadata": {},
   "outputs": [
    {
     "name": "stderr",
     "output_type": "stream",
     "text": [
      "//anaconda3/envs/rnn/lib/python3.6/site-packages/dask/base.py:835: UserWarning: The get= keyword has been deprecated. Please use the scheduler= keyword instead with the name of the desired scheduler like 'threads' or 'processes'\n",
      "  warnings.warn(\"The get= keyword has been deprecated. \"\n"
     ]
    }
   ],
   "source": [
    "results = tournament.play(progress_bar=False)"
   ]
  },
  {
   "cell_type": "code",
   "execution_count": 23,
   "metadata": {},
   "outputs": [
    {
     "name": "stderr",
     "output_type": "stream",
     "text": [
      "//anaconda3/envs/rnn/lib/python3.6/site-packages/ipykernel_launcher.py:3: UserWarning: Matplotlib is currently using module://ipykernel.pylab.backend_inline, which is a non-GUI backend, so cannot show the figure.\n",
      "  This is separate from the ipykernel package so we can avoid doing imports until\n"
     ]
    },
    {
     "data": {
      "image/png": "[encoded data removed]",
      "text/plain": [
       "<Figure size 864x432 with 1 Axes>"
      ]
     },
     "metadata": {
      "needs_background": "light"
     },
     "output_type": "display_data"
    }
   ],
   "source": [
    "plot = axl.Plot(results)\n",
    "p = plot.boxplot()\n",
    "p.show()"
   ]
  },
  {
   "cell_type": "markdown",
   "metadata": {},
   "source": [
    "**classification**"
   ]
  },
  {
   "cell_type": "code",
   "execution_count": 24,
   "metadata": {},
   "outputs": [],
   "source": [
    "classification = load_model('output_basic_tournament/basic/output_lstm_classification/model-over-time.h5')"
   ]
  },
  {
   "cell_type": "code",
   "execution_count": 25,
   "metadata": {},
   "outputs": [],
   "source": [
    "test_input  = np.array([0, 1, 2])\n",
    "test_input = test_input.reshape((1, 3, 1))"
   ]
  },
  {
   "cell_type": "code",
   "execution_count": 26,
   "metadata": {},
   "outputs": [
    {
     "data": {
      "text/plain": [
       "0.69983095"
      ]
     },
     "execution_count": 26,
     "metadata": {},
     "output_type": "execute_result"
    }
   ],
   "source": [
    "classification.predict(test_input)[0][-1][0]"
   ]
  },
  {
   "cell_type": "code",
   "execution_count": 27,
   "metadata": {},
   "outputs": [],
   "source": [
    "def reshape_history_lstm_model(history):\n",
    "    return np.array(history).reshape(1, len(history), 1)"
   ]
  },
  {
   "cell_type": "code",
   "execution_count": 28,
   "metadata": {},
   "outputs": [],
   "source": [
    "from axelrod.random_ import random_choice\n",
    "\n",
    "C, D = axl.Action.C, axl.Action.D\n",
    "\n",
    "class LSTMPlayer(axl.Player):\n",
    "    name = \"The LSTM homie\"\n",
    "    classifier = {\n",
    "        \"memory_depth\": float(\"inf\"),\n",
    "        \"stochastic\": False,\n",
    "        \"inspects_source\": False,\n",
    "        \"manipulates_source\": False,\n",
    "        \"manipulates_state\": False,\n",
    "    }\n",
    "\n",
    "    def __init__(self, model, reshape_history_funct, opening_probability=0.70):\n",
    "        self.model = model\n",
    "        self.opening_probability = opening_probability\n",
    "        self.reshape_history_function = reshape_history_funct\n",
    "        super().__init__()\n",
    "\n",
    "    def strategy(self, opponent):\n",
    "        if len(self.history) == 0:\n",
    "            return random_choice(self.opening_probability)\n",
    "\n",
    "        history = [action.value for action in opponent.history]\n",
    "\n",
    "        prediction = self.model.predict(self.reshape_history_function(history))\n",
    "    \n",
    "\n",
    "        return axl.Action(round(prediction[0][-1][0]))\n",
    "\n",
    "    def __repr__(self):\n",
    "        return self.name"
   ]
  },
  {
   "cell_type": "code",
   "execution_count": 29,
   "metadata": {},
   "outputs": [],
   "source": [
    "player = LSTMPlayer(classification , reshape_history_lstm_model)"
   ]
  },
  {
   "cell_type": "code",
   "execution_count": 30,
   "metadata": {},
   "outputs": [],
   "source": [
    "strategies_tournament = [s() for s in axl.basic_strategies] + [player]"
   ]
  },
  {
   "cell_type": "code",
   "execution_count": 31,
   "metadata": {},
   "outputs": [],
   "source": [
    "tournament = axl.Tournament(players=strategies_tournament, turns=204, repetitions=1)"
   ]
  },
  {
   "cell_type": "code",
   "execution_count": 32,
   "metadata": {},
   "outputs": [],
   "source": [
    "results = tournament.play(progress_bar=False)"
   ]
  },
  {
   "cell_type": "code",
   "execution_count": 33,
   "metadata": {},
   "outputs": [
    {
     "name": "stderr",
     "output_type": "stream",
     "text": [
      "//anaconda3/envs/rnn/lib/python3.6/site-packages/ipykernel_launcher.py:3: UserWarning: Matplotlib is currently using module://ipykernel.pylab.backend_inline, which is a non-GUI backend, so cannot show the figure.\n",
      "  This is separate from the ipykernel package so we can avoid doing imports until\n"
     ]
    },
    {
     "data": {
      "image/png": "[encoded data removed]",
      "text/plain": [
       "<Figure size 864x432 with 1 Axes>"
      ]
     },
     "metadata": {
      "needs_background": "light"
     },
     "output_type": "display_data"
    }
   ],
   "source": [
    "plot = axl.Plot(results)\n",
    "p = plot.boxplot()\n",
    "p.show()"
   ]
  },
  {
   "cell_type": "code",
   "execution_count": 37,
   "metadata": {},
   "outputs": [],
   "source": [
    "match = axl.Match([player, axl.Grudger()], turns=5)"
   ]
  },
  {
   "cell_type": "code",
   "execution_count": 38,
   "metadata": {},
   "outputs": [],
   "source": [
    "_ = match.play()"
   ]
  },
  {
   "cell_type": "code",
   "execution_count": 39,
   "metadata": {},
   "outputs": [
    {
     "data": {
      "text/plain": [
       "[(C, C), (C, C), (C, C), (C, C), (C, C)]"
      ]
     },
     "execution_count": 39,
     "metadata": {},
     "output_type": "execute_result"
    }
   ],
   "source": [
    "match.result"
   ]
  },
  {
   "cell_type": "code",
   "execution_count": 40,
   "metadata": {},
   "outputs": [],
   "source": [
    "valid = pd.read_csv('output_basic_tournament/basic/output_lstm_classification/validation_measures_run_100_1.csv',\n",
    "                    index_col=0)"
   ]
  },
  {
   "cell_type": "code",
   "execution_count": 41,
   "metadata": {},
   "outputs": [
    {
     "data": {
      "text/plain": [
       "Index(['acc', 'val_acc', 'loss', 'val_loss'], dtype='object')"
      ]
     },
     "execution_count": 41,
     "metadata": {},
     "output_type": "execute_result"
    }
   ],
   "source": [
    "valid.columns"
   ]
  },
  {
   "cell_type": "code",
   "execution_count": 42,
   "metadata": {},
   "outputs": [
    {
     "data": {
      "image/png": "[encoded data removed]",
      "text/plain": [
       "<Figure size 432x288 with 1 Axes>"
      ]
     },
     "metadata": {
      "needs_background": "light"
     },
     "output_type": "display_data"
    }
   ],
   "source": [
    "plt.plot(valid['acc'], ':')\n",
    "plt.plot(valid['val_acc']);"
   ]
  },
  {
   "cell_type": "code",
   "execution_count": 43,
   "metadata": {},
   "outputs": [
    {
     "data": {
      "image/png": "[encoded data removed]",
      "text/plain": [
       "<Figure size 432x288 with 1 Axes>"
      ]
     },
     "metadata": {
      "needs_background": "light"
     },
     "output_type": "display_data"
    }
   ],
   "source": [
    "plt.plot(valid['loss'], ':')\n",
    "plt.plot(valid['val_loss']);"
   ]
  },
  {
   "cell_type": "code",
   "execution_count": 44,
   "metadata": {},
   "outputs": [],
   "source": [
    "classification = load_model('output_basic_tournament/basic/output_lstm_classification/final_lstm_model.h5')"
   ]
  },
  {
   "cell_type": "code",
   "execution_count": 45,
   "metadata": {},
   "outputs": [],
   "source": [
    "player = LSTMPlayer(classification , reshape_history_lstm_model)"
   ]
  },
  {
   "cell_type": "code",
   "execution_count": 46,
   "metadata": {},
   "outputs": [],
   "source": [
    "strategies_tournament = [s() for s in axl.basic_strategies] + [player]"
   ]
  },
  {
   "cell_type": "code",
   "execution_count": 47,
   "metadata": {},
   "outputs": [],
   "source": [
    "tournament = axl.Tournament(players=strategies_tournament, turns=204, repetitions=10)"
   ]
  },
  {
   "cell_type": "code",
   "execution_count": 48,
   "metadata": {},
   "outputs": [],
   "source": [
    "results = tournament.play(progress_bar=False)"
   ]
  },
  {
   "cell_type": "code",
   "execution_count": 49,
   "metadata": {},
   "outputs": [
    {
     "name": "stderr",
     "output_type": "stream",
     "text": [
      "//anaconda3/envs/rnn/lib/python3.6/site-packages/ipykernel_launcher.py:3: UserWarning: Matplotlib is currently using module://ipykernel.pylab.backend_inline, which is a non-GUI backend, so cannot show the figure.\n",
      "  This is separate from the ipykernel package so we can avoid doing imports until\n"
     ]
    },
    {
     "data": {
      "image/png": "[encoded data removed]",
      "text/plain": [
       "<Figure size 864x432 with 1 Axes>"
      ]
     },
     "metadata": {
      "needs_background": "light"
     },
     "output_type": "display_data"
    }
   ],
   "source": [
    "plot = axl.Plot(results)\n",
    "p = plot.boxplot()\n",
    "p.show()"
   ]
  }
 ],
 "metadata": {
  "kernelspec": {
   "display_name": "rnn",
   "language": "python",
   "name": "rnn"
  },
  "language_info": {
   "codemirror_mode": {
    "name": "ipython",
    "version": 3
   },
   "file_extension": ".py",
   "mimetype": "text/x-python",
   "name": "python",
   "nbconvert_exporter": "python",
   "pygments_lexer": "ipython3",
   "version": "3.6.7"
  }
 },
 "nbformat": 4,
 "nbformat_minor": 2
}
