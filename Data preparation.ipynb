{
 "cells": [
  {
   "cell_type": "code",
   "execution_count": 1,
   "metadata": {},
   "outputs": [],
   "source": [
    "import pandas as pd"
   ]
  },
  {
   "cell_type": "code",
   "execution_count": 4,
   "metadata": {},
   "outputs": [],
   "source": [
    "from pathlib import Path\n",
    "import sequence_sensei\n",
    "import numpy as np"
   ]
  },
  {
   "cell_type": "code",
   "execution_count": 3,
   "metadata": {},
   "outputs": [],
   "source": [
    "import axelrod as axl"
   ]
  },
  {
   "cell_type": "code",
   "execution_count": 5,
   "metadata": {},
   "outputs": [
    {
     "data": {
      "text/plain": [
       "'4.2.0'"
      ]
     },
     "execution_count": 5,
     "metadata": {},
     "output_type": "execute_result"
    }
   ],
   "source": [
    "axl.__version__"
   ]
  },
  {
   "cell_type": "code",
   "execution_count": 59,
   "metadata": {},
   "outputs": [],
   "source": [
    "dfs = []\n",
    "for file in Path(\"raw_data/\").glob(\"*.csv\"):\n",
    "    dfs.append(pd.read_csv(file, index_col=0,))"
   ]
  },
  {
   "cell_type": "code",
   "execution_count": 60,
   "metadata": {},
   "outputs": [],
   "source": [
    "df = pd.concat(dfs).reset_index(drop=True)"
   ]
  },
  {
   "cell_type": "code",
   "execution_count": 61,
   "metadata": {},
   "outputs": [
    {
     "data": {
      "text/html": [
       "<div>\n",
       "<style scoped>\n",
       "    .dataframe tbody tr th:only-of-type {\n",
       "        vertical-align: middle;\n",
       "    }\n",
       "\n",
       "    .dataframe tbody tr th {\n",
       "        vertical-align: top;\n",
       "    }\n",
       "\n",
       "    .dataframe thead th {\n",
       "        text-align: right;\n",
       "    }\n",
       "</style>\n",
       "<table border=\"1\" class=\"dataframe\">\n",
       "  <thead>\n",
       "    <tr style=\"text-align: right;\">\n",
       "      <th></th>\n",
       "      <th>index</th>\n",
       "      <th>opponent</th>\n",
       "      <th>gene_0</th>\n",
       "      <th>gene_1</th>\n",
       "      <th>gene_2</th>\n",
       "      <th>gene_3</th>\n",
       "      <th>gene_4</th>\n",
       "      <th>gene_5</th>\n",
       "      <th>gene_6</th>\n",
       "      <th>gene_7</th>\n",
       "      <th>...</th>\n",
       "      <th>gene_195</th>\n",
       "      <th>gene_196</th>\n",
       "      <th>gene_197</th>\n",
       "      <th>gene_198</th>\n",
       "      <th>gene_199</th>\n",
       "      <th>gene_200</th>\n",
       "      <th>gene_201</th>\n",
       "      <th>gene_202</th>\n",
       "      <th>gene_203</th>\n",
       "      <th>gene_204</th>\n",
       "    </tr>\n",
       "  </thead>\n",
       "  <tbody>\n",
       "    <tr>\n",
       "      <th>0</th>\n",
       "      <td>104658</td>\n",
       "      <td>PSO Gambler 2_2_2</td>\n",
       "      <td>1</td>\n",
       "      <td>1</td>\n",
       "      <td>1</td>\n",
       "      <td>1</td>\n",
       "      <td>1</td>\n",
       "      <td>1</td>\n",
       "      <td>1</td>\n",
       "      <td>1</td>\n",
       "      <td>...</td>\n",
       "      <td>1</td>\n",
       "      <td>1</td>\n",
       "      <td>1</td>\n",
       "      <td>1</td>\n",
       "      <td>1</td>\n",
       "      <td>1</td>\n",
       "      <td>1</td>\n",
       "      <td>1</td>\n",
       "      <td>1</td>\n",
       "      <td>1</td>\n",
       "    </tr>\n",
       "    <tr>\n",
       "      <th>1</th>\n",
       "      <td>125559</td>\n",
       "      <td>Getzler</td>\n",
       "      <td>1</td>\n",
       "      <td>1</td>\n",
       "      <td>1</td>\n",
       "      <td>1</td>\n",
       "      <td>1</td>\n",
       "      <td>1</td>\n",
       "      <td>1</td>\n",
       "      <td>1</td>\n",
       "      <td>...</td>\n",
       "      <td>1</td>\n",
       "      <td>1</td>\n",
       "      <td>1</td>\n",
       "      <td>1</td>\n",
       "      <td>1</td>\n",
       "      <td>1</td>\n",
       "      <td>0</td>\n",
       "      <td>1</td>\n",
       "      <td>0</td>\n",
       "      <td>0</td>\n",
       "    </tr>\n",
       "    <tr>\n",
       "      <th>2</th>\n",
       "      <td>103232</td>\n",
       "      <td>Stochastic WSLS</td>\n",
       "      <td>0</td>\n",
       "      <td>0</td>\n",
       "      <td>0</td>\n",
       "      <td>0</td>\n",
       "      <td>1</td>\n",
       "      <td>1</td>\n",
       "      <td>0</td>\n",
       "      <td>1</td>\n",
       "      <td>...</td>\n",
       "      <td>0</td>\n",
       "      <td>0</td>\n",
       "      <td>0</td>\n",
       "      <td>0</td>\n",
       "      <td>0</td>\n",
       "      <td>0</td>\n",
       "      <td>0</td>\n",
       "      <td>0</td>\n",
       "      <td>0</td>\n",
       "      <td>0</td>\n",
       "    </tr>\n",
       "    <tr>\n",
       "      <th>3</th>\n",
       "      <td>103233</td>\n",
       "      <td>Stochastic WSLS</td>\n",
       "      <td>0</td>\n",
       "      <td>0</td>\n",
       "      <td>0</td>\n",
       "      <td>0</td>\n",
       "      <td>1</td>\n",
       "      <td>1</td>\n",
       "      <td>0</td>\n",
       "      <td>1</td>\n",
       "      <td>...</td>\n",
       "      <td>0</td>\n",
       "      <td>0</td>\n",
       "      <td>0</td>\n",
       "      <td>0</td>\n",
       "      <td>0</td>\n",
       "      <td>0</td>\n",
       "      <td>0</td>\n",
       "      <td>0</td>\n",
       "      <td>0</td>\n",
       "      <td>0</td>\n",
       "    </tr>\n",
       "    <tr>\n",
       "      <th>4</th>\n",
       "      <td>103234</td>\n",
       "      <td>Stochastic WSLS</td>\n",
       "      <td>0</td>\n",
       "      <td>0</td>\n",
       "      <td>0</td>\n",
       "      <td>0</td>\n",
       "      <td>1</td>\n",
       "      <td>1</td>\n",
       "      <td>0</td>\n",
       "      <td>1</td>\n",
       "      <td>...</td>\n",
       "      <td>0</td>\n",
       "      <td>0</td>\n",
       "      <td>0</td>\n",
       "      <td>0</td>\n",
       "      <td>0</td>\n",
       "      <td>0</td>\n",
       "      <td>0</td>\n",
       "      <td>0</td>\n",
       "      <td>0</td>\n",
       "      <td>0</td>\n",
       "    </tr>\n",
       "  </tbody>\n",
       "</table>\n",
       "<p>5 rows × 207 columns</p>\n",
       "</div>"
      ],
      "text/plain": [
       "    index           opponent  gene_0  gene_1  gene_2  gene_3  gene_4  gene_5  \\\n",
       "0  104658  PSO Gambler 2_2_2       1       1       1       1       1       1   \n",
       "1  125559            Getzler       1       1       1       1       1       1   \n",
       "2  103232    Stochastic WSLS       0       0       0       0       1       1   \n",
       "3  103233    Stochastic WSLS       0       0       0       0       1       1   \n",
       "4  103234    Stochastic WSLS       0       0       0       0       1       1   \n",
       "\n",
       "   gene_6  gene_7    ...     gene_195  gene_196  gene_197  gene_198  gene_199  \\\n",
       "0       1       1    ...            1         1         1         1         1   \n",
       "1       1       1    ...            1         1         1         1         1   \n",
       "2       0       1    ...            0         0         0         0         0   \n",
       "3       0       1    ...            0         0         0         0         0   \n",
       "4       0       1    ...            0         0         0         0         0   \n",
       "\n",
       "   gene_200  gene_201  gene_202  gene_203  gene_204  \n",
       "0         1         1         1         1         1  \n",
       "1         1         0         1         0         0  \n",
       "2         0         0         0         0         0  \n",
       "3         0         0         0         0         0  \n",
       "4         0         0         0         0         0  \n",
       "\n",
       "[5 rows x 207 columns]"
      ]
     },
     "execution_count": 61,
     "metadata": {},
     "output_type": "execute_result"
    }
   ],
   "source": [
    "df.head()"
   ]
  },
  {
   "cell_type": "code",
   "execution_count": 62,
   "metadata": {},
   "outputs": [],
   "source": [
    "df = df[~(df['opponent'].str.contains('Majority'))]"
   ]
  },
  {
   "cell_type": "code",
   "execution_count": 69,
   "metadata": {},
   "outputs": [],
   "source": [
    "df.to_csv('targets.csv')"
   ]
  },
  {
   "cell_type": "code",
   "execution_count": 52,
   "metadata": {},
   "outputs": [
    {
     "data": {
      "text/plain": [
       "3688"
      ]
     },
     "execution_count": 52,
     "metadata": {},
     "output_type": "execute_result"
    }
   ],
   "source": [
    "len(df)"
   ]
  },
  {
   "cell_type": "code",
   "execution_count": 28,
   "metadata": {},
   "outputs": [],
   "source": [
    "import axelrod as axl"
   ]
  },
  {
   "cell_type": "code",
   "execution_count": 29,
   "metadata": {},
   "outputs": [],
   "source": [
    "strategies = {strategy().name: strategy() for strategy in axl.all_strategies}"
   ]
  },
  {
   "cell_type": "code",
   "execution_count": 54,
   "metadata": {},
   "outputs": [],
   "source": [
    "opponents_moves = []\n",
    "for opponent in df['opponent']:\n",
    "    \n",
    "    opponent = strategies[opponent.split(':')[0]]\n",
    "    \n",
    "    sequence = sequence_sensei.get_sequence_str(df.iloc[0].values[-205:])\n",
    "    cycler = axl.Cycler(sequence)\n",
    "\n",
    "    match = axl.Match([opponent, cycler], turns=205)\n",
    "    _ = match.play()\n",
    "    \n",
    "    moves_opp, moves_cycler = zip(*match.result)\n",
    "    \n",
    "    assert sequence_sensei.get_sequence_str(moves_cycler) == sequence\n",
    "    \n",
    "    opponents_moves.append(moves_opp)"
   ]
  },
  {
   "cell_type": "code",
   "execution_count": 55,
   "metadata": {},
   "outputs": [
    {
     "data": {
      "text/plain": [
       "3688"
      ]
     },
     "execution_count": 55,
     "metadata": {},
     "output_type": "execute_result"
    }
   ],
   "source": [
    "len(opponents_moves)"
   ]
  },
  {
   "cell_type": "markdown",
   "metadata": {},
   "source": [
    "**Transform Data for RNN**"
   ]
  },
  {
   "cell_type": "code",
   "execution_count": 56,
   "metadata": {},
   "outputs": [],
   "source": [
    "sequences = [[move.value for move in moves] for moves in opponents_moves]"
   ]
  },
  {
   "cell_type": "code",
   "execution_count": 57,
   "metadata": {},
   "outputs": [],
   "source": [
    "data = pd.DataFrame(sequences)"
   ]
  },
  {
   "cell_type": "code",
   "execution_count": 58,
   "metadata": {},
   "outputs": [],
   "source": [
    "data.to_csv('sequences.csv')"
   ]
  },
  {
   "cell_type": "code",
   "execution_count": 10,
   "metadata": {},
   "outputs": [],
   "source": [
    "def prepare_sequence_format(row):\n",
    "\n",
    "    data = np.zeros(shape=(len(row), len(row)))\n",
    "    values = []\n",
    "\n",
    "    for i, value in enumerate(row):\n",
    "        if value == 1:\n",
    "            values.append(value)\n",
    "        else:\n",
    "            values.append(-1)\n",
    "        for j, item in enumerate(values):\n",
    "            data[i, j] = item\n",
    "            \n",
    "    return data"
   ]
  },
  {
   "cell_type": "code",
   "execution_count": 18,
   "metadata": {},
   "outputs": [],
   "source": [
    "data = np.array([prepare_sequence_format(row) for row in sequences])"
   ]
  },
  {
   "cell_type": "code",
   "execution_count": 19,
   "metadata": {},
   "outputs": [],
   "source": [
    "validation = np.array([[1 if value == 1 else -1 for value in row] for row in sequences])"
   ]
  },
  {
   "cell_type": "code",
   "execution_count": 20,
   "metadata": {},
   "outputs": [
    {
     "data": {
      "text/plain": [
       "(5, 205)"
      ]
     },
     "execution_count": 20,
     "metadata": {},
     "output_type": "execute_result"
    }
   ],
   "source": [
    "validation.shape"
   ]
  },
  {
   "cell_type": "code",
   "execution_count": 21,
   "metadata": {},
   "outputs": [],
   "source": [
    "data = np.array([np.reshape(row, (row.shape[0], 1, row.shape[1])) for row in data])"
   ]
  },
  {
   "cell_type": "code",
   "execution_count": 22,
   "metadata": {},
   "outputs": [
    {
     "data": {
      "text/plain": [
       "(1, 205)"
      ]
     },
     "execution_count": 22,
     "metadata": {},
     "output_type": "execute_result"
    }
   ],
   "source": [
    "data.shape[2:]"
   ]
  },
  {
   "cell_type": "code",
   "execution_count": 23,
   "metadata": {},
   "outputs": [],
   "source": [
    "# data = np.reshape(data, (data.shape[0], 1, data.shape[1]))\n",
    "# validation = np.reshape(validation, (validation.shape[0], 1, validation.shape[1]))"
   ]
  },
  {
   "cell_type": "markdown",
   "metadata": {},
   "source": [
    "**First Fitting to the model**"
   ]
  },
  {
   "cell_type": "code",
   "execution_count": 24,
   "metadata": {},
   "outputs": [
    {
     "name": "stderr",
     "output_type": "stream",
     "text": [
      "Using TensorFlow backend.\n"
     ]
    }
   ],
   "source": [
    "from keras.models import Sequential\n",
    "from keras.layers import LSTM, Dense, Flatten"
   ]
  },
  {
   "cell_type": "code",
   "execution_count": 27,
   "metadata": {},
   "outputs": [
    {
     "name": "stdout",
     "output_type": "stream",
     "text": [
      "WARNING:tensorflow:From /home/nightwing/anaconda3/envs/rnn/lib/python3.6/site-packages/tensorflow/python/framework/op_def_library.py:263: colocate_with (from tensorflow.python.framework.ops) is deprecated and will be removed in a future version.\n",
      "Instructions for updating:\n",
      "Colocations handled automatically by placer.\n"
     ]
    }
   ],
   "source": [
    "model =  Sequential()\n",
    "model.add(LSTM(205, input_shape=data.shape[2:]))\n",
    "\n",
    "model.add(Dense(205))"
   ]
  },
  {
   "cell_type": "code",
   "execution_count": 28,
   "metadata": {},
   "outputs": [],
   "source": [
    "model.compile(loss='sparse_categorical_crossentropy',\n",
    "              metrics=['accuracy'],\n",
    "              optimizer='adam')"
   ]
  },
  {
   "cell_type": "code",
   "execution_count": 29,
   "metadata": {},
   "outputs": [
    {
     "name": "stdout",
     "output_type": "stream",
     "text": [
      "WARNING:tensorflow:From /home/nightwing/anaconda3/envs/rnn/lib/python3.6/site-packages/tensorflow/python/ops/math_ops.py:3066: to_int32 (from tensorflow.python.ops.math_ops) is deprecated and will be removed in a future version.\n",
      "Instructions for updating:\n",
      "Use tf.cast instead.\n",
      "Epoch 1/10\n",
      "205/205 [==============================] - 4s 18ms/step - loss: 0.2276 - acc: 0.9854\n",
      "Epoch 2/10\n",
      "205/205 [==============================] - 3s 14ms/step - loss: 2.2584e-04 - acc: 1.0000\n",
      "Epoch 3/10\n",
      "205/205 [==============================] - 3s 14ms/step - loss: 5.7764e-05 - acc: 1.0000\n",
      "Epoch 4/10\n",
      "205/205 [==============================] - 3s 14ms/step - loss: 0.0021 - acc: 1.0000\n",
      "Epoch 5/10\n",
      "205/205 [==============================] - 3s 17ms/step - loss: 0.0013 - acc: 1.0000\n",
      "Epoch 6/10\n",
      "205/205 [==============================] - 3s 14ms/step - loss: 2.4640e-05 - acc: 1.0000\n",
      "Epoch 7/10\n",
      "205/205 [==============================] - 3s 16ms/step - loss: 2.4639e-05 - acc: 1.0000\n",
      "Epoch 8/10\n",
      "205/205 [==============================] - 3s 14ms/step - loss: 2.4636e-05 - acc: 1.0000\n",
      "Epoch 9/10\n",
      "205/205 [==============================] - 2s 12ms/step - loss: 2.4631e-05 - acc: 1.0000\n",
      "Epoch 10/10\n",
      "205/205 [==============================] - 2s 11ms/step - loss: 2.4626e-05 - acc: 1.0000\n"
     ]
    },
    {
     "data": {
      "text/plain": [
       "<keras.callbacks.History at 0x7fa7beb34550>"
      ]
     },
     "execution_count": 29,
     "metadata": {},
     "output_type": "execute_result"
    }
   ],
   "source": [
    "model.fit(data[0], validation[0], epochs=10, batch_size=1)"
   ]
  },
  {
   "cell_type": "code",
   "execution_count": 30,
   "metadata": {},
   "outputs": [
    {
     "name": "stdout",
     "output_type": "stream",
     "text": [
      "_________________________________________________________________\n",
      "Layer (type)                 Output Shape              Param #   \n",
      "=================================================================\n",
      "lstm_1 (LSTM)                (None, 205)               337020    \n",
      "_________________________________________________________________\n",
      "dense_1 (Dense)              (None, 205)               42230     \n",
      "=================================================================\n",
      "Total params: 379,250\n",
      "Trainable params: 379,250\n",
      "Non-trainable params: 0\n",
      "_________________________________________________________________\n"
     ]
    }
   ],
   "source": [
    "model.summary()"
   ]
  },
  {
   "cell_type": "code",
   "execution_count": 31,
   "metadata": {},
   "outputs": [],
   "source": [
    "from keras.utils.vis_utils import plot_model"
   ]
  },
  {
   "cell_type": "code",
   "execution_count": 32,
   "metadata": {},
   "outputs": [],
   "source": [
    "plot_model(model, to_file='model_plot.png', show_shapes=True, show_layer_names=True)"
   ]
  },
  {
   "cell_type": "code",
   "execution_count": 37,
   "metadata": {},
   "outputs": [
    {
     "name": "stdout",
     "output_type": "stream",
     "text": [
      "Epoch 1/10\n",
      "205/205 [==============================] - 3s 14ms/step - loss: 2.4625e-05 - acc: 1.0000\n",
      "Epoch 2/10\n",
      "205/205 [==============================] - 3s 14ms/step - loss: 2.4622e-05 - acc: 1.0000\n",
      "Epoch 3/10\n",
      "205/205 [==============================] - 3s 14ms/step - loss: 2.4617e-05 - acc: 1.0000\n",
      "Epoch 4/10\n",
      "205/205 [==============================] - 3s 16ms/step - loss: 2.4611e-05 - acc: 1.0000\n",
      "Epoch 5/10\n",
      "205/205 [==============================] - 3s 14ms/step - loss: 2.4605e-05 - acc: 1.0000\n",
      "Epoch 6/10\n",
      "205/205 [==============================] - 3s 15ms/step - loss: 2.4601e-05 - acc: 1.0000\n",
      "Epoch 7/10\n",
      "205/205 [==============================] - 3s 16ms/step - loss: 2.4595e-05 - acc: 1.0000\n",
      "Epoch 8/10\n",
      "205/205 [==============================] - 4s 19ms/step - loss: 2.4585e-05 - acc: 1.0000\n",
      "Epoch 9/10\n",
      "205/205 [==============================] - 3s 15ms/step - loss: 2.4578e-05 - acc: 1.0000\n",
      "Epoch 10/10\n",
      "205/205 [==============================] - 4s 17ms/step - loss: 2.4566e-05 - acc: 1.0000\n"
     ]
    }
   ],
   "source": [
    "history = model.fit(data[0], validation[0], epochs=10, batch_size=1)"
   ]
  },
  {
   "cell_type": "code",
   "execution_count": 38,
   "metadata": {},
   "outputs": [],
   "source": [
    "import matplotlib.pyplot as plt"
   ]
  },
  {
   "cell_type": "code",
   "execution_count": 40,
   "metadata": {},
   "outputs": [
    {
     "data": {
      "text/plain": [
       "{'acc': [1.0, 1.0, 1.0, 1.0, 1.0, 1.0, 1.0, 1.0, 1.0, 1.0],\n",
       " 'loss': [2.462528656640022e-05,\n",
       "  2.4621797735851098e-05,\n",
       "  2.4616564600941408e-05,\n",
       "  2.4611331483777952e-05,\n",
       "  2.4604935437886657e-05,\n",
       "  2.460086530268976e-05,\n",
       "  2.459505057919248e-05,\n",
       "  2.458458435373869e-05,\n",
       "  2.457760698545338e-05,\n",
       "  2.456597773366744e-05]}"
      ]
     },
     "execution_count": 40,
     "metadata": {},
     "output_type": "execute_result"
    }
   ],
   "source": [
    "history.history"
   ]
  },
  {
   "cell_type": "code",
   "execution_count": 41,
   "metadata": {},
   "outputs": [
    {
     "data": {
      "image/png": "[encoded data removed]",
      "text/plain": [
       "<Figure size 432x288 with 1 Axes>"
      ]
     },
     "metadata": {
      "needs_background": "light"
     },
     "output_type": "display_data"
    },
    {
     "data": {
      "image/png": "[encoded data removed]",
      "text/plain": [
       "<Figure size 432x288 with 1 Axes>"
      ]
     },
     "metadata": {
      "needs_background": "light"
     },
     "output_type": "display_data"
    }
   ],
   "source": [
    "# Plot training & validation accuracy values\n",
    "plt.plot(history.history['acc'])\n",
    "# plt.plot(history.history['val_acc'])\n",
    "plt.title('Model accuracy')\n",
    "plt.ylabel('Accuracy')\n",
    "plt.xlabel('Epoch')\n",
    "plt.legend(['Train'], loc='upper left')\n",
    "plt.show()\n",
    "\n",
    "# Plot training & validation loss values\n",
    "plt.plot(history.history['loss'])\n",
    "#plt.plot(history.history['val_loss'])\n",
    "plt.title('Model loss')\n",
    "plt.ylabel('Loss')\n",
    "plt.xlabel('Epoch')\n",
    "plt.legend(['Train'], loc='upper left')\n",
    "plt.show()"
   ]
  },
  {
   "cell_type": "markdown",
   "metadata": {},
   "source": [
    "**Multiple Data**"
   ]
  },
  {
   "cell_type": "code",
   "execution_count": null,
   "metadata": {},
   "outputs": [],
   "source": []
  }
 ],
 "metadata": {
  "kernelspec": {
   "display_name": "rnn",
   "language": "python",
   "name": "rnn"
  },
  "language_info": {
   "codemirror_mode": {
    "name": "ipython",
    "version": 3
   },
   "file_extension": ".py",
   "mimetype": "text/x-python",
   "name": "python",
   "nbconvert_exporter": "python",
   "pygments_lexer": "ipython3",
   "version": "3.6.6"
  }
 },
 "nbformat": 4,
 "nbformat_minor": 2
}
