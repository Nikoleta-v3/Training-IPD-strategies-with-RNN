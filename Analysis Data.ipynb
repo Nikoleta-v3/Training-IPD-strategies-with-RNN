{
 "cells": [
  {
   "cell_type": "code",
   "execution_count": 4,
   "metadata": {},
   "outputs": [],
   "source": [
    "import dask.dataframe as dd\n",
    "\n",
    "import pandas as pd\n"
   ]
  },
  {
   "cell_type": "code",
   "execution_count": 2,
   "metadata": {},
   "outputs": [],
   "source": [
    "import matplotlib.pyplot as plt\n",
    "\n",
    "%matplotlib inline"
   ]
  },
  {
   "cell_type": "code",
   "execution_count": 8,
   "metadata": {},
   "outputs": [],
   "source": [
    "from pathlib import Path\n",
    "import tqdm"
   ]
  },
  {
   "cell_type": "code",
   "execution_count": 7,
   "metadata": {},
   "outputs": [],
   "source": [
    "folders = []\n",
    "for path in Path(\"/media/nightwing/ext/Data/raw_data/\").glob(\"*\"):\n",
    "    folders.append(path)\n"
   ]
  },
  {
   "cell_type": "markdown",
   "metadata": {},
   "source": [
    "**Number of files**"
   ]
  },
  {
   "cell_type": "code",
   "execution_count": 6,
   "metadata": {},
   "outputs": [
    {
     "data": {
      "text/plain": [
       "762"
      ]
     },
     "execution_count": 6,
     "metadata": {},
     "output_type": "execute_result"
    }
   ],
   "source": [
    "len(folders)\n"
   ]
  },
  {
   "cell_type": "markdown",
   "metadata": {},
   "source": [
    "**Scores per parameters**"
   ]
  },
  {
   "cell_type": "code",
   "execution_count": 8,
   "metadata": {},
   "outputs": [],
   "source": [
    "ad_tft = dd.read_csv(\"%s/main.csv\" % folders[5])\n"
   ]
  },
  {
   "cell_type": "code",
   "execution_count": 36,
   "metadata": {},
   "outputs": [
    {
     "data": {
      "text/plain": [
       "Index(['opponent', 'seed', 'num. of generations', 'bottleneck',\n",
       "       'mutation probability', 'half size population', 'generation', 'index',\n",
       "       'score', 'gene_0',\n",
       "       ...\n",
       "       'gene_195', 'gene_196', 'gene_197', 'gene_198', 'gene_199', 'gene_200',\n",
       "       'gene_201', 'gene_202', 'gene_203', 'gene_204'],\n",
       "      dtype='object', length=214)"
      ]
     },
     "execution_count": 36,
     "metadata": {},
     "output_type": "execute_result"
    }
   ],
   "source": [
    "ad_tft.columns"
   ]
  },
  {
   "cell_type": "code",
   "execution_count": 9,
   "metadata": {},
   "outputs": [],
   "source": [
    "grp = ad_tft.groupby([\"bottleneck\", \"mutation probability\", \"half size population\"])[\n",
    "    \"score\"\n",
    "].max()\n"
   ]
  },
  {
   "cell_type": "code",
   "execution_count": 10,
   "metadata": {},
   "outputs": [
    {
     "data": {
      "text/plain": [
       "bottleneck  mutation probability  half size population\n",
       "10          0.01                  10                      3.039024\n",
       "            0.05                  10                      3.029268\n",
       "            0.10                  10                      3.000000\n",
       "20          0.01                  10                      3.000000\n",
       "10          0.01                  15                      3.039024\n",
       "20          0.05                  10                      3.000000\n",
       "            0.10                  10                      3.000000\n",
       "10          0.05                  15                      3.029268\n",
       "            0.10                  15                      3.000000\n",
       "20          0.01                  15                      3.039024\n",
       "            0.05                  15                      3.024390\n",
       "10          0.01                  20                      3.039024\n",
       "20          0.10                  15                      3.000000\n",
       "10          0.05                  20                      3.019512\n",
       "            0.10                  20                      3.000000\n",
       "20          0.01                  20                      3.039024\n",
       "            0.05                  20                      3.029268\n",
       "            0.10                  20                      3.000000\n",
       "Name: score, dtype: float64"
      ]
     },
     "execution_count": 10,
     "metadata": {},
     "output_type": "execute_result"
    }
   ],
   "source": [
    "grp.compute()\n"
   ]
  },
  {
   "cell_type": "code",
   "execution_count": 12,
   "metadata": {},
   "outputs": [],
   "source": [
    "tft = dd.read_csv(\"/media/nightwing/ext/Data/raw_data/Tit For Tat_nan/main.csv\")\n"
   ]
  },
  {
   "cell_type": "code",
   "execution_count": 13,
   "metadata": {},
   "outputs": [],
   "source": [
    "grp_tft = tft.groupby([\"bottleneck\", \"mutation probability\", \"half size population\"])[\n",
    "    \"score\"\n",
    "].max()\n"
   ]
  },
  {
   "cell_type": "code",
   "execution_count": 15,
   "metadata": {},
   "outputs": [
    {
     "data": {
      "text/plain": [
       "bottleneck  mutation probability  half size population\n",
       "10          0.01                  10                      3.009756\n",
       "            0.05                  10                      3.000000\n",
       "            0.10                  10                      3.000000\n",
       "20          0.01                  10                      3.000000\n",
       "10          0.01                  15                      3.009756\n",
       "20          0.05                  10                      3.000000\n",
       "            0.10                  10                      3.000000\n",
       "10          0.05                  15                      3.000000\n",
       "            0.10                  15                      3.000000\n",
       "20          0.01                  15                      3.009756\n",
       "            0.05                  15                      3.000000\n",
       "            0.10                  15                      3.000000\n",
       "10          0.01                  20                      3.009756\n",
       "            0.05                  20                      3.000000\n",
       "            0.10                  20                      3.000000\n",
       "20          0.01                  20                      3.009756\n",
       "            0.05                  20                      3.000000\n",
       "            0.10                  20                      3.000000\n",
       "Name: score, dtype: float64"
      ]
     },
     "execution_count": 15,
     "metadata": {},
     "output_type": "execute_result"
    }
   ],
   "source": [
    "grp_tft.compute()\n"
   ]
  },
  {
   "cell_type": "code",
   "execution_count": 16,
   "metadata": {},
   "outputs": [],
   "source": [
    "coop = dd.read_csv(\"/media/nightwing/ext/Data/raw_data/Cooperator_nan/main.csv\")\n"
   ]
  },
  {
   "cell_type": "code",
   "execution_count": 19,
   "metadata": {},
   "outputs": [],
   "source": [
    "grp_coop = coop.groupby([\"bottleneck\", \"mutation probability\", \"half size population\"])[\n",
    "    \"score\"\n",
    "].max()\n"
   ]
  },
  {
   "cell_type": "code",
   "execution_count": 20,
   "metadata": {},
   "outputs": [
    {
     "data": {
      "text/plain": [
       "bottleneck  mutation probability  half size population\n",
       "10          0.01                  10                      5.0\n",
       "            0.05                  10                      5.0\n",
       "            0.10                  10                      5.0\n",
       "20          0.01                  10                      5.0\n",
       "10          0.01                  15                      5.0\n",
       "20          0.05                  10                      5.0\n",
       "            0.10                  10                      5.0\n",
       "10          0.05                  15                      5.0\n",
       "            0.10                  15                      5.0\n",
       "20          0.01                  15                      5.0\n",
       "            0.05                  15                      5.0\n",
       "            0.10                  15                      5.0\n",
       "10          0.01                  20                      5.0\n",
       "            0.05                  20                      5.0\n",
       "            0.10                  20                      5.0\n",
       "20          0.01                  20                      5.0\n",
       "            0.05                  20                      5.0\n",
       "            0.10                  20                      5.0\n",
       "Name: score, dtype: float64"
      ]
     },
     "execution_count": 20,
     "metadata": {},
     "output_type": "execute_result"
    }
   ],
   "source": [
    "grp_coop.compute()\n"
   ]
  },
  {
   "cell_type": "markdown",
   "metadata": {},
   "source": [
    "**Creating Training data**"
   ]
  },
  {
   "cell_type": "code",
   "execution_count": 5,
   "metadata": {},
   "outputs": [],
   "source": [
    "last_generation = 2000\n",
    "bottleneck, mutation_probability, half_size_population = 20, 0.01, 20\n",
    "groubys = [\"gene_{}\".format(i) for i in range(205)]"
   ]
  },
  {
   "cell_type": "code",
   "execution_count": 9,
   "metadata": {},
   "outputs": [
    {
     "name": "stderr",
     "output_type": "stream",
     "text": [
      "100%|██████████| 1/1 [00:29<00:00, 29.07s/it]\n"
     ]
    }
   ],
   "source": [
    "for path in tqdm.tqdm(folders[:1]):\n",
    "    strategy = str(path).split('/')[-1]\n",
    "    \n",
    "    df = dd.read_csv(\"%s/main.csv\" % path)\n",
    "    \n",
    "    df = df[\n",
    "        (df[\"generation\"] == last_generation)\n",
    "        & (df[\"bottleneck\"] == bottleneck)\n",
    "        & (df[\"mutation probability\"] == mutation_probability)\n",
    "        & (df[\"half size population\"] == half_size_population)\n",
    "    ]\n",
    "\n",
    "    df = df[df[\"score\"] == df[\"score\"].max()][groubys].drop_duplicates().reset_index()\n",
    "    df = df.compute(num_workers=4)\n",
    "    df.to_csv('raw_data/%s_top_individuals.csv' % strategy)"
   ]
  }
 ],
 "metadata": {
  "kernelspec": {
   "display_name": "rnn",
   "language": "python",
   "name": "rnn"
  },
  "language_info": {
   "codemirror_mode": {
    "name": "ipython",
    "version": 3
   },
   "file_extension": ".py",
   "mimetype": "text/x-python",
   "name": "python",
   "nbconvert_exporter": "python",
   "pygments_lexer": "ipython3",
   "version": "3.6.6"
  }
 },
 "nbformat": 4,
 "nbformat_minor": 2
}
