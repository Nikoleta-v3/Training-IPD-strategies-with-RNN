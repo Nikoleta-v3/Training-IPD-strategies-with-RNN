{
 "cells": [
  {
   "cell_type": "code",
   "execution_count": 1,
   "metadata": {},
   "outputs": [],
   "source": [
    "import pandas as pd\n",
    "import glob\n",
    "import matplotlib.pyplot as plt\n",
    "\n",
    "from pathlib import Path\n",
    "\n",
    "import numpy as np"
   ]
  },
  {
   "cell_type": "code",
   "execution_count": 2,
   "metadata": {},
   "outputs": [],
   "source": [
    "def get_normalised_rank(row):\n",
    "    return row[\"Rank\"] / (row[\"size\"] - 1)"
   ]
  },
  {
   "cell_type": "code",
   "execution_count": 3,
   "metadata": {},
   "outputs": [],
   "source": [
    "def get_result_summaries(folder, lstm_type):  \n",
    "    results = []\n",
    "    path = f'{folder}'\n",
    "    \n",
    "    for opening in [0, 1, 0.78]:\n",
    "        dfs = []\n",
    "        for file in Path(path).glob(f'result_summary_{lstm_type}_seed_*_opening_{opening}.csv'):\n",
    "            df = pd.read_csv(file, index_col=0)\n",
    "            df['size'] = [size + 1 for size in df['size']]\n",
    "            df['Normalised_rank'] = df.apply(lambda row: get_normalised_rank(row), axis = 1)\n",
    "\n",
    "            dfs.append(df)\n",
    "        results.append(pd.concat(dfs))\n",
    "    return results"
   ]
  },
  {
   "cell_type": "markdown",
   "metadata": {},
   "source": [
    "**Aiming to 500**"
   ]
  },
  {
   "cell_type": "code",
   "execution_count": 4,
   "metadata": {},
   "outputs": [
    {
     "name": "stdout",
     "output_type": "stream",
     "text": [
      "88\n",
      "80\n"
     ]
    }
   ],
   "source": [
    "for lstm_type in ['sequence', 'classification']:\n",
    "    results = get_result_summaries('results_time_3/meta_tournament_results_all/', lstm_type)\n",
    "    print(len(results[0]['seed'].unique()))"
   ]
  },
  {
   "cell_type": "code",
   "execution_count": 5,
   "metadata": {},
   "outputs": [
    {
     "name": "stdout",
     "output_type": "stream",
     "text": [
      "69\n",
      "70\n"
     ]
    }
   ],
   "source": [
    "for lstm_type in ['sequence', 'classification']:\n",
    "    results = get_result_summaries('results_time_3/meta_tournament_results_basic/', lstm_type)\n",
    "    print(len(results[0]['seed'].unique()))"
   ]
  },
  {
   "cell_type": "code",
   "execution_count": 6,
   "metadata": {},
   "outputs": [
    {
     "name": "stdout",
     "output_type": "stream",
     "text": [
      "79\n",
      "70\n"
     ]
    }
   ],
   "source": [
    "for lstm_type in ['sequence', 'classification']:\n",
    "    results = get_result_summaries('results_time_3/meta_tournament_results_twenty/', lstm_type)\n",
    "    print(len(results[0]['seed'].unique()))"
   ]
  },
  {
   "cell_type": "code",
   "execution_count": 9,
   "metadata": {},
   "outputs": [
    {
     "name": "stdout",
     "output_type": "stream",
     "text": [
      "20\n",
      "71\n"
     ]
    }
   ],
   "source": [
    "for lstm_type in ['classification', 'sequence']:\n",
    "    results = get_result_summaries('results_time_3/meta_tournament_results_top_twenty/', lstm_type)\n",
    "    print(len(results[0]['seed'].unique()))"
   ]
  },
  {
   "cell_type": "code",
   "execution_count": null,
   "metadata": {},
   "outputs": [],
   "source": []
  }
 ],
 "metadata": {
  "kernelspec": {
   "display_name": "rnn",
   "language": "python",
   "name": "rnn"
  },
  "language_info": {
   "codemirror_mode": {
    "name": "ipython",
    "version": 3
   },
   "file_extension": ".py",
   "mimetype": "text/x-python",
   "name": "python",
   "nbconvert_exporter": "python",
   "pygments_lexer": "ipython3",
   "version": "3.6.7"
  }
 },
 "nbformat": 4,
 "nbformat_minor": 2
}
