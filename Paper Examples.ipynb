{
 "cells": [
  {
   "cell_type": "code",
   "execution_count": 2,
   "metadata": {},
   "outputs": [],
   "source": [
    "import axelrod as axl"
   ]
  },
  {
   "cell_type": "code",
   "execution_count": 3,
   "metadata": {},
   "outputs": [],
   "source": [
    "match = axl.Match([axl.CyclerCCD(), axl.TitForTat()], turns=8)"
   ]
  },
  {
   "cell_type": "code",
   "execution_count": 4,
   "metadata": {},
   "outputs": [],
   "source": [
    "_ = match.play()"
   ]
  },
  {
   "cell_type": "code",
   "execution_count": 5,
   "metadata": {},
   "outputs": [
    {
     "data": {
      "text/plain": [
       "[(C, C), (C, C), (D, C), (C, D), (C, C), (D, C), (C, D), (C, C)]"
      ]
     },
     "execution_count": 5,
     "metadata": {},
     "output_type": "execute_result"
    }
   ],
   "source": [
    "match.result"
   ]
  },
  {
   "cell_type": "code",
   "execution_count": 6,
   "metadata": {},
   "outputs": [
    {
     "data": {
      "text/plain": [
       "(2.75, 2.75)"
      ]
     },
     "execution_count": 6,
     "metadata": {},
     "output_type": "execute_result"
    }
   ],
   "source": [
    "match.final_score_per_turn()"
   ]
  },
  {
   "cell_type": "code",
   "execution_count": 7,
   "metadata": {},
   "outputs": [],
   "source": [
    "match.final_score_per_turn?"
   ]
  },
  {
   "cell_type": "code",
   "execution_count": 30,
   "metadata": {},
   "outputs": [],
   "source": [
    "x = 2"
   ]
  },
  {
   "cell_type": "code",
   "execution_count": 31,
   "metadata": {},
   "outputs": [
    {
     "data": {
      "text/plain": [
       "4.980487804878049"
      ]
     },
     "execution_count": 31,
     "metadata": {},
     "output_type": "execute_result"
    }
   ],
   "source": [
    "(3 * x + 5 * (205 - x)) / 205"
   ]
  },
  {
   "cell_type": "code",
   "execution_count": 12,
   "metadata": {},
   "outputs": [],
   "source": [
    "results = []\n",
    "scores = []\n",
    "for seed in range(5):\n",
    "    axl.seed(seed)\n",
    "    players = [axl.Random(), axl.Cooperator()]\n",
    "    match = axl.Match(players, turns=8)\n",
    "    _ = match.play()\n",
    "    \n",
    "    results.append(match.result)\n",
    "    scores.append(match.final_score_per_turn())"
   ]
  },
  {
   "cell_type": "code",
   "execution_count": 56,
   "metadata": {},
   "outputs": [
    {
     "name": "stdout",
     "output_type": "stream",
     "text": [
      "\\(D\\)&\\(D\\)&\\(C\\)&\\(C\\)&\\(D\\)&\\(C\\)&\\(D\\)&\\(C\\)\n",
      "\\(C\\)&\\(C\\)&\\(C\\)&\\(C\\)&\\(C\\)&\\(C\\)&\\(C\\)&\\(C\\)\n",
      "---------------------\n",
      "\\(C\\)&\\(D\\)&\\(D\\)&\\(C\\)&\\(C\\)&\\(C\\)&\\(D\\)&\\(D\\)\n",
      "\\(C\\)&\\(C\\)&\\(C\\)&\\(C\\)&\\(C\\)&\\(C\\)&\\(C\\)&\\(C\\)\n",
      "---------------------\n",
      "\\(D\\)&\\(D\\)&\\(C\\)&\\(C\\)&\\(D\\)&\\(D\\)&\\(D\\)&\\(C\\)\n",
      "\\(C\\)&\\(C\\)&\\(C\\)&\\(C\\)&\\(C\\)&\\(C\\)&\\(C\\)&\\(C\\)\n",
      "---------------------\n",
      "\\(C\\)&\\(D\\)&\\(C\\)&\\(D\\)&\\(D\\)&\\(C\\)&\\(C\\)&\\(D\\)\n",
      "\\(C\\)&\\(C\\)&\\(C\\)&\\(C\\)&\\(C\\)&\\(C\\)&\\(C\\)&\\(C\\)\n",
      "---------------------\n",
      "\\(C\\)&\\(C\\)&\\(C\\)&\\(C\\)&\\(C\\)&\\(C\\)&\\(D\\)&\\(D\\)\n",
      "\\(C\\)&\\(C\\)&\\(C\\)&\\(C\\)&\\(C\\)&\\(C\\)&\\(C\\)&\\(C\\)\n",
      "---------------------\n"
     ]
    }
   ],
   "source": [
    "for result in results:\n",
    "    x, y = zip(*result)\n",
    "    string_random = [f'\\({action}\\)' for action in x]\n",
    "    string_cooperator = [f'\\({action}\\)' for action in y]    \n",
    "    \n",
    "    print('&'.join(string_random))\n",
    "    print('&'.join(string_cooperator))\n",
    "    print('---------------------')"
   ]
  },
  {
   "cell_type": "code",
   "execution_count": 57,
   "metadata": {},
   "outputs": [
    {
     "data": {
      "text/plain": [
       "[(4.0, 1.5), (4.0, 1.5), (4.25, 1.125), (4.0, 1.5), (3.5, 2.25)]"
      ]
     },
     "execution_count": 57,
     "metadata": {},
     "output_type": "execute_result"
    }
   ],
   "source": [
    "scores"
   ]
  },
  {
   "cell_type": "markdown",
   "metadata": {},
   "source": [
    "**Size of initial population**"
   ]
  },
  {
   "cell_type": "code",
   "execution_count": 31,
   "metadata": {},
   "outputs": [],
   "source": [
    "import numpy as np"
   ]
  },
  {
   "cell_type": "code",
   "execution_count": 58,
   "metadata": {},
   "outputs": [],
   "source": [
    "def get_initial_population(half_size_of_population, sequence_length=200):\n",
    "    \"\"\"\n",
    "    Generates an initial population of sequences. Note that the length\n",
    "    of the population which is being generated is 2 * half_size_of_population.\n",
    "    \"\"\"\n",
    "    cuts = np.linspace(1, sequence_length, half_size_of_population, dtype=int)\n",
    "    sequences = []\n",
    "    for cut in cuts:\n",
    "        sequences.append(\n",
    "            [1 for _ in range(cut)] + [0 for _ in range(sequence_length - cut)]\n",
    "        )\n",
    "        sequences.append(\n",
    "            [0 for _ in range(cut)] + [1 for _ in range(sequence_length - cut)]\n",
    "        )\n",
    "\n",
    "    return sequences"
   ]
  },
  {
   "cell_type": "code",
   "execution_count": 63,
   "metadata": {},
   "outputs": [],
   "source": [
    "t = get_initial_population(4, 10)"
   ]
  },
  {
   "cell_type": "code",
   "execution_count": 64,
   "metadata": {},
   "outputs": [
    {
     "data": {
      "text/plain": [
       "[[1, 0, 0, 0, 0, 0, 0, 0, 0, 0],\n",
       " [0, 1, 1, 1, 1, 1, 1, 1, 1, 1],\n",
       " [1, 1, 1, 1, 0, 0, 0, 0, 0, 0],\n",
       " [0, 0, 0, 0, 1, 1, 1, 1, 1, 1],\n",
       " [1, 1, 1, 1, 1, 1, 1, 0, 0, 0],\n",
       " [0, 0, 0, 0, 0, 0, 0, 1, 1, 1],\n",
       " [1, 1, 1, 1, 1, 1, 1, 1, 1, 1],\n",
       " [0, 0, 0, 0, 0, 0, 0, 0, 0, 0]]"
      ]
     },
     "execution_count": 64,
     "metadata": {},
     "output_type": "execute_result"
    }
   ],
   "source": [
    "t"
   ]
  },
  {
   "cell_type": "code",
   "execution_count": 53,
   "metadata": {},
   "outputs": [],
   "source": [
    "half_size_of_population = 20\n",
    "sequence_length = 205"
   ]
  },
  {
   "cell_type": "code",
   "execution_count": 54,
   "metadata": {},
   "outputs": [],
   "source": [
    "cuts = np.linspace(1, sequence_length, half_size_of_population, dtype=int)"
   ]
  },
  {
   "cell_type": "code",
   "execution_count": 55,
   "metadata": {},
   "outputs": [
    {
     "data": {
      "text/plain": [
       "array([  1,  11,  22,  33,  43,  54,  65,  76,  86,  97, 108, 119, 129,\n",
       "       140, 151, 162, 172, 183, 194, 205])"
      ]
     },
     "execution_count": 55,
     "metadata": {},
     "output_type": "execute_result"
    }
   ],
   "source": [
    "cuts"
   ]
  },
  {
   "cell_type": "code",
   "execution_count": null,
   "metadata": {},
   "outputs": [],
   "source": []
  }
 ],
 "metadata": {
  "kernelspec": {
   "display_name": "rnn",
   "language": "python",
   "name": "rnn"
  },
  "language_info": {
   "codemirror_mode": {
    "name": "ipython",
    "version": 3
   },
   "file_extension": ".py",
   "mimetype": "text/x-python",
   "name": "python",
   "nbconvert_exporter": "python",
   "pygments_lexer": "ipython3",
   "version": "3.6.7"
  }
 },
 "nbformat": 4,
 "nbformat_minor": 2
}
